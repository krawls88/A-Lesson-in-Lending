{
 "cells": [
  {
   "cell_type": "code",
   "execution_count": 8,
   "metadata": {
    "collapsed": true
   },
   "outputs": [],
   "source": [
    "#LENDING CLUB DATA HAS BEEN CLEANED NOW DOING SOME DATA ANALYSIS"
   ]
  },
  {
   "cell_type": "code",
   "execution_count": 1,
   "metadata": {
    "collapsed": false
   },
   "outputs": [
    {
     "name": "stderr",
     "output_type": "stream",
     "text": [
      "/Users/punkymonkey/anaconda/lib/python2.7/site-packages/matplotlib/__init__.py:1041: UserWarning: Duplicate key in file \"/Users/punkymonkey/.matplotlib/matplotlibrc\", line #2\n",
      "  (fname, cnt))\n"
     ]
    }
   ],
   "source": [
    "import pandas as pd \n",
    "import matplotlib as plt\n",
    "import numpy as np\n",
    "import sklearn as sk \n",
    "import seaborn as sns\n",
    "import matplotlib.pyplot as plt\n",
    "import matplotlib as mpl\n",
    "%matplotlib inline"
   ]
  },
  {
   "cell_type": "code",
   "execution_count": 6,
   "metadata": {
    "collapsed": false
   },
   "outputs": [],
   "source": [
    "lending_data_df = pd.read_csv('Lending_Club_Data_Cleaned.csv')"
   ]
  },
  {
   "cell_type": "code",
   "execution_count": 7,
   "metadata": {
    "collapsed": false
   },
   "outputs": [
    {
     "name": "stdout",
     "output_type": "stream",
     "text": [
      "<class 'pandas.core.frame.DataFrame'>\n",
      "RangeIndex: 421095 entries, 0 to 421094\n",
      "Data columns (total 83 columns):\n",
      "loan_amnt                         421095 non-null float64\n",
      "grade                             421095 non-null object\n",
      "sub_grade                         421095 non-null object\n",
      "emp_length                        421095 non-null object\n",
      "home_ownership                    421095 non-null object\n",
      "annual_inc                        421095 non-null float64\n",
      "verification_status               421095 non-null object\n",
      "loan_status                       421095 non-null object\n",
      "purpose                           421095 non-null object\n",
      "addr_state                        421095 non-null object\n",
      "dti                               421095 non-null float64\n",
      "delinq_2yrs                       421095 non-null float64\n",
      "fico_range_low                    421095 non-null float64\n",
      "fico_range_high                   421095 non-null float64\n",
      "inq_last_6mths                    421095 non-null float64\n",
      "mths_since_last_delinq            421095 non-null float64\n",
      "mths_since_last_record            421095 non-null float64\n",
      "open_acc                          421095 non-null float64\n",
      "pub_rec                           421095 non-null float64\n",
      "revol_bal                         421095 non-null float64\n",
      "revol_util                        421095 non-null object\n",
      "total_acc                         421095 non-null float64\n",
      "recoveries                        421095 non-null float64\n",
      "collection_recovery_fee           421095 non-null float64\n",
      "last_fico_range_high              421095 non-null float64\n",
      "last_fico_range_low               421095 non-null float64\n",
      "collections_12_mths_ex_med        421095 non-null float64\n",
      "mths_since_last_major_derog       421095 non-null float64\n",
      "acc_now_delinq                    421095 non-null float64\n",
      "tot_coll_amt                      421095 non-null float64\n",
      "tot_cur_bal                       421095 non-null float64\n",
      "open_acc_6m                       421095 non-null float64\n",
      "open_il_6m                        421095 non-null float64\n",
      "open_il_12m                       421095 non-null float64\n",
      "open_il_24m                       421095 non-null float64\n",
      "mths_since_rcnt_il                421095 non-null float64\n",
      "total_bal_il                      421095 non-null float64\n",
      "il_util                           421095 non-null float64\n",
      "open_rv_12m                       421095 non-null float64\n",
      "open_rv_24m                       421095 non-null float64\n",
      "max_bal_bc                        421095 non-null float64\n",
      "all_util                          421095 non-null float64\n",
      "total_rev_hi_lim                  421095 non-null float64\n",
      "inq_fi                            421095 non-null float64\n",
      "total_cu_tl                       421095 non-null float64\n",
      "inq_last_12m                      421095 non-null float64\n",
      "acc_open_past_24mths              421095 non-null float64\n",
      "avg_cur_bal                       421095 non-null float64\n",
      "bc_open_to_buy                    421095 non-null float64\n",
      "bc_util                           421095 non-null float64\n",
      "chargeoff_within_12_mths          421095 non-null float64\n",
      "delinq_amnt                       421095 non-null float64\n",
      "mo_sin_old_il_acct                421095 non-null float64\n",
      "mo_sin_old_rev_tl_op              421095 non-null float64\n",
      "mo_sin_rcnt_rev_tl_op             421095 non-null float64\n",
      "mo_sin_rcnt_tl                    421095 non-null float64\n",
      "mort_acc                          421095 non-null float64\n",
      "mths_since_recent_bc              421095 non-null float64\n",
      "mths_since_recent_bc_dlq          421095 non-null float64\n",
      "mths_since_recent_inq             421095 non-null float64\n",
      "mths_since_recent_revol_delinq    421095 non-null float64\n",
      "num_accts_ever_120_pd             421095 non-null float64\n",
      "num_actv_bc_tl                    421095 non-null float64\n",
      "num_actv_rev_tl                   421095 non-null float64\n",
      "num_bc_sats                       421095 non-null float64\n",
      "num_bc_tl                         421095 non-null float64\n",
      "num_il_tl                         421095 non-null float64\n",
      "num_op_rev_tl                     421095 non-null float64\n",
      "num_rev_accts                     421095 non-null float64\n",
      "num_rev_tl_bal_gt_0               421095 non-null float64\n",
      "num_sats                          421095 non-null float64\n",
      "num_tl_120dpd_2m                  421095 non-null float64\n",
      "num_tl_30dpd                      421095 non-null float64\n",
      "num_tl_90g_dpd_24m                421095 non-null float64\n",
      "num_tl_op_past_12m                421095 non-null float64\n",
      "pct_tl_nvr_dlq                    421095 non-null float64\n",
      "percent_bc_gt_75                  421095 non-null float64\n",
      "pub_rec_bankruptcies              421095 non-null float64\n",
      "tax_liens                         421095 non-null float64\n",
      "tot_hi_cred_lim                   421095 non-null float64\n",
      "total_bal_ex_mort                 421095 non-null float64\n",
      "total_bc_limit                    421095 non-null float64\n",
      "total_il_high_credit_limit        421095 non-null float64\n",
      "dtypes: float64(74), object(9)\n",
      "memory usage: 266.7+ MB\n"
     ]
    }
   ],
   "source": [
    "lending_data_df.info()"
   ]
  },
  {
   "cell_type": "code",
   "execution_count": 8,
   "metadata": {
    "collapsed": false
   },
   "outputs": [
    {
     "data": {
      "text/html": [
       "<div>\n",
       "<table border=\"1\" class=\"dataframe\">\n",
       "  <thead>\n",
       "    <tr style=\"text-align: right;\">\n",
       "      <th></th>\n",
       "      <th>loan_amnt</th>\n",
       "      <th>annual_inc</th>\n",
       "      <th>dti</th>\n",
       "      <th>delinq_2yrs</th>\n",
       "      <th>fico_range_low</th>\n",
       "      <th>fico_range_high</th>\n",
       "      <th>inq_last_6mths</th>\n",
       "      <th>mths_since_last_delinq</th>\n",
       "      <th>mths_since_last_record</th>\n",
       "      <th>open_acc</th>\n",
       "      <th>...</th>\n",
       "      <th>num_tl_90g_dpd_24m</th>\n",
       "      <th>num_tl_op_past_12m</th>\n",
       "      <th>pct_tl_nvr_dlq</th>\n",
       "      <th>percent_bc_gt_75</th>\n",
       "      <th>pub_rec_bankruptcies</th>\n",
       "      <th>tax_liens</th>\n",
       "      <th>tot_hi_cred_lim</th>\n",
       "      <th>total_bal_ex_mort</th>\n",
       "      <th>total_bc_limit</th>\n",
       "      <th>total_il_high_credit_limit</th>\n",
       "    </tr>\n",
       "  </thead>\n",
       "  <tbody>\n",
       "    <tr>\n",
       "      <th>count</th>\n",
       "      <td>421095.000000</td>\n",
       "      <td>4.210950e+05</td>\n",
       "      <td>421095.000000</td>\n",
       "      <td>421095.000000</td>\n",
       "      <td>421095.000000</td>\n",
       "      <td>421095.000000</td>\n",
       "      <td>421095.000000</td>\n",
       "      <td>421095.000000</td>\n",
       "      <td>421095.000000</td>\n",
       "      <td>421095.000000</td>\n",
       "      <td>...</td>\n",
       "      <td>421095.000000</td>\n",
       "      <td>421095.000000</td>\n",
       "      <td>421095.000000</td>\n",
       "      <td>421095.000000</td>\n",
       "      <td>421095.000000</td>\n",
       "      <td>421095.000000</td>\n",
       "      <td>4.210950e+05</td>\n",
       "      <td>4.210950e+05</td>\n",
       "      <td>421095.000000</td>\n",
       "      <td>4.210950e+05</td>\n",
       "    </tr>\n",
       "    <tr>\n",
       "      <th>mean</th>\n",
       "      <td>15240.285862</td>\n",
       "      <td>7.696561e+04</td>\n",
       "      <td>19.195989</td>\n",
       "      <td>0.347397</td>\n",
       "      <td>693.649818</td>\n",
       "      <td>697.649948</td>\n",
       "      <td>0.572690</td>\n",
       "      <td>17.543787</td>\n",
       "      <td>11.768102</td>\n",
       "      <td>11.948643</td>\n",
       "      <td>...</td>\n",
       "      <td>0.094318</td>\n",
       "      <td>2.170947</td>\n",
       "      <td>93.924313</td>\n",
       "      <td>47.048673</td>\n",
       "      <td>0.133188</td>\n",
       "      <td>0.064556</td>\n",
       "      <td>1.734070e+05</td>\n",
       "      <td>5.222199e+04</td>\n",
       "      <td>21958.208958</td>\n",
       "      <td>4.347865e+04</td>\n",
       "    </tr>\n",
       "    <tr>\n",
       "      <th>std</th>\n",
       "      <td>8571.325901</td>\n",
       "      <td>7.394996e+04</td>\n",
       "      <td>23.504038</td>\n",
       "      <td>0.927695</td>\n",
       "      <td>30.129930</td>\n",
       "      <td>30.130588</td>\n",
       "      <td>0.867776</td>\n",
       "      <td>23.204813</td>\n",
       "      <td>27.582505</td>\n",
       "      <td>5.633119</td>\n",
       "      <td>...</td>\n",
       "      <td>0.522758</td>\n",
       "      <td>1.853858</td>\n",
       "      <td>8.875399</td>\n",
       "      <td>36.184913</td>\n",
       "      <td>0.385975</td>\n",
       "      <td>0.444231</td>\n",
       "      <td>1.756722e+05</td>\n",
       "      <td>4.907494e+04</td>\n",
       "      <td>21840.371112</td>\n",
       "      <td>4.394271e+04</td>\n",
       "    </tr>\n",
       "    <tr>\n",
       "      <th>min</th>\n",
       "      <td>1000.000000</td>\n",
       "      <td>0.000000e+00</td>\n",
       "      <td>0.000000</td>\n",
       "      <td>0.000000</td>\n",
       "      <td>660.000000</td>\n",
       "      <td>664.000000</td>\n",
       "      <td>0.000000</td>\n",
       "      <td>0.000000</td>\n",
       "      <td>0.000000</td>\n",
       "      <td>1.000000</td>\n",
       "      <td>...</td>\n",
       "      <td>0.000000</td>\n",
       "      <td>0.000000</td>\n",
       "      <td>0.000000</td>\n",
       "      <td>0.000000</td>\n",
       "      <td>0.000000</td>\n",
       "      <td>0.000000</td>\n",
       "      <td>2.500000e+03</td>\n",
       "      <td>0.000000e+00</td>\n",
       "      <td>0.000000</td>\n",
       "      <td>0.000000e+00</td>\n",
       "    </tr>\n",
       "    <tr>\n",
       "      <th>25%</th>\n",
       "      <td>8500.000000</td>\n",
       "      <td>4.600000e+04</td>\n",
       "      <td>12.590000</td>\n",
       "      <td>0.000000</td>\n",
       "      <td>670.000000</td>\n",
       "      <td>674.000000</td>\n",
       "      <td>0.000000</td>\n",
       "      <td>0.000000</td>\n",
       "      <td>0.000000</td>\n",
       "      <td>8.000000</td>\n",
       "      <td>...</td>\n",
       "      <td>0.000000</td>\n",
       "      <td>1.000000</td>\n",
       "      <td>90.900000</td>\n",
       "      <td>14.300000</td>\n",
       "      <td>0.000000</td>\n",
       "      <td>0.000000</td>\n",
       "      <td>5.090900e+04</td>\n",
       "      <td>2.259850e+04</td>\n",
       "      <td>7800.000000</td>\n",
       "      <td>1.548150e+04</td>\n",
       "    </tr>\n",
       "    <tr>\n",
       "      <th>50%</th>\n",
       "      <td>14000.000000</td>\n",
       "      <td>6.500000e+04</td>\n",
       "      <td>18.600000</td>\n",
       "      <td>0.000000</td>\n",
       "      <td>685.000000</td>\n",
       "      <td>689.000000</td>\n",
       "      <td>0.000000</td>\n",
       "      <td>3.000000</td>\n",
       "      <td>0.000000</td>\n",
       "      <td>11.000000</td>\n",
       "      <td>...</td>\n",
       "      <td>0.000000</td>\n",
       "      <td>2.000000</td>\n",
       "      <td>97.400000</td>\n",
       "      <td>50.000000</td>\n",
       "      <td>0.000000</td>\n",
       "      <td>0.000000</td>\n",
       "      <td>1.114050e+05</td>\n",
       "      <td>3.959600e+04</td>\n",
       "      <td>15200.000000</td>\n",
       "      <td>3.297000e+04</td>\n",
       "    </tr>\n",
       "    <tr>\n",
       "      <th>75%</th>\n",
       "      <td>20000.000000</td>\n",
       "      <td>9.169050e+04</td>\n",
       "      <td>25.340000</td>\n",
       "      <td>0.000000</td>\n",
       "      <td>710.000000</td>\n",
       "      <td>714.000000</td>\n",
       "      <td>1.000000</td>\n",
       "      <td>32.000000</td>\n",
       "      <td>0.000000</td>\n",
       "      <td>15.000000</td>\n",
       "      <td>...</td>\n",
       "      <td>0.000000</td>\n",
       "      <td>3.000000</td>\n",
       "      <td>100.000000</td>\n",
       "      <td>75.000000</td>\n",
       "      <td>0.000000</td>\n",
       "      <td>0.000000</td>\n",
       "      <td>2.496290e+05</td>\n",
       "      <td>6.565100e+04</td>\n",
       "      <td>28600.000000</td>\n",
       "      <td>5.829900e+04</td>\n",
       "    </tr>\n",
       "    <tr>\n",
       "      <th>max</th>\n",
       "      <td>35000.000000</td>\n",
       "      <td>9.500000e+06</td>\n",
       "      <td>9999.000000</td>\n",
       "      <td>39.000000</td>\n",
       "      <td>845.000000</td>\n",
       "      <td>850.000000</td>\n",
       "      <td>6.000000</td>\n",
       "      <td>176.000000</td>\n",
       "      <td>120.000000</td>\n",
       "      <td>90.000000</td>\n",
       "      <td>...</td>\n",
       "      <td>39.000000</td>\n",
       "      <td>30.000000</td>\n",
       "      <td>100.000000</td>\n",
       "      <td>100.000000</td>\n",
       "      <td>11.000000</td>\n",
       "      <td>85.000000</td>\n",
       "      <td>9.999999e+06</td>\n",
       "      <td>2.921551e+06</td>\n",
       "      <td>834300.000000</td>\n",
       "      <td>2.101913e+06</td>\n",
       "    </tr>\n",
       "  </tbody>\n",
       "</table>\n",
       "<p>8 rows × 74 columns</p>\n",
       "</div>"
      ],
      "text/plain": [
       "           loan_amnt    annual_inc            dti    delinq_2yrs  \\\n",
       "count  421095.000000  4.210950e+05  421095.000000  421095.000000   \n",
       "mean    15240.285862  7.696561e+04      19.195989       0.347397   \n",
       "std      8571.325901  7.394996e+04      23.504038       0.927695   \n",
       "min      1000.000000  0.000000e+00       0.000000       0.000000   \n",
       "25%      8500.000000  4.600000e+04      12.590000       0.000000   \n",
       "50%     14000.000000  6.500000e+04      18.600000       0.000000   \n",
       "75%     20000.000000  9.169050e+04      25.340000       0.000000   \n",
       "max     35000.000000  9.500000e+06    9999.000000      39.000000   \n",
       "\n",
       "       fico_range_low  fico_range_high  inq_last_6mths  \\\n",
       "count   421095.000000    421095.000000   421095.000000   \n",
       "mean       693.649818       697.649948        0.572690   \n",
       "std         30.129930        30.130588        0.867776   \n",
       "min        660.000000       664.000000        0.000000   \n",
       "25%        670.000000       674.000000        0.000000   \n",
       "50%        685.000000       689.000000        0.000000   \n",
       "75%        710.000000       714.000000        1.000000   \n",
       "max        845.000000       850.000000        6.000000   \n",
       "\n",
       "       mths_since_last_delinq  mths_since_last_record       open_acc  \\\n",
       "count           421095.000000           421095.000000  421095.000000   \n",
       "mean                17.543787               11.768102      11.948643   \n",
       "std                 23.204813               27.582505       5.633119   \n",
       "min                  0.000000                0.000000       1.000000   \n",
       "25%                  0.000000                0.000000       8.000000   \n",
       "50%                  3.000000                0.000000      11.000000   \n",
       "75%                 32.000000                0.000000      15.000000   \n",
       "max                176.000000              120.000000      90.000000   \n",
       "\n",
       "                  ...              num_tl_90g_dpd_24m  num_tl_op_past_12m  \\\n",
       "count             ...                   421095.000000       421095.000000   \n",
       "mean              ...                        0.094318            2.170947   \n",
       "std               ...                        0.522758            1.853858   \n",
       "min               ...                        0.000000            0.000000   \n",
       "25%               ...                        0.000000            1.000000   \n",
       "50%               ...                        0.000000            2.000000   \n",
       "75%               ...                        0.000000            3.000000   \n",
       "max               ...                       39.000000           30.000000   \n",
       "\n",
       "       pct_tl_nvr_dlq  percent_bc_gt_75  pub_rec_bankruptcies      tax_liens  \\\n",
       "count   421095.000000     421095.000000         421095.000000  421095.000000   \n",
       "mean        93.924313         47.048673              0.133188       0.064556   \n",
       "std          8.875399         36.184913              0.385975       0.444231   \n",
       "min          0.000000          0.000000              0.000000       0.000000   \n",
       "25%         90.900000         14.300000              0.000000       0.000000   \n",
       "50%         97.400000         50.000000              0.000000       0.000000   \n",
       "75%        100.000000         75.000000              0.000000       0.000000   \n",
       "max        100.000000        100.000000             11.000000      85.000000   \n",
       "\n",
       "       tot_hi_cred_lim  total_bal_ex_mort  total_bc_limit  \\\n",
       "count     4.210950e+05       4.210950e+05   421095.000000   \n",
       "mean      1.734070e+05       5.222199e+04    21958.208958   \n",
       "std       1.756722e+05       4.907494e+04    21840.371112   \n",
       "min       2.500000e+03       0.000000e+00        0.000000   \n",
       "25%       5.090900e+04       2.259850e+04     7800.000000   \n",
       "50%       1.114050e+05       3.959600e+04    15200.000000   \n",
       "75%       2.496290e+05       6.565100e+04    28600.000000   \n",
       "max       9.999999e+06       2.921551e+06   834300.000000   \n",
       "\n",
       "       total_il_high_credit_limit  \n",
       "count                4.210950e+05  \n",
       "mean                 4.347865e+04  \n",
       "std                  4.394271e+04  \n",
       "min                  0.000000e+00  \n",
       "25%                  1.548150e+04  \n",
       "50%                  3.297000e+04  \n",
       "75%                  5.829900e+04  \n",
       "max                  2.101913e+06  \n",
       "\n",
       "[8 rows x 74 columns]"
      ]
     },
     "execution_count": 8,
     "metadata": {},
     "output_type": "execute_result"
    }
   ],
   "source": [
    "lending_data_df.describe()"
   ]
  },
  {
   "cell_type": "code",
   "execution_count": 9,
   "metadata": {
    "collapsed": false
   },
   "outputs": [
    {
     "data": {
      "text/plain": [
       "debt_consolidation    250020\n",
       "credit_card           102025\n",
       "home_improvement       25293\n",
       "other                  19204\n",
       "major_purchase          7449\n",
       "medical                 3938\n",
       "car                     3466\n",
       "small_business          3364\n",
       "moving                  2420\n",
       "vacation                2249\n",
       "house                   1438\n",
       "renewable_energy         224\n",
       "wedding                    4\n",
       "educational                1\n",
       "Name: purpose, dtype: int64"
      ]
     },
     "execution_count": 9,
     "metadata": {},
     "output_type": "execute_result"
    }
   ],
   "source": [
    "lending_data_df['purpose'].value_counts()"
   ]
  },
  {
   "cell_type": "code",
   "execution_count": 10,
   "metadata": {
    "collapsed": false
   },
   "outputs": [
    {
     "data": {
      "text/plain": [
       "['other',\n",
       " 'debt_consolidation',\n",
       " 'small_business',\n",
       " 'house',\n",
       " 'credit_card',\n",
       " 'home_improvement',\n",
       " 'major_purchase',\n",
       " 'vacation',\n",
       " 'medical',\n",
       " 'car',\n",
       " 'moving',\n",
       " 'renewable_energy',\n",
       " 'wedding',\n",
       " 'educational']"
      ]
     },
     "execution_count": 10,
     "metadata": {},
     "output_type": "execute_result"
    }
   ],
   "source": [
    "list(lending_data_df['purpose'].unique())"
   ]
  },
  {
   "cell_type": "code",
   "execution_count": 11,
   "metadata": {
    "collapsed": false
   },
   "outputs": [
    {
     "data": {
      "text/plain": [
       "[None,\n",
       " None,\n",
       " None,\n",
       " None,\n",
       " None,\n",
       " None,\n",
       " None,\n",
       " None,\n",
       " None,\n",
       " None,\n",
       " None,\n",
       " None,\n",
       " None,\n",
       " None]"
      ]
     },
     "execution_count": 11,
     "metadata": {},
     "output_type": "execute_result"
    },
    {
     "data": {
      "image/png": "[encoded data removed]",
      "text/plain": [
       "<matplotlib.figure.Figure at 0x115281c10>"
      ]
     },
     "metadata": {},
     "output_type": "display_data"
    }
   ],
   "source": [
    "sns.countplot(x='purpose', data=lending_data_df)\n",
    "\n",
    "locs, labels = plt.xticks()\n",
    "plt.setp(labels, rotation=90)\n"
   ]
  },
  {
   "cell_type": "code",
   "execution_count": 12,
   "metadata": {
    "collapsed": false
   },
   "outputs": [
    {
     "data": {
      "text/plain": [
       "[None, None, None, None, None, None, None]"
      ]
     },
     "execution_count": 12,
     "metadata": {},
     "output_type": "execute_result"
    },
    {
     "data": {
      "image/png": "[encoded data removed]",
      "text/plain": [
       "<matplotlib.figure.Figure at 0x11566dd90>"
      ]
     },
     "metadata": {},
     "output_type": "display_data"
    }
   ],
   "source": [
    "sns.countplot(x='loan_status', data=lending_data_df)\n",
    "\n",
    "locs, labels = plt.xticks()\n",
    "plt.setp(labels, rotation=90)\n"
   ]
  },
  {
   "cell_type": "code",
   "execution_count": 13,
   "metadata": {
    "collapsed": false
   },
   "outputs": [
    {
     "data": {
      "text/plain": [
       "Current               336267\n",
       "Fully Paid             55905\n",
       "Charged Off            13325\n",
       "Late (31-120 days)      8570\n",
       "In Grace Period         3974\n",
       "Late (16-30 days)       2515\n",
       "Default                  539\n",
       "Name: loan_status, dtype: int64"
      ]
     },
     "execution_count": 13,
     "metadata": {},
     "output_type": "execute_result"
    }
   ],
   "source": [
    "lending_data_df['loan_status'].value_counts()"
   ]
  },
  {
   "cell_type": "code",
   "execution_count": null,
   "metadata": {
    "collapsed": true
   },
   "outputs": [],
   "source": []
  },
  {
   "cell_type": "markdown",
   "metadata": {},
   "source": [
    "When seperating out the applicants by loan status and purpose, then running a pivot table we see how each purpose category contributed to the loan status.  Also, the education and wedding purpoes each only have current or fully paid loan status.  Although there were no defaults in the renewable energy catagory we do see they carry a high proportion of late loan status. "
   ]
  },
  {
   "cell_type": "code",
   "execution_count": 33,
   "metadata": {
    "collapsed": false
   },
   "outputs": [],
   "source": [
    "lending_purpose_df = lending_data_df[['loan_status', 'purpose']]"
   ]
  },
  {
   "cell_type": "code",
   "execution_count": 34,
   "metadata": {
    "collapsed": false
   },
   "outputs": [],
   "source": [
    "purpose = lending_purpose_df.pivot_table(index=['purpose'], columns =['loan_status'], aggfunc=len)"
   ]
  },
  {
   "cell_type": "code",
   "execution_count": 35,
   "metadata": {
    "collapsed": false
   },
   "outputs": [
    {
     "data": {
      "text/plain": [
       "debt_consolidation    250020\n",
       "credit_card           102025\n",
       "home_improvement       25293\n",
       "other                  19204\n",
       "major_purchase          7449\n",
       "medical                 3938\n",
       "car                     3466\n",
       "small_business          3364\n",
       "moving                  2420\n",
       "vacation                2249\n",
       "house                   1438\n",
       "renewable_energy         224\n",
       "wedding                    4\n",
       "educational                1\n",
       "Name: purpose, dtype: int64"
      ]
     },
     "execution_count": 35,
     "metadata": {},
     "output_type": "execute_result"
    }
   ],
   "source": [
    "lending_data_df['purpose'].value_counts()"
   ]
  },
  {
   "cell_type": "code",
   "execution_count": 36,
   "metadata": {
    "collapsed": true
   },
   "outputs": [],
   "source": [
    "percentify = lambda x: (x * 100).round(1).astype(str) + \"%\""
   ]
  },
  {
   "cell_type": "code",
   "execution_count": 37,
   "metadata": {
    "collapsed": false
   },
   "outputs": [
    {
     "data": {
      "text/html": [
       "<div>\n",
       "<table border=\"1\" class=\"dataframe\">\n",
       "  <thead>\n",
       "    <tr style=\"text-align: right;\">\n",
       "      <th>loan_status</th>\n",
       "      <th>Charged Off</th>\n",
       "      <th>Current</th>\n",
       "      <th>Default</th>\n",
       "      <th>Fully Paid</th>\n",
       "      <th>In Grace Period</th>\n",
       "      <th>Late (16-30 days)</th>\n",
       "      <th>Late (31-120 days)</th>\n",
       "    </tr>\n",
       "    <tr>\n",
       "      <th>purpose</th>\n",
       "      <th></th>\n",
       "      <th></th>\n",
       "      <th></th>\n",
       "      <th></th>\n",
       "      <th></th>\n",
       "      <th></th>\n",
       "      <th></th>\n",
       "    </tr>\n",
       "  </thead>\n",
       "  <tbody>\n",
       "    <tr>\n",
       "      <th>car</th>\n",
       "      <td>92.0</td>\n",
       "      <td>2712.0</td>\n",
       "      <td>3.0</td>\n",
       "      <td>548.0</td>\n",
       "      <td>34.0</td>\n",
       "      <td>22.0</td>\n",
       "      <td>55.0</td>\n",
       "    </tr>\n",
       "    <tr>\n",
       "      <th>credit_card</th>\n",
       "      <td>2141.0</td>\n",
       "      <td>86018.0</td>\n",
       "      <td>91.0</td>\n",
       "      <td>10968.0</td>\n",
       "      <td>741.0</td>\n",
       "      <td>503.0</td>\n",
       "      <td>1563.0</td>\n",
       "    </tr>\n",
       "    <tr>\n",
       "      <th>debt_consolidation</th>\n",
       "      <td>8625.0</td>\n",
       "      <td>196938.0</td>\n",
       "      <td>348.0</td>\n",
       "      <td>34448.0</td>\n",
       "      <td>2529.0</td>\n",
       "      <td>1597.0</td>\n",
       "      <td>5535.0</td>\n",
       "    </tr>\n",
       "    <tr>\n",
       "      <th>educational</th>\n",
       "      <td>NaN</td>\n",
       "      <td>NaN</td>\n",
       "      <td>NaN</td>\n",
       "      <td>1.0</td>\n",
       "      <td>NaN</td>\n",
       "      <td>NaN</td>\n",
       "      <td>NaN</td>\n",
       "    </tr>\n",
       "    <tr>\n",
       "      <th>home_improvement</th>\n",
       "      <td>708.0</td>\n",
       "      <td>19857.0</td>\n",
       "      <td>32.0</td>\n",
       "      <td>3849.0</td>\n",
       "      <td>246.0</td>\n",
       "      <td>142.0</td>\n",
       "      <td>459.0</td>\n",
       "    </tr>\n",
       "    <tr>\n",
       "      <th>house</th>\n",
       "      <td>81.0</td>\n",
       "      <td>990.0</td>\n",
       "      <td>4.0</td>\n",
       "      <td>304.0</td>\n",
       "      <td>11.0</td>\n",
       "      <td>10.0</td>\n",
       "      <td>38.0</td>\n",
       "    </tr>\n",
       "    <tr>\n",
       "      <th>major_purchase</th>\n",
       "      <td>280.0</td>\n",
       "      <td>5815.0</td>\n",
       "      <td>10.0</td>\n",
       "      <td>1074.0</td>\n",
       "      <td>68.0</td>\n",
       "      <td>43.0</td>\n",
       "      <td>159.0</td>\n",
       "    </tr>\n",
       "    <tr>\n",
       "      <th>medical</th>\n",
       "      <td>187.0</td>\n",
       "      <td>3019.0</td>\n",
       "      <td>8.0</td>\n",
       "      <td>568.0</td>\n",
       "      <td>47.0</td>\n",
       "      <td>21.0</td>\n",
       "      <td>88.0</td>\n",
       "    </tr>\n",
       "    <tr>\n",
       "      <th>moving</th>\n",
       "      <td>146.0</td>\n",
       "      <td>1763.0</td>\n",
       "      <td>4.0</td>\n",
       "      <td>401.0</td>\n",
       "      <td>32.0</td>\n",
       "      <td>19.0</td>\n",
       "      <td>55.0</td>\n",
       "    </tr>\n",
       "    <tr>\n",
       "      <th>other</th>\n",
       "      <td>744.0</td>\n",
       "      <td>14798.0</td>\n",
       "      <td>29.0</td>\n",
       "      <td>2876.0</td>\n",
       "      <td>205.0</td>\n",
       "      <td>117.0</td>\n",
       "      <td>435.0</td>\n",
       "    </tr>\n",
       "    <tr>\n",
       "      <th>renewable_energy</th>\n",
       "      <td>11.0</td>\n",
       "      <td>158.0</td>\n",
       "      <td>NaN</td>\n",
       "      <td>41.0</td>\n",
       "      <td>1.0</td>\n",
       "      <td>2.0</td>\n",
       "      <td>11.0</td>\n",
       "    </tr>\n",
       "    <tr>\n",
       "      <th>small_business</th>\n",
       "      <td>215.0</td>\n",
       "      <td>2501.0</td>\n",
       "      <td>7.0</td>\n",
       "      <td>449.0</td>\n",
       "      <td>41.0</td>\n",
       "      <td>30.0</td>\n",
       "      <td>121.0</td>\n",
       "    </tr>\n",
       "    <tr>\n",
       "      <th>vacation</th>\n",
       "      <td>95.0</td>\n",
       "      <td>1695.0</td>\n",
       "      <td>3.0</td>\n",
       "      <td>377.0</td>\n",
       "      <td>19.0</td>\n",
       "      <td>9.0</td>\n",
       "      <td>51.0</td>\n",
       "    </tr>\n",
       "    <tr>\n",
       "      <th>wedding</th>\n",
       "      <td>NaN</td>\n",
       "      <td>3.0</td>\n",
       "      <td>NaN</td>\n",
       "      <td>1.0</td>\n",
       "      <td>NaN</td>\n",
       "      <td>NaN</td>\n",
       "      <td>NaN</td>\n",
       "    </tr>\n",
       "  </tbody>\n",
       "</table>\n",
       "</div>"
      ],
      "text/plain": [
       "loan_status         Charged Off   Current  Default  Fully Paid  \\\n",
       "purpose                                                          \n",
       "car                        92.0    2712.0      3.0       548.0   \n",
       "credit_card              2141.0   86018.0     91.0     10968.0   \n",
       "debt_consolidation       8625.0  196938.0    348.0     34448.0   \n",
       "educational                 NaN       NaN      NaN         1.0   \n",
       "home_improvement          708.0   19857.0     32.0      3849.0   \n",
       "house                      81.0     990.0      4.0       304.0   \n",
       "major_purchase            280.0    5815.0     10.0      1074.0   \n",
       "medical                   187.0    3019.0      8.0       568.0   \n",
       "moving                    146.0    1763.0      4.0       401.0   \n",
       "other                     744.0   14798.0     29.0      2876.0   \n",
       "renewable_energy           11.0     158.0      NaN        41.0   \n",
       "small_business            215.0    2501.0      7.0       449.0   \n",
       "vacation                   95.0    1695.0      3.0       377.0   \n",
       "wedding                     NaN       3.0      NaN         1.0   \n",
       "\n",
       "loan_status         In Grace Period  Late (16-30 days)  Late (31-120 days)  \n",
       "purpose                                                                     \n",
       "car                            34.0               22.0                55.0  \n",
       "credit_card                   741.0              503.0              1563.0  \n",
       "debt_consolidation           2529.0             1597.0              5535.0  \n",
       "educational                     NaN                NaN                 NaN  \n",
       "home_improvement              246.0              142.0               459.0  \n",
       "house                          11.0               10.0                38.0  \n",
       "major_purchase                 68.0               43.0               159.0  \n",
       "medical                        47.0               21.0                88.0  \n",
       "moving                         32.0               19.0                55.0  \n",
       "other                         205.0              117.0               435.0  \n",
       "renewable_energy                1.0                2.0                11.0  \n",
       "small_business                 41.0               30.0               121.0  \n",
       "vacation                       19.0                9.0                51.0  \n",
       "wedding                         NaN                NaN                 NaN  "
      ]
     },
     "execution_count": 37,
     "metadata": {},
     "output_type": "execute_result"
    }
   ],
   "source": [
    "purpose"
   ]
  },
  {
   "cell_type": "code",
   "execution_count": 38,
   "metadata": {
    "collapsed": false
   },
   "outputs": [],
   "source": [
    "loan_status = purpose.columns"
   ]
  },
  {
   "cell_type": "code",
   "execution_count": 41,
   "metadata": {
    "collapsed": false
   },
   "outputs": [],
   "source": [
    "purpose_percentages = (purpose[loan_status].T / purpose[loan_status].sum(axis=1)).T.pipe(percentify)"
   ]
  },
  {
   "cell_type": "code",
   "execution_count": 42,
   "metadata": {
    "collapsed": false
   },
   "outputs": [
    {
     "data": {
      "text/html": [
       "<div>\n",
       "<table border=\"1\" class=\"dataframe\">\n",
       "  <thead>\n",
       "    <tr style=\"text-align: right;\">\n",
       "      <th>loan_status</th>\n",
       "      <th>Charged Off</th>\n",
       "      <th>Current</th>\n",
       "      <th>Default</th>\n",
       "      <th>Fully Paid</th>\n",
       "      <th>In Grace Period</th>\n",
       "      <th>Late (16-30 days)</th>\n",
       "      <th>Late (31-120 days)</th>\n",
       "    </tr>\n",
       "    <tr>\n",
       "      <th>purpose</th>\n",
       "      <th></th>\n",
       "      <th></th>\n",
       "      <th></th>\n",
       "      <th></th>\n",
       "      <th></th>\n",
       "      <th></th>\n",
       "      <th></th>\n",
       "    </tr>\n",
       "  </thead>\n",
       "  <tbody>\n",
       "    <tr>\n",
       "      <th>car</th>\n",
       "      <td>2.7%</td>\n",
       "      <td>78.2%</td>\n",
       "      <td>0.1%</td>\n",
       "      <td>15.8%</td>\n",
       "      <td>1.0%</td>\n",
       "      <td>0.6%</td>\n",
       "      <td>1.6%</td>\n",
       "    </tr>\n",
       "    <tr>\n",
       "      <th>credit_card</th>\n",
       "      <td>2.1%</td>\n",
       "      <td>84.3%</td>\n",
       "      <td>0.1%</td>\n",
       "      <td>10.8%</td>\n",
       "      <td>0.7%</td>\n",
       "      <td>0.5%</td>\n",
       "      <td>1.5%</td>\n",
       "    </tr>\n",
       "    <tr>\n",
       "      <th>debt_consolidation</th>\n",
       "      <td>3.4%</td>\n",
       "      <td>78.8%</td>\n",
       "      <td>0.1%</td>\n",
       "      <td>13.8%</td>\n",
       "      <td>1.0%</td>\n",
       "      <td>0.6%</td>\n",
       "      <td>2.2%</td>\n",
       "    </tr>\n",
       "    <tr>\n",
       "      <th>educational</th>\n",
       "      <td>nan%</td>\n",
       "      <td>nan%</td>\n",
       "      <td>nan%</td>\n",
       "      <td>100.0%</td>\n",
       "      <td>nan%</td>\n",
       "      <td>nan%</td>\n",
       "      <td>nan%</td>\n",
       "    </tr>\n",
       "    <tr>\n",
       "      <th>home_improvement</th>\n",
       "      <td>2.8%</td>\n",
       "      <td>78.5%</td>\n",
       "      <td>0.1%</td>\n",
       "      <td>15.2%</td>\n",
       "      <td>1.0%</td>\n",
       "      <td>0.6%</td>\n",
       "      <td>1.8%</td>\n",
       "    </tr>\n",
       "    <tr>\n",
       "      <th>house</th>\n",
       "      <td>5.6%</td>\n",
       "      <td>68.8%</td>\n",
       "      <td>0.3%</td>\n",
       "      <td>21.1%</td>\n",
       "      <td>0.8%</td>\n",
       "      <td>0.7%</td>\n",
       "      <td>2.6%</td>\n",
       "    </tr>\n",
       "    <tr>\n",
       "      <th>major_purchase</th>\n",
       "      <td>3.8%</td>\n",
       "      <td>78.1%</td>\n",
       "      <td>0.1%</td>\n",
       "      <td>14.4%</td>\n",
       "      <td>0.9%</td>\n",
       "      <td>0.6%</td>\n",
       "      <td>2.1%</td>\n",
       "    </tr>\n",
       "    <tr>\n",
       "      <th>medical</th>\n",
       "      <td>4.7%</td>\n",
       "      <td>76.7%</td>\n",
       "      <td>0.2%</td>\n",
       "      <td>14.4%</td>\n",
       "      <td>1.2%</td>\n",
       "      <td>0.5%</td>\n",
       "      <td>2.2%</td>\n",
       "    </tr>\n",
       "    <tr>\n",
       "      <th>moving</th>\n",
       "      <td>6.0%</td>\n",
       "      <td>72.9%</td>\n",
       "      <td>0.2%</td>\n",
       "      <td>16.6%</td>\n",
       "      <td>1.3%</td>\n",
       "      <td>0.8%</td>\n",
       "      <td>2.3%</td>\n",
       "    </tr>\n",
       "    <tr>\n",
       "      <th>other</th>\n",
       "      <td>3.9%</td>\n",
       "      <td>77.1%</td>\n",
       "      <td>0.2%</td>\n",
       "      <td>15.0%</td>\n",
       "      <td>1.1%</td>\n",
       "      <td>0.6%</td>\n",
       "      <td>2.3%</td>\n",
       "    </tr>\n",
       "    <tr>\n",
       "      <th>renewable_energy</th>\n",
       "      <td>4.9%</td>\n",
       "      <td>70.5%</td>\n",
       "      <td>nan%</td>\n",
       "      <td>18.3%</td>\n",
       "      <td>0.4%</td>\n",
       "      <td>0.9%</td>\n",
       "      <td>4.9%</td>\n",
       "    </tr>\n",
       "    <tr>\n",
       "      <th>small_business</th>\n",
       "      <td>6.4%</td>\n",
       "      <td>74.3%</td>\n",
       "      <td>0.2%</td>\n",
       "      <td>13.3%</td>\n",
       "      <td>1.2%</td>\n",
       "      <td>0.9%</td>\n",
       "      <td>3.6%</td>\n",
       "    </tr>\n",
       "    <tr>\n",
       "      <th>vacation</th>\n",
       "      <td>4.2%</td>\n",
       "      <td>75.4%</td>\n",
       "      <td>0.1%</td>\n",
       "      <td>16.8%</td>\n",
       "      <td>0.8%</td>\n",
       "      <td>0.4%</td>\n",
       "      <td>2.3%</td>\n",
       "    </tr>\n",
       "    <tr>\n",
       "      <th>wedding</th>\n",
       "      <td>nan%</td>\n",
       "      <td>75.0%</td>\n",
       "      <td>nan%</td>\n",
       "      <td>25.0%</td>\n",
       "      <td>nan%</td>\n",
       "      <td>nan%</td>\n",
       "      <td>nan%</td>\n",
       "    </tr>\n",
       "  </tbody>\n",
       "</table>\n",
       "</div>"
      ],
      "text/plain": [
       "loan_status        Charged Off Current Default Fully Paid In Grace Period  \\\n",
       "purpose                                                                     \n",
       "car                       2.7%   78.2%    0.1%      15.8%            1.0%   \n",
       "credit_card               2.1%   84.3%    0.1%      10.8%            0.7%   \n",
       "debt_consolidation        3.4%   78.8%    0.1%      13.8%            1.0%   \n",
       "educational               nan%    nan%    nan%     100.0%            nan%   \n",
       "home_improvement          2.8%   78.5%    0.1%      15.2%            1.0%   \n",
       "house                     5.6%   68.8%    0.3%      21.1%            0.8%   \n",
       "major_purchase            3.8%   78.1%    0.1%      14.4%            0.9%   \n",
       "medical                   4.7%   76.7%    0.2%      14.4%            1.2%   \n",
       "moving                    6.0%   72.9%    0.2%      16.6%            1.3%   \n",
       "other                     3.9%   77.1%    0.2%      15.0%            1.1%   \n",
       "renewable_energy          4.9%   70.5%    nan%      18.3%            0.4%   \n",
       "small_business            6.4%   74.3%    0.2%      13.3%            1.2%   \n",
       "vacation                  4.2%   75.4%    0.1%      16.8%            0.8%   \n",
       "wedding                   nan%   75.0%    nan%      25.0%            nan%   \n",
       "\n",
       "loan_status        Late (16-30 days) Late (31-120 days)  \n",
       "purpose                                                  \n",
       "car                             0.6%               1.6%  \n",
       "credit_card                     0.5%               1.5%  \n",
       "debt_consolidation              0.6%               2.2%  \n",
       "educational                     nan%               nan%  \n",
       "home_improvement                0.6%               1.8%  \n",
       "house                           0.7%               2.6%  \n",
       "major_purchase                  0.6%               2.1%  \n",
       "medical                         0.5%               2.2%  \n",
       "moving                          0.8%               2.3%  \n",
       "other                           0.6%               2.3%  \n",
       "renewable_energy                0.9%               4.9%  \n",
       "small_business                  0.9%               3.6%  \n",
       "vacation                        0.4%               2.3%  \n",
       "wedding                         nan%               nan%  "
      ]
     },
     "execution_count": 42,
     "metadata": {},
     "output_type": "execute_result"
    }
   ],
   "source": [
    "#PRESENTING THE PERCENTAGES OF LOAN STATUS FOR EACH PURPOSE CATEGORY.  FOR EXAMPLE 2.7% OF ALL CAR LOANS WERE CHARGED \n",
    "#OFF, WHILE 15.8% WERE FULLY-PAID. \n",
    "\n",
    "purpose_percentages"
   ]
  },
  {
   "cell_type": "code",
   "execution_count": 59,
   "metadata": {
    "collapsed": false
   },
   "outputs": [],
   "source": [
    "lending_employment = lending_data_df[['loan_status', 'emp_length']]"
   ]
  },
  {
   "cell_type": "code",
   "execution_count": 60,
   "metadata": {
    "collapsed": false
   },
   "outputs": [],
   "source": [
    "le_df = lending_employment.pivot_table(index=['emp_length'], columns=['loan_status'], aggfunc=len)"
   ]
  },
  {
   "cell_type": "code",
   "execution_count": 61,
   "metadata": {
    "collapsed": false
   },
   "outputs": [
    {
     "data": {
      "text/html": [
       "<div>\n",
       "<table border=\"1\" class=\"dataframe\">\n",
       "  <thead>\n",
       "    <tr style=\"text-align: right;\">\n",
       "      <th>loan_status</th>\n",
       "      <th>Charged Off</th>\n",
       "      <th>Current</th>\n",
       "      <th>Default</th>\n",
       "      <th>Fully Paid</th>\n",
       "      <th>In Grace Period</th>\n",
       "      <th>Late (16-30 days)</th>\n",
       "      <th>Late (31-120 days)</th>\n",
       "    </tr>\n",
       "    <tr>\n",
       "      <th>emp_length</th>\n",
       "      <th></th>\n",
       "      <th></th>\n",
       "      <th></th>\n",
       "      <th></th>\n",
       "      <th></th>\n",
       "      <th></th>\n",
       "      <th></th>\n",
       "    </tr>\n",
       "  </thead>\n",
       "  <tbody>\n",
       "    <tr>\n",
       "      <th>1 year</th>\n",
       "      <td>988</td>\n",
       "      <td>21745</td>\n",
       "      <td>39</td>\n",
       "      <td>3627</td>\n",
       "      <td>272</td>\n",
       "      <td>184</td>\n",
       "      <td>618</td>\n",
       "    </tr>\n",
       "    <tr>\n",
       "      <th>10+ years</th>\n",
       "      <td>3861</td>\n",
       "      <td>113664</td>\n",
       "      <td>153</td>\n",
       "      <td>19232</td>\n",
       "      <td>1261</td>\n",
       "      <td>750</td>\n",
       "      <td>2600</td>\n",
       "    </tr>\n",
       "    <tr>\n",
       "      <th>2 years</th>\n",
       "      <td>1223</td>\n",
       "      <td>29739</td>\n",
       "      <td>48</td>\n",
       "      <td>5101</td>\n",
       "      <td>359</td>\n",
       "      <td>238</td>\n",
       "      <td>789</td>\n",
       "    </tr>\n",
       "    <tr>\n",
       "      <th>3 years</th>\n",
       "      <td>1070</td>\n",
       "      <td>26655</td>\n",
       "      <td>52</td>\n",
       "      <td>4419</td>\n",
       "      <td>324</td>\n",
       "      <td>183</td>\n",
       "      <td>727</td>\n",
       "    </tr>\n",
       "    <tr>\n",
       "      <th>4 years</th>\n",
       "      <td>844</td>\n",
       "      <td>19527</td>\n",
       "      <td>30</td>\n",
       "      <td>3231</td>\n",
       "      <td>246</td>\n",
       "      <td>165</td>\n",
       "      <td>463</td>\n",
       "    </tr>\n",
       "    <tr>\n",
       "      <th>5 years</th>\n",
       "      <td>816</td>\n",
       "      <td>19889</td>\n",
       "      <td>27</td>\n",
       "      <td>3254</td>\n",
       "      <td>250</td>\n",
       "      <td>168</td>\n",
       "      <td>526</td>\n",
       "    </tr>\n",
       "    <tr>\n",
       "      <th>6 years</th>\n",
       "      <td>569</td>\n",
       "      <td>13394</td>\n",
       "      <td>28</td>\n",
       "      <td>2249</td>\n",
       "      <td>153</td>\n",
       "      <td>97</td>\n",
       "      <td>348</td>\n",
       "    </tr>\n",
       "    <tr>\n",
       "      <th>7 years</th>\n",
       "      <td>598</td>\n",
       "      <td>14600</td>\n",
       "      <td>20</td>\n",
       "      <td>2521</td>\n",
       "      <td>192</td>\n",
       "      <td>127</td>\n",
       "      <td>356</td>\n",
       "    </tr>\n",
       "    <tr>\n",
       "      <th>8 years</th>\n",
       "      <td>641</td>\n",
       "      <td>17186</td>\n",
       "      <td>34</td>\n",
       "      <td>2879</td>\n",
       "      <td>198</td>\n",
       "      <td>138</td>\n",
       "      <td>484</td>\n",
       "    </tr>\n",
       "    <tr>\n",
       "      <th>9 years</th>\n",
       "      <td>523</td>\n",
       "      <td>13373</td>\n",
       "      <td>23</td>\n",
       "      <td>2254</td>\n",
       "      <td>167</td>\n",
       "      <td>109</td>\n",
       "      <td>320</td>\n",
       "    </tr>\n",
       "    <tr>\n",
       "      <th>&lt; 1 year</th>\n",
       "      <td>1239</td>\n",
       "      <td>27161</td>\n",
       "      <td>36</td>\n",
       "      <td>4538</td>\n",
       "      <td>362</td>\n",
       "      <td>233</td>\n",
       "      <td>771</td>\n",
       "    </tr>\n",
       "    <tr>\n",
       "      <th>n/a</th>\n",
       "      <td>953</td>\n",
       "      <td>19334</td>\n",
       "      <td>49</td>\n",
       "      <td>2600</td>\n",
       "      <td>190</td>\n",
       "      <td>123</td>\n",
       "      <td>568</td>\n",
       "    </tr>\n",
       "  </tbody>\n",
       "</table>\n",
       "</div>"
      ],
      "text/plain": [
       "loan_status  Charged Off  Current  Default  Fully Paid  In Grace Period  \\\n",
       "emp_length                                                                \n",
       "1 year               988    21745       39        3627              272   \n",
       "10+ years           3861   113664      153       19232             1261   \n",
       "2 years             1223    29739       48        5101              359   \n",
       "3 years             1070    26655       52        4419              324   \n",
       "4 years              844    19527       30        3231              246   \n",
       "5 years              816    19889       27        3254              250   \n",
       "6 years              569    13394       28        2249              153   \n",
       "7 years              598    14600       20        2521              192   \n",
       "8 years              641    17186       34        2879              198   \n",
       "9 years              523    13373       23        2254              167   \n",
       "< 1 year            1239    27161       36        4538              362   \n",
       "n/a                  953    19334       49        2600              190   \n",
       "\n",
       "loan_status  Late (16-30 days)  Late (31-120 days)  \n",
       "emp_length                                          \n",
       "1 year                     184                 618  \n",
       "10+ years                  750                2600  \n",
       "2 years                    238                 789  \n",
       "3 years                    183                 727  \n",
       "4 years                    165                 463  \n",
       "5 years                    168                 526  \n",
       "6 years                     97                 348  \n",
       "7 years                    127                 356  \n",
       "8 years                    138                 484  \n",
       "9 years                    109                 320  \n",
       "< 1 year                   233                 771  \n",
       "n/a                        123                 568  "
      ]
     },
     "execution_count": 61,
     "metadata": {},
     "output_type": "execute_result"
    }
   ],
   "source": [
    "le_df"
   ]
  },
  {
   "cell_type": "code",
   "execution_count": 62,
   "metadata": {
    "collapsed": false
   },
   "outputs": [],
   "source": [
    "emply = le_df.columns"
   ]
  },
  {
   "cell_type": "code",
   "execution_count": 63,
   "metadata": {
    "collapsed": true
   },
   "outputs": [],
   "source": [
    "le_df_percentages = (le_df[emply].T / le_df[emply].sum(axis=1)).T.pipe(percentify)"
   ]
  },
  {
   "cell_type": "code",
   "execution_count": 64,
   "metadata": {
    "collapsed": false
   },
   "outputs": [
    {
     "data": {
      "text/html": [
       "<div>\n",
       "<table border=\"1\" class=\"dataframe\">\n",
       "  <thead>\n",
       "    <tr style=\"text-align: right;\">\n",
       "      <th>loan_status</th>\n",
       "      <th>Charged Off</th>\n",
       "      <th>Current</th>\n",
       "      <th>Default</th>\n",
       "      <th>Fully Paid</th>\n",
       "      <th>In Grace Period</th>\n",
       "      <th>Late (16-30 days)</th>\n",
       "      <th>Late (31-120 days)</th>\n",
       "    </tr>\n",
       "    <tr>\n",
       "      <th>emp_length</th>\n",
       "      <th></th>\n",
       "      <th></th>\n",
       "      <th></th>\n",
       "      <th></th>\n",
       "      <th></th>\n",
       "      <th></th>\n",
       "      <th></th>\n",
       "    </tr>\n",
       "  </thead>\n",
       "  <tbody>\n",
       "    <tr>\n",
       "      <th>1 year</th>\n",
       "      <td>3.6%</td>\n",
       "      <td>79.2%</td>\n",
       "      <td>0.1%</td>\n",
       "      <td>13.2%</td>\n",
       "      <td>1.0%</td>\n",
       "      <td>0.7%</td>\n",
       "      <td>2.2%</td>\n",
       "    </tr>\n",
       "    <tr>\n",
       "      <th>10+ years</th>\n",
       "      <td>2.7%</td>\n",
       "      <td>80.3%</td>\n",
       "      <td>0.1%</td>\n",
       "      <td>13.6%</td>\n",
       "      <td>0.9%</td>\n",
       "      <td>0.5%</td>\n",
       "      <td>1.8%</td>\n",
       "    </tr>\n",
       "    <tr>\n",
       "      <th>2 years</th>\n",
       "      <td>3.3%</td>\n",
       "      <td>79.3%</td>\n",
       "      <td>0.1%</td>\n",
       "      <td>13.6%</td>\n",
       "      <td>1.0%</td>\n",
       "      <td>0.6%</td>\n",
       "      <td>2.1%</td>\n",
       "    </tr>\n",
       "    <tr>\n",
       "      <th>3 years</th>\n",
       "      <td>3.2%</td>\n",
       "      <td>79.7%</td>\n",
       "      <td>0.2%</td>\n",
       "      <td>13.2%</td>\n",
       "      <td>1.0%</td>\n",
       "      <td>0.5%</td>\n",
       "      <td>2.2%</td>\n",
       "    </tr>\n",
       "    <tr>\n",
       "      <th>4 years</th>\n",
       "      <td>3.4%</td>\n",
       "      <td>79.7%</td>\n",
       "      <td>0.1%</td>\n",
       "      <td>13.2%</td>\n",
       "      <td>1.0%</td>\n",
       "      <td>0.7%</td>\n",
       "      <td>1.9%</td>\n",
       "    </tr>\n",
       "    <tr>\n",
       "      <th>5 years</th>\n",
       "      <td>3.3%</td>\n",
       "      <td>79.8%</td>\n",
       "      <td>0.1%</td>\n",
       "      <td>13.1%</td>\n",
       "      <td>1.0%</td>\n",
       "      <td>0.7%</td>\n",
       "      <td>2.1%</td>\n",
       "    </tr>\n",
       "    <tr>\n",
       "      <th>6 years</th>\n",
       "      <td>3.4%</td>\n",
       "      <td>79.5%</td>\n",
       "      <td>0.2%</td>\n",
       "      <td>13.4%</td>\n",
       "      <td>0.9%</td>\n",
       "      <td>0.6%</td>\n",
       "      <td>2.1%</td>\n",
       "    </tr>\n",
       "    <tr>\n",
       "      <th>7 years</th>\n",
       "      <td>3.2%</td>\n",
       "      <td>79.3%</td>\n",
       "      <td>0.1%</td>\n",
       "      <td>13.7%</td>\n",
       "      <td>1.0%</td>\n",
       "      <td>0.7%</td>\n",
       "      <td>1.9%</td>\n",
       "    </tr>\n",
       "    <tr>\n",
       "      <th>8 years</th>\n",
       "      <td>3.0%</td>\n",
       "      <td>79.7%</td>\n",
       "      <td>0.2%</td>\n",
       "      <td>13.4%</td>\n",
       "      <td>0.9%</td>\n",
       "      <td>0.6%</td>\n",
       "      <td>2.2%</td>\n",
       "    </tr>\n",
       "    <tr>\n",
       "      <th>9 years</th>\n",
       "      <td>3.1%</td>\n",
       "      <td>79.7%</td>\n",
       "      <td>0.1%</td>\n",
       "      <td>13.4%</td>\n",
       "      <td>1.0%</td>\n",
       "      <td>0.7%</td>\n",
       "      <td>1.9%</td>\n",
       "    </tr>\n",
       "    <tr>\n",
       "      <th>&lt; 1 year</th>\n",
       "      <td>3.6%</td>\n",
       "      <td>79.1%</td>\n",
       "      <td>0.1%</td>\n",
       "      <td>13.2%</td>\n",
       "      <td>1.1%</td>\n",
       "      <td>0.7%</td>\n",
       "      <td>2.2%</td>\n",
       "    </tr>\n",
       "    <tr>\n",
       "      <th>n/a</th>\n",
       "      <td>4.0%</td>\n",
       "      <td>81.2%</td>\n",
       "      <td>0.2%</td>\n",
       "      <td>10.9%</td>\n",
       "      <td>0.8%</td>\n",
       "      <td>0.5%</td>\n",
       "      <td>2.4%</td>\n",
       "    </tr>\n",
       "  </tbody>\n",
       "</table>\n",
       "</div>"
      ],
      "text/plain": [
       "loan_status Charged Off Current Default Fully Paid In Grace Period  \\\n",
       "emp_length                                                           \n",
       "1 year             3.6%   79.2%    0.1%      13.2%            1.0%   \n",
       "10+ years          2.7%   80.3%    0.1%      13.6%            0.9%   \n",
       "2 years            3.3%   79.3%    0.1%      13.6%            1.0%   \n",
       "3 years            3.2%   79.7%    0.2%      13.2%            1.0%   \n",
       "4 years            3.4%   79.7%    0.1%      13.2%            1.0%   \n",
       "5 years            3.3%   79.8%    0.1%      13.1%            1.0%   \n",
       "6 years            3.4%   79.5%    0.2%      13.4%            0.9%   \n",
       "7 years            3.2%   79.3%    0.1%      13.7%            1.0%   \n",
       "8 years            3.0%   79.7%    0.2%      13.4%            0.9%   \n",
       "9 years            3.1%   79.7%    0.1%      13.4%            1.0%   \n",
       "< 1 year           3.6%   79.1%    0.1%      13.2%            1.1%   \n",
       "n/a                4.0%   81.2%    0.2%      10.9%            0.8%   \n",
       "\n",
       "loan_status Late (16-30 days) Late (31-120 days)  \n",
       "emp_length                                        \n",
       "1 year                   0.7%               2.2%  \n",
       "10+ years                0.5%               1.8%  \n",
       "2 years                  0.6%               2.1%  \n",
       "3 years                  0.5%               2.2%  \n",
       "4 years                  0.7%               1.9%  \n",
       "5 years                  0.7%               2.1%  \n",
       "6 years                  0.6%               2.1%  \n",
       "7 years                  0.7%               1.9%  \n",
       "8 years                  0.6%               2.2%  \n",
       "9 years                  0.7%               1.9%  \n",
       "< 1 year                 0.7%               2.2%  \n",
       "n/a                      0.5%               2.4%  "
      ]
     },
     "execution_count": 64,
     "metadata": {},
     "output_type": "execute_result"
    }
   ],
   "source": [
    "le_df_percentages"
   ]
  },
  {
   "cell_type": "code",
   "execution_count": 22,
   "metadata": {
    "collapsed": false
   },
   "outputs": [
    {
     "data": {
      "text/plain": [
       "10+ years    141521\n",
       "2 years       37497\n",
       "< 1 year      34340\n",
       "3 years       33430\n",
       "1 year        27473\n",
       "5 years       24930\n",
       "4 years       24506\n",
       "n/a           23817\n",
       "8 years       21560\n",
       "7 years       18414\n",
       "6 years       16838\n",
       "9 years       16769\n",
       "Name: emp_length, dtype: int64"
      ]
     },
     "execution_count": 22,
     "metadata": {},
     "output_type": "execute_result"
    }
   ],
   "source": [
    "lending_employment['emp_length'].value_counts()"
   ]
  },
  {
   "cell_type": "code",
   "execution_count": null,
   "metadata": {
    "collapsed": true
   },
   "outputs": [],
   "source": []
  },
  {
   "cell_type": "code",
   "execution_count": 23,
   "metadata": {
    "collapsed": true
   },
   "outputs": [],
   "source": [
    "import matplotlib.pyplot as plt\n",
    "sns.set(style=\"whitegrid\")"
   ]
  },
  {
   "cell_type": "markdown",
   "metadata": {},
   "source": [
    "Next, looking to see what factor, if any, home_ownership has on loan status.  The below graph doesnt seem to show much\n",
    "of a differnce in whether an applicant was a home owner, renter or has a mortgage.  "
   ]
  },
  {
   "cell_type": "code",
   "execution_count": 50,
   "metadata": {
    "collapsed": false
   },
   "outputs": [
    {
     "data": {
      "text/plain": [
       "[None, None, None, None, None, None, None]"
      ]
     },
     "execution_count": 50,
     "metadata": {},
     "output_type": "execute_result"
    },
    {
     "data": {
      "image/png": "[encoded data removed]",
      "text/plain": [
       "<matplotlib.figure.Figure at 0x116248e10>"
      ]
     },
     "metadata": {},
     "output_type": "display_data"
    }
   ],
   "source": [
    "sns.countplot(x='loan_status', hue='home_ownership', data=lending_data_df)\n",
    "\n",
    "locs, labels = plt.xticks()\n",
    "plt.setp(labels, rotation=90)"
   ]
  },
  {
   "cell_type": "code",
   "execution_count": 65,
   "metadata": {
    "collapsed": true
   },
   "outputs": [],
   "source": [
    "home_status = lending_data_df[['loan_status', 'home_ownership']]"
   ]
  },
  {
   "cell_type": "code",
   "execution_count": 66,
   "metadata": {
    "collapsed": true
   },
   "outputs": [],
   "source": [
    "home_status = home_status.pivot_table(index=['home_ownership'], columns =['loan_status'], aggfunc=len)"
   ]
  },
  {
   "cell_type": "code",
   "execution_count": 67,
   "metadata": {
    "collapsed": false
   },
   "outputs": [
    {
     "data": {
      "text/html": [
       "<div>\n",
       "<table border=\"1\" class=\"dataframe\">\n",
       "  <thead>\n",
       "    <tr style=\"text-align: right;\">\n",
       "      <th>loan_status</th>\n",
       "      <th>Charged Off</th>\n",
       "      <th>Current</th>\n",
       "      <th>Default</th>\n",
       "      <th>Fully Paid</th>\n",
       "      <th>In Grace Period</th>\n",
       "      <th>Late (16-30 days)</th>\n",
       "      <th>Late (31-120 days)</th>\n",
       "    </tr>\n",
       "    <tr>\n",
       "      <th>home_ownership</th>\n",
       "      <th></th>\n",
       "      <th></th>\n",
       "      <th></th>\n",
       "      <th></th>\n",
       "      <th></th>\n",
       "      <th></th>\n",
       "      <th></th>\n",
       "    </tr>\n",
       "  </thead>\n",
       "  <tbody>\n",
       "    <tr>\n",
       "      <th>MORTGAGE</th>\n",
       "      <td>5323</td>\n",
       "      <td>166628</td>\n",
       "      <td>209</td>\n",
       "      <td>29006</td>\n",
       "      <td>1861</td>\n",
       "      <td>1074</td>\n",
       "      <td>3584</td>\n",
       "    </tr>\n",
       "    <tr>\n",
       "      <th>OWN</th>\n",
       "      <td>1446</td>\n",
       "      <td>36350</td>\n",
       "      <td>74</td>\n",
       "      <td>6143</td>\n",
       "      <td>458</td>\n",
       "      <td>254</td>\n",
       "      <td>1041</td>\n",
       "    </tr>\n",
       "    <tr>\n",
       "      <th>RENT</th>\n",
       "      <td>6556</td>\n",
       "      <td>133289</td>\n",
       "      <td>256</td>\n",
       "      <td>20756</td>\n",
       "      <td>1655</td>\n",
       "      <td>1187</td>\n",
       "      <td>3945</td>\n",
       "    </tr>\n",
       "  </tbody>\n",
       "</table>\n",
       "</div>"
      ],
      "text/plain": [
       "loan_status     Charged Off  Current  Default  Fully Paid  In Grace Period  \\\n",
       "home_ownership                                                               \n",
       "MORTGAGE               5323   166628      209       29006             1861   \n",
       "OWN                    1446    36350       74        6143              458   \n",
       "RENT                   6556   133289      256       20756             1655   \n",
       "\n",
       "loan_status     Late (16-30 days)  Late (31-120 days)  \n",
       "home_ownership                                         \n",
       "MORTGAGE                     1074                3584  \n",
       "OWN                           254                1041  \n",
       "RENT                         1187                3945  "
      ]
     },
     "execution_count": 67,
     "metadata": {},
     "output_type": "execute_result"
    }
   ],
   "source": [
    "home_status"
   ]
  },
  {
   "cell_type": "code",
   "execution_count": 68,
   "metadata": {
    "collapsed": true
   },
   "outputs": [],
   "source": [
    "home_list = home_status.columns"
   ]
  },
  {
   "cell_type": "code",
   "execution_count": 69,
   "metadata": {
    "collapsed": true
   },
   "outputs": [],
   "source": [
    "home_status_percentage = (home_status[home_list].T / home_status[home_list].sum(axis=1)).T.pipe(percentify)"
   ]
  },
  {
   "cell_type": "code",
   "execution_count": 70,
   "metadata": {
    "collapsed": false
   },
   "outputs": [
    {
     "data": {
      "text/html": [
       "<div>\n",
       "<table border=\"1\" class=\"dataframe\">\n",
       "  <thead>\n",
       "    <tr style=\"text-align: right;\">\n",
       "      <th>loan_status</th>\n",
       "      <th>Charged Off</th>\n",
       "      <th>Current</th>\n",
       "      <th>Default</th>\n",
       "      <th>Fully Paid</th>\n",
       "      <th>In Grace Period</th>\n",
       "      <th>Late (16-30 days)</th>\n",
       "      <th>Late (31-120 days)</th>\n",
       "    </tr>\n",
       "    <tr>\n",
       "      <th>home_ownership</th>\n",
       "      <th></th>\n",
       "      <th></th>\n",
       "      <th></th>\n",
       "      <th></th>\n",
       "      <th></th>\n",
       "      <th></th>\n",
       "      <th></th>\n",
       "    </tr>\n",
       "  </thead>\n",
       "  <tbody>\n",
       "    <tr>\n",
       "      <th>MORTGAGE</th>\n",
       "      <td>2.6%</td>\n",
       "      <td>80.2%</td>\n",
       "      <td>0.1%</td>\n",
       "      <td>14.0%</td>\n",
       "      <td>0.9%</td>\n",
       "      <td>0.5%</td>\n",
       "      <td>1.7%</td>\n",
       "    </tr>\n",
       "    <tr>\n",
       "      <th>OWN</th>\n",
       "      <td>3.2%</td>\n",
       "      <td>79.4%</td>\n",
       "      <td>0.2%</td>\n",
       "      <td>13.4%</td>\n",
       "      <td>1.0%</td>\n",
       "      <td>0.6%</td>\n",
       "      <td>2.3%</td>\n",
       "    </tr>\n",
       "    <tr>\n",
       "      <th>RENT</th>\n",
       "      <td>3.9%</td>\n",
       "      <td>79.5%</td>\n",
       "      <td>0.2%</td>\n",
       "      <td>12.4%</td>\n",
       "      <td>1.0%</td>\n",
       "      <td>0.7%</td>\n",
       "      <td>2.4%</td>\n",
       "    </tr>\n",
       "  </tbody>\n",
       "</table>\n",
       "</div>"
      ],
      "text/plain": [
       "loan_status    Charged Off Current Default Fully Paid In Grace Period  \\\n",
       "home_ownership                                                          \n",
       "MORTGAGE              2.6%   80.2%    0.1%      14.0%            0.9%   \n",
       "OWN                   3.2%   79.4%    0.2%      13.4%            1.0%   \n",
       "RENT                  3.9%   79.5%    0.2%      12.4%            1.0%   \n",
       "\n",
       "loan_status    Late (16-30 days) Late (31-120 days)  \n",
       "home_ownership                                       \n",
       "MORTGAGE                    0.5%               1.7%  \n",
       "OWN                         0.6%               2.3%  \n",
       "RENT                        0.7%               2.4%  "
      ]
     },
     "execution_count": 70,
     "metadata": {},
     "output_type": "execute_result"
    }
   ],
   "source": [
    "home_status_percentage"
   ]
  },
  {
   "cell_type": "code",
   "execution_count": 51,
   "metadata": {
    "collapsed": false
   },
   "outputs": [],
   "source": [
    "# g = sns.factorplot(\"loan_status\", \"home_ownership\",\n",
    "#                     data=lending_data_df, kind=\"bar\",\n",
    "#                     size=6, palette=\"rainbow\")\n",
    "# g.despine(left=True)\n",
    "# g.set_ylabels(\"Current Loan Status\")"
   ]
  },
  {
   "cell_type": "markdown",
   "metadata": {},
   "source": [
    "Looking over the annual incomes we get an average income of rougly 77,000 and plotting the annual incomes over the \n",
    "loan status we begin seeeing at which income levels do most applicants default most.  "
   ]
  },
  {
   "cell_type": "code",
   "execution_count": 52,
   "metadata": {
    "collapsed": false
   },
   "outputs": [
    {
     "data": {
      "text/plain": [
       "count    4.210950e+05\n",
       "mean     7.696561e+04\n",
       "std      7.394996e+04\n",
       "min      0.000000e+00\n",
       "25%      4.600000e+04\n",
       "50%      6.500000e+04\n",
       "75%      9.169050e+04\n",
       "max      9.500000e+06\n",
       "Name: annual_inc, dtype: float64"
      ]
     },
     "execution_count": 52,
     "metadata": {},
     "output_type": "execute_result"
    }
   ],
   "source": [
    "lending_data_df['annual_inc'].describe()"
   ]
  },
  {
   "cell_type": "code",
   "execution_count": 71,
   "metadata": {
    "collapsed": false
   },
   "outputs": [
    {
     "data": {
      "text/plain": [
       "<matplotlib.axes._subplots.AxesSubplot at 0x115952f90>"
      ]
     },
     "execution_count": 71,
     "metadata": {},
     "output_type": "execute_result"
    },
    {
     "data": {
      "image/png": "[encoded data removed]",
      "text/plain": [
       "<matplotlib.figure.Figure at 0x11628d710>"
      ]
     },
     "metadata": {},
     "output_type": "display_data"
    }
   ],
   "source": [
    "lending_data_df['annual_inc'].hist()"
   ]
  },
  {
   "cell_type": "code",
   "execution_count": 73,
   "metadata": {
    "collapsed": false
   },
   "outputs": [],
   "source": [
    "below_200 = lending_data_df[['loan_status', 'annual_inc']]"
   ]
  },
  {
   "cell_type": "code",
   "execution_count": 77,
   "metadata": {
    "collapsed": false
   },
   "outputs": [
    {
     "data": {
      "text/html": [
       "<div>\n",
       "<table border=\"1\" class=\"dataframe\">\n",
       "  <thead>\n",
       "    <tr style=\"text-align: right;\">\n",
       "      <th></th>\n",
       "      <th>annual_inc</th>\n",
       "    </tr>\n",
       "    <tr>\n",
       "      <th>loan_status</th>\n",
       "      <th></th>\n",
       "    </tr>\n",
       "  </thead>\n",
       "  <tbody>\n",
       "    <tr>\n",
       "      <th>Charged Off</th>\n",
       "      <td>69714.158100</td>\n",
       "    </tr>\n",
       "    <tr>\n",
       "      <th>Current</th>\n",
       "      <td>77072.883368</td>\n",
       "    </tr>\n",
       "    <tr>\n",
       "      <th>Default</th>\n",
       "      <td>70068.329035</td>\n",
       "    </tr>\n",
       "    <tr>\n",
       "      <th>Fully Paid</th>\n",
       "      <td>79002.880111</td>\n",
       "    </tr>\n",
       "    <tr>\n",
       "      <th>In Grace Period</th>\n",
       "      <td>75433.860722</td>\n",
       "    </tr>\n",
       "    <tr>\n",
       "      <th>Late (16-30 days)</th>\n",
       "      <td>75400.005423</td>\n",
       "    </tr>\n",
       "    <tr>\n",
       "      <th>Late (31-120 days)</th>\n",
       "      <td>72344.986390</td>\n",
       "    </tr>\n",
       "  </tbody>\n",
       "</table>\n",
       "</div>"
      ],
      "text/plain": [
       "                      annual_inc\n",
       "loan_status                     \n",
       "Charged Off         69714.158100\n",
       "Current             77072.883368\n",
       "Default             70068.329035\n",
       "Fully Paid          79002.880111\n",
       "In Grace Period     75433.860722\n",
       "Late (16-30 days)   75400.005423\n",
       "Late (31-120 days)  72344.986390"
      ]
     },
     "execution_count": 77,
     "metadata": {},
     "output_type": "execute_result"
    }
   ],
   "source": [
    "below_200.groupby(['loan_status']).mean()"
   ]
  },
  {
   "cell_type": "code",
   "execution_count": 54,
   "metadata": {
    "collapsed": false
   },
   "outputs": [],
   "source": [
    "below_200 = below_200[below_200['annual_inc'] < 100000 ]"
   ]
  },
  {
   "cell_type": "code",
   "execution_count": 55,
   "metadata": {
    "collapsed": false
   },
   "outputs": [
    {
     "name": "stdout",
     "output_type": "stream",
     "text": [
      "<class 'pandas.core.frame.DataFrame'>\n",
      "Int64Index: 332437 entries, 1 to 421093\n",
      "Data columns (total 2 columns):\n",
      "loan_status    332437 non-null object\n",
      "annual_inc     332437 non-null float64\n",
      "dtypes: float64(1), object(1)\n",
      "memory usage: 7.6+ MB\n"
     ]
    }
   ],
   "source": [
    "below_200.info()"
   ]
  },
  {
   "cell_type": "code",
   "execution_count": 56,
   "metadata": {
    "collapsed": false
   },
   "outputs": [
    {
     "data": {
      "text/plain": [
       "Current               265097\n",
       "Fully Paid             43452\n",
       "Charged Off            11205\n",
       "Late (31-120 days)      7036\n",
       "In Grace Period         3182\n",
       "Late (16-30 days)       2026\n",
       "Default                  439\n",
       "Name: loan_status, dtype: int64"
      ]
     },
     "execution_count": 56,
     "metadata": {},
     "output_type": "execute_result"
    }
   ],
   "source": [
    "below_200['loan_status'].value_counts()"
   ]
  },
  {
   "cell_type": "code",
   "execution_count": 57,
   "metadata": {
    "collapsed": false
   },
   "outputs": [
    {
     "data": {
      "text/plain": [
       "<matplotlib.axes._subplots.AxesSubplot at 0x1178a3390>"
      ]
     },
     "execution_count": 57,
     "metadata": {},
     "output_type": "execute_result"
    },
    {
     "data": {
      "image/png": "[encoded data removed]",
      "text/plain": [
       "<matplotlib.figure.Figure at 0x1177db490>"
      ]
     },
     "metadata": {},
     "output_type": "display_data"
    }
   ],
   "source": [
    "sns.countplot(x='loan_status', data=below_200)"
   ]
  },
  {
   "cell_type": "code",
   "execution_count": 31,
   "metadata": {
    "collapsed": false
   },
   "outputs": [],
   "source": [
    "below_200_ratio = pd.DataFrame(below_200['loan_status'].value_counts())"
   ]
  },
  {
   "cell_type": "code",
   "execution_count": 33,
   "metadata": {
    "collapsed": false
   },
   "outputs": [
    {
     "data": {
      "text/html": [
       "<div>\n",
       "<table border=\"1\" class=\"dataframe\">\n",
       "  <thead>\n",
       "    <tr style=\"text-align: right;\">\n",
       "      <th></th>\n",
       "      <th>loan_status</th>\n",
       "      <th>rate</th>\n",
       "    </tr>\n",
       "  </thead>\n",
       "  <tbody>\n",
       "    <tr>\n",
       "      <th>Current</th>\n",
       "      <td>265097</td>\n",
       "      <td>0.797435</td>\n",
       "    </tr>\n",
       "    <tr>\n",
       "      <th>Fully Paid</th>\n",
       "      <td>43452</td>\n",
       "      <td>0.130707</td>\n",
       "    </tr>\n",
       "    <tr>\n",
       "      <th>Charged Off</th>\n",
       "      <td>11205</td>\n",
       "      <td>0.033706</td>\n",
       "    </tr>\n",
       "    <tr>\n",
       "      <th>Late (31-120 days)</th>\n",
       "      <td>7036</td>\n",
       "      <td>0.021165</td>\n",
       "    </tr>\n",
       "    <tr>\n",
       "      <th>In Grace Period</th>\n",
       "      <td>3182</td>\n",
       "      <td>0.009572</td>\n",
       "    </tr>\n",
       "    <tr>\n",
       "      <th>Late (16-30 days)</th>\n",
       "      <td>2026</td>\n",
       "      <td>0.006094</td>\n",
       "    </tr>\n",
       "    <tr>\n",
       "      <th>Default</th>\n",
       "      <td>439</td>\n",
       "      <td>0.001321</td>\n",
       "    </tr>\n",
       "  </tbody>\n",
       "</table>\n",
       "</div>"
      ],
      "text/plain": [
       "                    loan_status      rate\n",
       "Current                  265097  0.797435\n",
       "Fully Paid                43452  0.130707\n",
       "Charged Off               11205  0.033706\n",
       "Late (31-120 days)         7036  0.021165\n",
       "In Grace Period            3182  0.009572\n",
       "Late (16-30 days)          2026  0.006094\n",
       "Default                     439  0.001321"
      ]
     },
     "execution_count": 33,
     "metadata": {},
     "output_type": "execute_result"
    }
   ],
   "source": [
    "below_200_ratio"
   ]
  },
  {
   "cell_type": "markdown",
   "metadata": {},
   "source": [
    "By creating data frame of the value counts and the ratio we see for the income levels below 200000 almost 80% are current. "
   ]
  },
  {
   "cell_type": "code",
   "execution_count": 34,
   "metadata": {
    "collapsed": true
   },
   "outputs": [],
   "source": [
    "above_200 = lending_data_df[['loan_status', 'annual_inc']]"
   ]
  },
  {
   "cell_type": "code",
   "execution_count": 35,
   "metadata": {
    "collapsed": true
   },
   "outputs": [],
   "source": [
    "above_200 = above_200[above_200['annual_inc'] > 200000 ]"
   ]
  },
  {
   "cell_type": "code",
   "execution_count": 36,
   "metadata": {
    "collapsed": true
   },
   "outputs": [],
   "source": [
    "above_200_ratio = pd.DataFrame(above_200['loan_status'].value_counts())"
   ]
  },
  {
   "cell_type": "code",
   "execution_count": 37,
   "metadata": {
    "collapsed": true
   },
   "outputs": [],
   "source": [
    "above_200_ratio['rate'] = above_200_ratio['loan_status']/np.sum(above_200_ratio['loan_status'])"
   ]
  },
  {
   "cell_type": "code",
   "execution_count": 38,
   "metadata": {
    "collapsed": false
   },
   "outputs": [
    {
     "data": {
      "text/html": [
       "<div>\n",
       "<table border=\"1\" class=\"dataframe\">\n",
       "  <thead>\n",
       "    <tr style=\"text-align: right;\">\n",
       "      <th></th>\n",
       "      <th>loan_status</th>\n",
       "      <th>rate</th>\n",
       "    </tr>\n",
       "  </thead>\n",
       "  <tbody>\n",
       "    <tr>\n",
       "      <th>Current</th>\n",
       "      <td>7203</td>\n",
       "      <td>0.801580</td>\n",
       "    </tr>\n",
       "    <tr>\n",
       "      <th>Fully Paid</th>\n",
       "      <td>1313</td>\n",
       "      <td>0.146116</td>\n",
       "    </tr>\n",
       "    <tr>\n",
       "      <th>Charged Off</th>\n",
       "      <td>200</td>\n",
       "      <td>0.022257</td>\n",
       "    </tr>\n",
       "    <tr>\n",
       "      <th>Late (31-120 days)</th>\n",
       "      <td>126</td>\n",
       "      <td>0.014022</td>\n",
       "    </tr>\n",
       "    <tr>\n",
       "      <th>In Grace Period</th>\n",
       "      <td>88</td>\n",
       "      <td>0.009793</td>\n",
       "    </tr>\n",
       "    <tr>\n",
       "      <th>Late (16-30 days)</th>\n",
       "      <td>51</td>\n",
       "      <td>0.005675</td>\n",
       "    </tr>\n",
       "    <tr>\n",
       "      <th>Default</th>\n",
       "      <td>5</td>\n",
       "      <td>0.000556</td>\n",
       "    </tr>\n",
       "  </tbody>\n",
       "</table>\n",
       "</div>"
      ],
      "text/plain": [
       "                    loan_status      rate\n",
       "Current                    7203  0.801580\n",
       "Fully Paid                 1313  0.146116\n",
       "Charged Off                 200  0.022257\n",
       "Late (31-120 days)          126  0.014022\n",
       "In Grace Period              88  0.009793\n",
       "Late (16-30 days)            51  0.005675\n",
       "Default                       5  0.000556"
      ]
     },
     "execution_count": 38,
     "metadata": {},
     "output_type": "execute_result"
    }
   ],
   "source": [
    "above_200_ratio"
   ]
  },
  {
   "cell_type": "markdown",
   "metadata": {},
   "source": [
    "WOULD IT BE POSSIBLE TO MAKE INTO CATEGORIES: \n",
    "look at making buckets of income levels, "
   ]
  },
  {
   "cell_type": "code",
   "execution_count": null,
   "metadata": {
    "collapsed": true
   },
   "outputs": [],
   "source": []
  },
  {
   "cell_type": "markdown",
   "metadata": {},
   "source": [
    "For the applicants aboe 200000 we find similar results, roubly 80% keeping current, but we do see a lot less of a percentage who default.  "
   ]
  },
  {
   "cell_type": "code",
   "execution_count": 39,
   "metadata": {
    "collapsed": false
   },
   "outputs": [
    {
     "data": {
      "text/plain": [
       "76965.60866260547"
      ]
     },
     "execution_count": 39,
     "metadata": {},
     "output_type": "execute_result"
    }
   ],
   "source": [
    "np.mean(lending_data_df['annual_inc'])"
   ]
  },
  {
   "cell_type": "code",
   "execution_count": null,
   "metadata": {
    "collapsed": true
   },
   "outputs": [],
   "source": []
  },
  {
   "cell_type": "code",
   "execution_count": null,
   "metadata": {
    "collapsed": true
   },
   "outputs": [],
   "source": []
  },
  {
   "cell_type": "code",
   "execution_count": null,
   "metadata": {
    "collapsed": true
   },
   "outputs": [],
   "source": []
  },
  {
   "cell_type": "code",
   "execution_count": 237,
   "metadata": {
    "collapsed": false
   },
   "outputs": [],
   "source": [
    "# # import matplotlib.pyplot as plt\n",
    "# # import seaborn as sns\n",
    "# # import pandas as pd\n",
    "\n",
    "# # tips = sns.load_dataset(\"tips\")\n",
    "\n",
    "# sns.stripplot(x=\"home_ownership\", y=\"annual_inc\", hue=\"loan_status\",\n",
    "# data=lending_data_df, jitter=True,\n",
    "# palette=\"Set2\", split=True,linewidth=1,edgecolor='gray')\n",
    "\n",
    "# # Get the ax object to use later.\n",
    "# ax = sns.boxplot(x=\"home_ownership\", y=\"annual_inc\", hue=\"loan_status\",\n",
    "# data=lending_data_df,palette=\"Set2\",fliersize=0)\n",
    "\n",
    "# # Get the handles and labels. For this example it'll be 2 tuples\n",
    "# # of length 4 each.\n",
    "# handles, labels = ax.get_legend_handles_labels()\n",
    "\n",
    "# # When creating the legend, only use the first two elements\n",
    "# # to effectively remove the last two.\n",
    "# l = plt.legend(handles[0:], labels[0:], bbox_to_anchor=(1.05, 1), loc=2, borderaxespad=0.)\n",
    "\n",
    "# #bbox_to_anchor=(1.05, 1), loc=2, labels[0:], "
   ]
  },
  {
   "cell_type": "code",
   "execution_count": 238,
   "metadata": {
    "collapsed": false
   },
   "outputs": [],
   "source": [
    "# sns.stripplot(x=\"purpose\", y=\"annual_inc\", hue=\"loan_status\",\n",
    "# data=lending_data_df, jitter=True,\n",
    "# palette=\"Set2\", split=True,linewidth=1,edgecolor='gray')\n",
    "\n",
    "# # Get the ax object to use later.\n",
    "# ax = sns.boxplot(x=\"purpose\", y=\"annual_inc\", hue=\"loan_status\",\n",
    "# data=lending_data_df,palette=\"Set2\",fliersize=0)\n",
    "\n",
    "# # Get the handles and labels. For this example it'll be 2 tuples\n",
    "# # of length 4 each.\n",
    "# handles, labels = ax.get_legend_handles_labels()\n",
    "\n",
    "# # When creating the legend, only use the first two elements\n",
    "# # to effectively remove the last two.\n",
    "# l = plt.legend(handles[0:], labels[0:], bbox_to_anchor=(1.05, 1), loc=2, borderaxespad=0.)\n",
    "\n",
    "# #handles[0:], "
   ]
  },
  {
   "cell_type": "code",
   "execution_count": null,
   "metadata": {
    "collapsed": true
   },
   "outputs": [],
   "source": []
  }
 ],
 "metadata": {
  "anaconda-cloud": {},
  "kernelspec": {
   "display_name": "Python [conda root]",
   "language": "python",
   "name": "conda-root-py"
  },
  "language_info": {
   "codemirror_mode": {
    "name": "ipython",
    "version": 2
   },
   "file_extension": ".py",
   "mimetype": "text/x-python",
   "name": "python",
   "nbconvert_exporter": "python",
   "pygments_lexer": "ipython2",
   "version": "2.7.12"
  }
 },
 "nbformat": 4,
 "nbformat_minor": 1
}
