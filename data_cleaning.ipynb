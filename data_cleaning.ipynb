{
 "cells": [
  {
   "cell_type": "code",
   "execution_count": 1,
   "metadata": {
    "collapsed": false
   },
   "outputs": [
    {
     "name": "stderr",
     "output_type": "stream",
     "text": [
      "/Users/punkymonkey/anaconda/lib/python2.7/site-packages/matplotlib/__init__.py:1041: UserWarning: Duplicate key in file \"/Users/punkymonkey/.matplotlib/matplotlibrc\", line #2\n",
      "  (fname, cnt))\n"
     ]
    }
   ],
   "source": [
    "import pandas as pd"
   ]
  },
  {
   "cell_type": "code",
   "execution_count": 2,
   "metadata": {
    "collapsed": false
   },
   "outputs": [],
   "source": [
    "import seaborn as sns\n",
    "%matplotlib inline"
   ]
  },
  {
   "cell_type": "code",
   "execution_count": 3,
   "metadata": {
    "collapsed": false
   },
   "outputs": [],
   "source": [
    "df = pd.read_csv('LoanStats3d_securev1.csv', low_memory=False)"
   ]
  },
  {
   "cell_type": "code",
   "execution_count": 4,
   "metadata": {
    "collapsed": false
   },
   "outputs": [
    {
     "name": "stdout",
     "output_type": "stream",
     "text": [
      "<class 'pandas.core.frame.DataFrame'>\n",
      "RangeIndex: 421097 entries, 0 to 421096\n",
      "Columns: 115 entries, id to total_il_high_credit_limit\n",
      "dtypes: float64(89), object(26)\n",
      "memory usage: 369.5+ MB\n"
     ]
    }
   ],
   "source": [
    "df.info()"
   ]
  },
  {
   "cell_type": "code",
   "execution_count": 5,
   "metadata": {
    "collapsed": false
   },
   "outputs": [
    {
     "data": {
      "text/html": [
       "<div>\n",
       "<table border=\"1\" class=\"dataframe\">\n",
       "  <thead>\n",
       "    <tr style=\"text-align: right;\">\n",
       "      <th></th>\n",
       "      <th>id</th>\n",
       "      <th>member_id</th>\n",
       "      <th>loan_amnt</th>\n",
       "      <th>funded_amnt</th>\n",
       "      <th>funded_amnt_inv</th>\n",
       "      <th>term</th>\n",
       "      <th>int_rate</th>\n",
       "      <th>installment</th>\n",
       "      <th>grade</th>\n",
       "      <th>sub_grade</th>\n",
       "      <th>...</th>\n",
       "      <th>num_tl_90g_dpd_24m</th>\n",
       "      <th>num_tl_op_past_12m</th>\n",
       "      <th>pct_tl_nvr_dlq</th>\n",
       "      <th>percent_bc_gt_75</th>\n",
       "      <th>pub_rec_bankruptcies</th>\n",
       "      <th>tax_liens</th>\n",
       "      <th>tot_hi_cred_lim</th>\n",
       "      <th>total_bal_ex_mort</th>\n",
       "      <th>total_bc_limit</th>\n",
       "      <th>total_il_high_credit_limit</th>\n",
       "    </tr>\n",
       "  </thead>\n",
       "  <tbody>\n",
       "    <tr>\n",
       "      <th>0</th>\n",
       "      <td>68407301</td>\n",
       "      <td>73297138.0</td>\n",
       "      <td>27500.0</td>\n",
       "      <td>27500.0</td>\n",
       "      <td>27500.0</td>\n",
       "      <td>60 months</td>\n",
       "      <td>14.85%</td>\n",
       "      <td>652.06</td>\n",
       "      <td>C</td>\n",
       "      <td>C5</td>\n",
       "      <td>...</td>\n",
       "      <td>0.0</td>\n",
       "      <td>1.0</td>\n",
       "      <td>100.0</td>\n",
       "      <td>57.1</td>\n",
       "      <td>0.0</td>\n",
       "      <td>0.0</td>\n",
       "      <td>325100.0</td>\n",
       "      <td>44977.0</td>\n",
       "      <td>55500.0</td>\n",
       "      <td>13200.0</td>\n",
       "    </tr>\n",
       "    <tr>\n",
       "      <th>1</th>\n",
       "      <td>68366999</td>\n",
       "      <td>73256850.0</td>\n",
       "      <td>15850.0</td>\n",
       "      <td>15850.0</td>\n",
       "      <td>15850.0</td>\n",
       "      <td>60 months</td>\n",
       "      <td>23.13%</td>\n",
       "      <td>448.01</td>\n",
       "      <td>F</td>\n",
       "      <td>F2</td>\n",
       "      <td>...</td>\n",
       "      <td>0.0</td>\n",
       "      <td>4.0</td>\n",
       "      <td>100.0</td>\n",
       "      <td>0.0</td>\n",
       "      <td>0.0</td>\n",
       "      <td>0.0</td>\n",
       "      <td>84300.0</td>\n",
       "      <td>45025.0</td>\n",
       "      <td>19900.0</td>\n",
       "      <td>43000.0</td>\n",
       "    </tr>\n",
       "    <tr>\n",
       "      <th>2</th>\n",
       "      <td>67715283</td>\n",
       "      <td>72569997.0</td>\n",
       "      <td>16000.0</td>\n",
       "      <td>16000.0</td>\n",
       "      <td>16000.0</td>\n",
       "      <td>36 months</td>\n",
       "      <td>12.88%</td>\n",
       "      <td>538.18</td>\n",
       "      <td>C</td>\n",
       "      <td>C2</td>\n",
       "      <td>...</td>\n",
       "      <td>0.0</td>\n",
       "      <td>2.0</td>\n",
       "      <td>80.0</td>\n",
       "      <td>0.0</td>\n",
       "      <td>0.0</td>\n",
       "      <td>1.0</td>\n",
       "      <td>80999.0</td>\n",
       "      <td>39781.0</td>\n",
       "      <td>4700.0</td>\n",
       "      <td>71499.0</td>\n",
       "    </tr>\n",
       "    <tr>\n",
       "      <th>3</th>\n",
       "      <td>68416916</td>\n",
       "      <td>73306740.0</td>\n",
       "      <td>28000.0</td>\n",
       "      <td>28000.0</td>\n",
       "      <td>28000.0</td>\n",
       "      <td>60 months</td>\n",
       "      <td>18.49%</td>\n",
       "      <td>718.51</td>\n",
       "      <td>D</td>\n",
       "      <td>D5</td>\n",
       "      <td>...</td>\n",
       "      <td>0.0</td>\n",
       "      <td>2.0</td>\n",
       "      <td>100.0</td>\n",
       "      <td>50.0</td>\n",
       "      <td>0.0</td>\n",
       "      <td>0.0</td>\n",
       "      <td>267312.0</td>\n",
       "      <td>57302.0</td>\n",
       "      <td>58500.0</td>\n",
       "      <td>31758.0</td>\n",
       "    </tr>\n",
       "    <tr>\n",
       "      <th>4</th>\n",
       "      <td>68543413</td>\n",
       "      <td>73433136.0</td>\n",
       "      <td>10000.0</td>\n",
       "      <td>10000.0</td>\n",
       "      <td>10000.0</td>\n",
       "      <td>36 months</td>\n",
       "      <td>12.88%</td>\n",
       "      <td>336.37</td>\n",
       "      <td>C</td>\n",
       "      <td>C2</td>\n",
       "      <td>...</td>\n",
       "      <td>0.0</td>\n",
       "      <td>3.0</td>\n",
       "      <td>100.0</td>\n",
       "      <td>100.0</td>\n",
       "      <td>0.0</td>\n",
       "      <td>0.0</td>\n",
       "      <td>321380.0</td>\n",
       "      <td>73732.0</td>\n",
       "      <td>4400.0</td>\n",
       "      <td>68648.0</td>\n",
       "    </tr>\n",
       "    <tr>\n",
       "      <th>5</th>\n",
       "      <td>68597047</td>\n",
       "      <td>73486873.0</td>\n",
       "      <td>19000.0</td>\n",
       "      <td>19000.0</td>\n",
       "      <td>19000.0</td>\n",
       "      <td>60 months</td>\n",
       "      <td>14.85%</td>\n",
       "      <td>450.52</td>\n",
       "      <td>C</td>\n",
       "      <td>C5</td>\n",
       "      <td>...</td>\n",
       "      <td>0.0</td>\n",
       "      <td>4.0</td>\n",
       "      <td>94.1</td>\n",
       "      <td>100.0</td>\n",
       "      <td>0.0</td>\n",
       "      <td>0.0</td>\n",
       "      <td>94620.0</td>\n",
       "      <td>48159.0</td>\n",
       "      <td>7500.0</td>\n",
       "      <td>36720.0</td>\n",
       "    </tr>\n",
       "    <tr>\n",
       "      <th>6</th>\n",
       "      <td>66310712</td>\n",
       "      <td>71035433.0</td>\n",
       "      <td>35000.0</td>\n",
       "      <td>35000.0</td>\n",
       "      <td>35000.0</td>\n",
       "      <td>60 months</td>\n",
       "      <td>14.85%</td>\n",
       "      <td>829.90</td>\n",
       "      <td>C</td>\n",
       "      <td>C5</td>\n",
       "      <td>...</td>\n",
       "      <td>0.0</td>\n",
       "      <td>1.0</td>\n",
       "      <td>100.0</td>\n",
       "      <td>0.0</td>\n",
       "      <td>0.0</td>\n",
       "      <td>0.0</td>\n",
       "      <td>381215.0</td>\n",
       "      <td>52226.0</td>\n",
       "      <td>62500.0</td>\n",
       "      <td>18000.0</td>\n",
       "    </tr>\n",
       "    <tr>\n",
       "      <th>7</th>\n",
       "      <td>68009401</td>\n",
       "      <td>72868139.0</td>\n",
       "      <td>16000.0</td>\n",
       "      <td>16000.0</td>\n",
       "      <td>16000.0</td>\n",
       "      <td>60 months</td>\n",
       "      <td>14.85%</td>\n",
       "      <td>379.39</td>\n",
       "      <td>C</td>\n",
       "      <td>C5</td>\n",
       "      <td>...</td>\n",
       "      <td>0.0</td>\n",
       "      <td>2.0</td>\n",
       "      <td>78.9</td>\n",
       "      <td>0.0</td>\n",
       "      <td>0.0</td>\n",
       "      <td>2.0</td>\n",
       "      <td>298100.0</td>\n",
       "      <td>31329.0</td>\n",
       "      <td>281300.0</td>\n",
       "      <td>13400.0</td>\n",
       "    </tr>\n",
       "    <tr>\n",
       "      <th>8</th>\n",
       "      <td>68466916</td>\n",
       "      <td>73356753.0</td>\n",
       "      <td>25000.0</td>\n",
       "      <td>25000.0</td>\n",
       "      <td>25000.0</td>\n",
       "      <td>36 months</td>\n",
       "      <td>7.49%</td>\n",
       "      <td>777.55</td>\n",
       "      <td>A</td>\n",
       "      <td>A4</td>\n",
       "      <td>...</td>\n",
       "      <td>0.0</td>\n",
       "      <td>0.0</td>\n",
       "      <td>100.0</td>\n",
       "      <td>20.0</td>\n",
       "      <td>0.0</td>\n",
       "      <td>0.0</td>\n",
       "      <td>373572.0</td>\n",
       "      <td>68056.0</td>\n",
       "      <td>38400.0</td>\n",
       "      <td>82117.0</td>\n",
       "    </tr>\n",
       "    <tr>\n",
       "      <th>9</th>\n",
       "      <td>68577849</td>\n",
       "      <td>73467703.0</td>\n",
       "      <td>18000.0</td>\n",
       "      <td>18000.0</td>\n",
       "      <td>18000.0</td>\n",
       "      <td>60 months</td>\n",
       "      <td>11.99%</td>\n",
       "      <td>400.31</td>\n",
       "      <td>C</td>\n",
       "      <td>C1</td>\n",
       "      <td>...</td>\n",
       "      <td>0.0</td>\n",
       "      <td>4.0</td>\n",
       "      <td>100.0</td>\n",
       "      <td>0.0</td>\n",
       "      <td>0.0</td>\n",
       "      <td>0.0</td>\n",
       "      <td>309710.0</td>\n",
       "      <td>36127.0</td>\n",
       "      <td>69800.0</td>\n",
       "      <td>26210.0</td>\n",
       "    </tr>\n",
       "    <tr>\n",
       "      <th>10</th>\n",
       "      <td>67849662</td>\n",
       "      <td>72708407.0</td>\n",
       "      <td>4225.0</td>\n",
       "      <td>4225.0</td>\n",
       "      <td>4225.0</td>\n",
       "      <td>36 months</td>\n",
       "      <td>14.85%</td>\n",
       "      <td>146.16</td>\n",
       "      <td>C</td>\n",
       "      <td>C5</td>\n",
       "      <td>...</td>\n",
       "      <td>0.0</td>\n",
       "      <td>0.0</td>\n",
       "      <td>66.7</td>\n",
       "      <td>0.0</td>\n",
       "      <td>0.0</td>\n",
       "      <td>0.0</td>\n",
       "      <td>21822.0</td>\n",
       "      <td>4888.0</td>\n",
       "      <td>2600.0</td>\n",
       "      <td>17522.0</td>\n",
       "    </tr>\n",
       "    <tr>\n",
       "      <th>11</th>\n",
       "      <td>68341789</td>\n",
       "      <td>73544827.0</td>\n",
       "      <td>24250.0</td>\n",
       "      <td>24250.0</td>\n",
       "      <td>24250.0</td>\n",
       "      <td>60 months</td>\n",
       "      <td>24.24%</td>\n",
       "      <td>701.01</td>\n",
       "      <td>F</td>\n",
       "      <td>F3</td>\n",
       "      <td>...</td>\n",
       "      <td>0.0</td>\n",
       "      <td>3.0</td>\n",
       "      <td>100.0</td>\n",
       "      <td>63.6</td>\n",
       "      <td>0.0</td>\n",
       "      <td>0.0</td>\n",
       "      <td>344960.0</td>\n",
       "      <td>38475.0</td>\n",
       "      <td>29100.0</td>\n",
       "      <td>18300.0</td>\n",
       "    </tr>\n",
       "    <tr>\n",
       "      <th>12</th>\n",
       "      <td>68547583</td>\n",
       "      <td>73437441.0</td>\n",
       "      <td>8650.0</td>\n",
       "      <td>8650.0</td>\n",
       "      <td>8650.0</td>\n",
       "      <td>36 months</td>\n",
       "      <td>5.32%</td>\n",
       "      <td>260.50</td>\n",
       "      <td>A</td>\n",
       "      <td>A1</td>\n",
       "      <td>...</td>\n",
       "      <td>0.0</td>\n",
       "      <td>1.0</td>\n",
       "      <td>100.0</td>\n",
       "      <td>0.0</td>\n",
       "      <td>0.0</td>\n",
       "      <td>0.0</td>\n",
       "      <td>191618.0</td>\n",
       "      <td>31199.0</td>\n",
       "      <td>18300.0</td>\n",
       "      <td>27078.0</td>\n",
       "    </tr>\n",
       "    <tr>\n",
       "      <th>13</th>\n",
       "      <td>68527009</td>\n",
       "      <td>73416854.0</td>\n",
       "      <td>20000.0</td>\n",
       "      <td>20000.0</td>\n",
       "      <td>20000.0</td>\n",
       "      <td>36 months</td>\n",
       "      <td>9.80%</td>\n",
       "      <td>643.47</td>\n",
       "      <td>B</td>\n",
       "      <td>B3</td>\n",
       "      <td>...</td>\n",
       "      <td>0.0</td>\n",
       "      <td>5.0</td>\n",
       "      <td>92.3</td>\n",
       "      <td>0.0</td>\n",
       "      <td>0.0</td>\n",
       "      <td>0.0</td>\n",
       "      <td>117477.0</td>\n",
       "      <td>40090.0</td>\n",
       "      <td>51600.0</td>\n",
       "      <td>38577.0</td>\n",
       "    </tr>\n",
       "    <tr>\n",
       "      <th>14</th>\n",
       "      <td>68387134</td>\n",
       "      <td>73276991.0</td>\n",
       "      <td>2500.0</td>\n",
       "      <td>2500.0</td>\n",
       "      <td>2500.0</td>\n",
       "      <td>36 months</td>\n",
       "      <td>17.27%</td>\n",
       "      <td>89.47</td>\n",
       "      <td>D</td>\n",
       "      <td>D3</td>\n",
       "      <td>...</td>\n",
       "      <td>1.0</td>\n",
       "      <td>3.0</td>\n",
       "      <td>68.4</td>\n",
       "      <td>0.0</td>\n",
       "      <td>0.0</td>\n",
       "      <td>0.0</td>\n",
       "      <td>196429.0</td>\n",
       "      <td>197169.0</td>\n",
       "      <td>700.0</td>\n",
       "      <td>193929.0</td>\n",
       "    </tr>\n",
       "    <tr>\n",
       "      <th>15</th>\n",
       "      <td>68566856</td>\n",
       "      <td>73456693.0</td>\n",
       "      <td>28800.0</td>\n",
       "      <td>28800.0</td>\n",
       "      <td>28800.0</td>\n",
       "      <td>60 months</td>\n",
       "      <td>11.99%</td>\n",
       "      <td>640.50</td>\n",
       "      <td>C</td>\n",
       "      <td>C1</td>\n",
       "      <td>...</td>\n",
       "      <td>0.0</td>\n",
       "      <td>4.0</td>\n",
       "      <td>100.0</td>\n",
       "      <td>0.0</td>\n",
       "      <td>0.0</td>\n",
       "      <td>0.0</td>\n",
       "      <td>200980.0</td>\n",
       "      <td>41270.0</td>\n",
       "      <td>159700.0</td>\n",
       "      <td>25180.0</td>\n",
       "    </tr>\n",
       "    <tr>\n",
       "      <th>16</th>\n",
       "      <td>68466995</td>\n",
       "      <td>73356835.0</td>\n",
       "      <td>10000.0</td>\n",
       "      <td>10000.0</td>\n",
       "      <td>10000.0</td>\n",
       "      <td>36 months</td>\n",
       "      <td>7.91%</td>\n",
       "      <td>312.95</td>\n",
       "      <td>A</td>\n",
       "      <td>A5</td>\n",
       "      <td>...</td>\n",
       "      <td>0.0</td>\n",
       "      <td>1.0</td>\n",
       "      <td>100.0</td>\n",
       "      <td>0.0</td>\n",
       "      <td>0.0</td>\n",
       "      <td>0.0</td>\n",
       "      <td>35247.0</td>\n",
       "      <td>27354.0</td>\n",
       "      <td>13000.0</td>\n",
       "      <td>20447.0</td>\n",
       "    </tr>\n",
       "    <tr>\n",
       "      <th>17</th>\n",
       "      <td>68444620</td>\n",
       "      <td>73334399.0</td>\n",
       "      <td>35000.0</td>\n",
       "      <td>35000.0</td>\n",
       "      <td>35000.0</td>\n",
       "      <td>60 months</td>\n",
       "      <td>11.99%</td>\n",
       "      <td>778.38</td>\n",
       "      <td>C</td>\n",
       "      <td>C1</td>\n",
       "      <td>...</td>\n",
       "      <td>0.0</td>\n",
       "      <td>1.0</td>\n",
       "      <td>91.3</td>\n",
       "      <td>33.3</td>\n",
       "      <td>0.0</td>\n",
       "      <td>0.0</td>\n",
       "      <td>220950.0</td>\n",
       "      <td>49644.0</td>\n",
       "      <td>26800.0</td>\n",
       "      <td>71700.0</td>\n",
       "    </tr>\n",
       "    <tr>\n",
       "      <th>18</th>\n",
       "      <td>68506885</td>\n",
       "      <td>73396712.0</td>\n",
       "      <td>10000.0</td>\n",
       "      <td>10000.0</td>\n",
       "      <td>10000.0</td>\n",
       "      <td>60 months</td>\n",
       "      <td>11.99%</td>\n",
       "      <td>222.40</td>\n",
       "      <td>C</td>\n",
       "      <td>C1</td>\n",
       "      <td>...</td>\n",
       "      <td>0.0</td>\n",
       "      <td>1.0</td>\n",
       "      <td>100.0</td>\n",
       "      <td>50.0</td>\n",
       "      <td>0.0</td>\n",
       "      <td>0.0</td>\n",
       "      <td>61054.0</td>\n",
       "      <td>41166.0</td>\n",
       "      <td>13100.0</td>\n",
       "      <td>46854.0</td>\n",
       "    </tr>\n",
       "    <tr>\n",
       "      <th>19</th>\n",
       "      <td>68426865</td>\n",
       "      <td>73316695.0</td>\n",
       "      <td>20000.0</td>\n",
       "      <td>20000.0</td>\n",
       "      <td>20000.0</td>\n",
       "      <td>36 months</td>\n",
       "      <td>14.85%</td>\n",
       "      <td>691.84</td>\n",
       "      <td>C</td>\n",
       "      <td>C5</td>\n",
       "      <td>...</td>\n",
       "      <td>0.0</td>\n",
       "      <td>1.0</td>\n",
       "      <td>100.0</td>\n",
       "      <td>100.0</td>\n",
       "      <td>0.0</td>\n",
       "      <td>0.0</td>\n",
       "      <td>45509.0</td>\n",
       "      <td>37491.0</td>\n",
       "      <td>21500.0</td>\n",
       "      <td>20000.0</td>\n",
       "    </tr>\n",
       "    <tr>\n",
       "      <th>20</th>\n",
       "      <td>68617034</td>\n",
       "      <td>73519870.0</td>\n",
       "      <td>14650.0</td>\n",
       "      <td>14650.0</td>\n",
       "      <td>14650.0</td>\n",
       "      <td>60 months</td>\n",
       "      <td>20.50%</td>\n",
       "      <td>392.23</td>\n",
       "      <td>E</td>\n",
       "      <td>E4</td>\n",
       "      <td>...</td>\n",
       "      <td>0.0</td>\n",
       "      <td>0.0</td>\n",
       "      <td>100.0</td>\n",
       "      <td>100.0</td>\n",
       "      <td>0.0</td>\n",
       "      <td>0.0</td>\n",
       "      <td>67732.0</td>\n",
       "      <td>62813.0</td>\n",
       "      <td>11200.0</td>\n",
       "      <td>56532.0</td>\n",
       "    </tr>\n",
       "    <tr>\n",
       "      <th>21</th>\n",
       "      <td>68615169</td>\n",
       "      <td>73517949.0</td>\n",
       "      <td>16000.0</td>\n",
       "      <td>16000.0</td>\n",
       "      <td>16000.0</td>\n",
       "      <td>60 months</td>\n",
       "      <td>8.49%</td>\n",
       "      <td>328.19</td>\n",
       "      <td>B</td>\n",
       "      <td>B1</td>\n",
       "      <td>...</td>\n",
       "      <td>0.0</td>\n",
       "      <td>3.0</td>\n",
       "      <td>87.5</td>\n",
       "      <td>50.0</td>\n",
       "      <td>0.0</td>\n",
       "      <td>0.0</td>\n",
       "      <td>307343.0</td>\n",
       "      <td>64371.0</td>\n",
       "      <td>23500.0</td>\n",
       "      <td>59526.0</td>\n",
       "    </tr>\n",
       "    <tr>\n",
       "      <th>22</th>\n",
       "      <td>68396080</td>\n",
       "      <td>73285902.0</td>\n",
       "      <td>25000.0</td>\n",
       "      <td>25000.0</td>\n",
       "      <td>25000.0</td>\n",
       "      <td>60 months</td>\n",
       "      <td>11.48%</td>\n",
       "      <td>549.57</td>\n",
       "      <td>B</td>\n",
       "      <td>B5</td>\n",
       "      <td>...</td>\n",
       "      <td>0.0</td>\n",
       "      <td>4.0</td>\n",
       "      <td>97.0</td>\n",
       "      <td>0.0</td>\n",
       "      <td>0.0</td>\n",
       "      <td>0.0</td>\n",
       "      <td>72150.0</td>\n",
       "      <td>23522.0</td>\n",
       "      <td>45800.0</td>\n",
       "      <td>17750.0</td>\n",
       "    </tr>\n",
       "    <tr>\n",
       "      <th>23</th>\n",
       "      <td>68476807</td>\n",
       "      <td>73366655.0</td>\n",
       "      <td>10400.0</td>\n",
       "      <td>10400.0</td>\n",
       "      <td>10400.0</td>\n",
       "      <td>60 months</td>\n",
       "      <td>22.45%</td>\n",
       "      <td>289.91</td>\n",
       "      <td>F</td>\n",
       "      <td>F1</td>\n",
       "      <td>...</td>\n",
       "      <td>0.0</td>\n",
       "      <td>4.0</td>\n",
       "      <td>96.6</td>\n",
       "      <td>60.0</td>\n",
       "      <td>0.0</td>\n",
       "      <td>0.0</td>\n",
       "      <td>439570.0</td>\n",
       "      <td>95768.0</td>\n",
       "      <td>20300.0</td>\n",
       "      <td>88097.0</td>\n",
       "    </tr>\n",
       "    <tr>\n",
       "      <th>24</th>\n",
       "      <td>68341763</td>\n",
       "      <td>72928789.0</td>\n",
       "      <td>20000.0</td>\n",
       "      <td>20000.0</td>\n",
       "      <td>20000.0</td>\n",
       "      <td>60 months</td>\n",
       "      <td>10.78%</td>\n",
       "      <td>432.66</td>\n",
       "      <td>B</td>\n",
       "      <td>B4</td>\n",
       "      <td>...</td>\n",
       "      <td>0.0</td>\n",
       "      <td>0.0</td>\n",
       "      <td>100.0</td>\n",
       "      <td>50.0</td>\n",
       "      <td>0.0</td>\n",
       "      <td>0.0</td>\n",
       "      <td>218418.0</td>\n",
       "      <td>18696.0</td>\n",
       "      <td>6200.0</td>\n",
       "      <td>14877.0</td>\n",
       "    </tr>\n",
       "    <tr>\n",
       "      <th>25</th>\n",
       "      <td>68426831</td>\n",
       "      <td>73316657.0</td>\n",
       "      <td>11950.0</td>\n",
       "      <td>11950.0</td>\n",
       "      <td>11950.0</td>\n",
       "      <td>36 months</td>\n",
       "      <td>13.44%</td>\n",
       "      <td>405.18</td>\n",
       "      <td>C</td>\n",
       "      <td>C3</td>\n",
       "      <td>...</td>\n",
       "      <td>0.0</td>\n",
       "      <td>0.0</td>\n",
       "      <td>100.0</td>\n",
       "      <td>100.0</td>\n",
       "      <td>0.0</td>\n",
       "      <td>0.0</td>\n",
       "      <td>16900.0</td>\n",
       "      <td>12798.0</td>\n",
       "      <td>9400.0</td>\n",
       "      <td>4000.0</td>\n",
       "    </tr>\n",
       "    <tr>\n",
       "      <th>26</th>\n",
       "      <td>68426545</td>\n",
       "      <td>73316365.0</td>\n",
       "      <td>16000.0</td>\n",
       "      <td>16000.0</td>\n",
       "      <td>16000.0</td>\n",
       "      <td>60 months</td>\n",
       "      <td>12.88%</td>\n",
       "      <td>363.07</td>\n",
       "      <td>C</td>\n",
       "      <td>C2</td>\n",
       "      <td>...</td>\n",
       "      <td>0.0</td>\n",
       "      <td>1.0</td>\n",
       "      <td>100.0</td>\n",
       "      <td>60.0</td>\n",
       "      <td>0.0</td>\n",
       "      <td>0.0</td>\n",
       "      <td>309638.0</td>\n",
       "      <td>62407.0</td>\n",
       "      <td>45900.0</td>\n",
       "      <td>45838.0</td>\n",
       "    </tr>\n",
       "    <tr>\n",
       "      <th>27</th>\n",
       "      <td>68495092</td>\n",
       "      <td>73384866.0</td>\n",
       "      <td>8650.0</td>\n",
       "      <td>8650.0</td>\n",
       "      <td>8650.0</td>\n",
       "      <td>36 months</td>\n",
       "      <td>19.89%</td>\n",
       "      <td>320.99</td>\n",
       "      <td>E</td>\n",
       "      <td>E3</td>\n",
       "      <td>...</td>\n",
       "      <td>0.0</td>\n",
       "      <td>12.0</td>\n",
       "      <td>100.0</td>\n",
       "      <td>50.0</td>\n",
       "      <td>1.0</td>\n",
       "      <td>0.0</td>\n",
       "      <td>38998.0</td>\n",
       "      <td>18926.0</td>\n",
       "      <td>2750.0</td>\n",
       "      <td>18248.0</td>\n",
       "    </tr>\n",
       "    <tr>\n",
       "      <th>28</th>\n",
       "      <td>68566886</td>\n",
       "      <td>73456723.0</td>\n",
       "      <td>29900.0</td>\n",
       "      <td>29900.0</td>\n",
       "      <td>29900.0</td>\n",
       "      <td>60 months</td>\n",
       "      <td>12.88%</td>\n",
       "      <td>678.49</td>\n",
       "      <td>C</td>\n",
       "      <td>C2</td>\n",
       "      <td>...</td>\n",
       "      <td>0.0</td>\n",
       "      <td>4.0</td>\n",
       "      <td>100.0</td>\n",
       "      <td>25.0</td>\n",
       "      <td>0.0</td>\n",
       "      <td>0.0</td>\n",
       "      <td>271700.0</td>\n",
       "      <td>42497.0</td>\n",
       "      <td>34000.0</td>\n",
       "      <td>15574.0</td>\n",
       "    </tr>\n",
       "    <tr>\n",
       "      <th>29</th>\n",
       "      <td>68446820</td>\n",
       "      <td>73336644.0</td>\n",
       "      <td>10000.0</td>\n",
       "      <td>10000.0</td>\n",
       "      <td>10000.0</td>\n",
       "      <td>36 months</td>\n",
       "      <td>11.48%</td>\n",
       "      <td>329.67</td>\n",
       "      <td>B</td>\n",
       "      <td>B5</td>\n",
       "      <td>...</td>\n",
       "      <td>0.0</td>\n",
       "      <td>2.0</td>\n",
       "      <td>100.0</td>\n",
       "      <td>33.3</td>\n",
       "      <td>0.0</td>\n",
       "      <td>1.0</td>\n",
       "      <td>49732.0</td>\n",
       "      <td>23197.0</td>\n",
       "      <td>20800.0</td>\n",
       "      <td>27132.0</td>\n",
       "    </tr>\n",
       "    <tr>\n",
       "      <th>...</th>\n",
       "      <td>...</td>\n",
       "      <td>...</td>\n",
       "      <td>...</td>\n",
       "      <td>...</td>\n",
       "      <td>...</td>\n",
       "      <td>...</td>\n",
       "      <td>...</td>\n",
       "      <td>...</td>\n",
       "      <td>...</td>\n",
       "      <td>...</td>\n",
       "      <td>...</td>\n",
       "      <td>...</td>\n",
       "      <td>...</td>\n",
       "      <td>...</td>\n",
       "      <td>...</td>\n",
       "      <td>...</td>\n",
       "      <td>...</td>\n",
       "      <td>...</td>\n",
       "      <td>...</td>\n",
       "      <td>...</td>\n",
       "      <td>...</td>\n",
       "    </tr>\n",
       "    <tr>\n",
       "      <th>421067</th>\n",
       "      <td>36500819</td>\n",
       "      <td>39232937.0</td>\n",
       "      <td>10300.0</td>\n",
       "      <td>10300.0</td>\n",
       "      <td>10300.0</td>\n",
       "      <td>60 months</td>\n",
       "      <td>13.66%</td>\n",
       "      <td>237.86</td>\n",
       "      <td>C</td>\n",
       "      <td>C3</td>\n",
       "      <td>...</td>\n",
       "      <td>0.0</td>\n",
       "      <td>2.0</td>\n",
       "      <td>95.8</td>\n",
       "      <td>42.9</td>\n",
       "      <td>0.0</td>\n",
       "      <td>0.0</td>\n",
       "      <td>58710.0</td>\n",
       "      <td>41956.0</td>\n",
       "      <td>17100.0</td>\n",
       "      <td>36710.0</td>\n",
       "    </tr>\n",
       "    <tr>\n",
       "      <th>421068</th>\n",
       "      <td>36743377</td>\n",
       "      <td>39486112.0</td>\n",
       "      <td>4200.0</td>\n",
       "      <td>4200.0</td>\n",
       "      <td>4200.0</td>\n",
       "      <td>36 months</td>\n",
       "      <td>15.99%</td>\n",
       "      <td>147.64</td>\n",
       "      <td>D</td>\n",
       "      <td>D2</td>\n",
       "      <td>...</td>\n",
       "      <td>0.0</td>\n",
       "      <td>6.0</td>\n",
       "      <td>88.9</td>\n",
       "      <td>100.0</td>\n",
       "      <td>0.0</td>\n",
       "      <td>0.0</td>\n",
       "      <td>224211.0</td>\n",
       "      <td>45512.0</td>\n",
       "      <td>5600.0</td>\n",
       "      <td>40401.0</td>\n",
       "    </tr>\n",
       "    <tr>\n",
       "      <th>421069</th>\n",
       "      <td>36371802</td>\n",
       "      <td>39103231.0</td>\n",
       "      <td>15000.0</td>\n",
       "      <td>15000.0</td>\n",
       "      <td>15000.0</td>\n",
       "      <td>60 months</td>\n",
       "      <td>11.44%</td>\n",
       "      <td>329.44</td>\n",
       "      <td>B</td>\n",
       "      <td>B4</td>\n",
       "      <td>...</td>\n",
       "      <td>0.0</td>\n",
       "      <td>2.0</td>\n",
       "      <td>100.0</td>\n",
       "      <td>40.0</td>\n",
       "      <td>0.0</td>\n",
       "      <td>0.0</td>\n",
       "      <td>47674.0</td>\n",
       "      <td>33529.0</td>\n",
       "      <td>22500.0</td>\n",
       "      <td>21574.0</td>\n",
       "    </tr>\n",
       "    <tr>\n",
       "      <th>421070</th>\n",
       "      <td>35773415</td>\n",
       "      <td>38468842.0</td>\n",
       "      <td>18700.0</td>\n",
       "      <td>18700.0</td>\n",
       "      <td>18700.0</td>\n",
       "      <td>60 months</td>\n",
       "      <td>17.86%</td>\n",
       "      <td>473.44</td>\n",
       "      <td>D</td>\n",
       "      <td>D5</td>\n",
       "      <td>...</td>\n",
       "      <td>0.0</td>\n",
       "      <td>3.0</td>\n",
       "      <td>88.9</td>\n",
       "      <td>50.0</td>\n",
       "      <td>0.0</td>\n",
       "      <td>0.0</td>\n",
       "      <td>42499.0</td>\n",
       "      <td>40164.0</td>\n",
       "      <td>10000.0</td>\n",
       "      <td>32299.0</td>\n",
       "    </tr>\n",
       "    <tr>\n",
       "      <th>421071</th>\n",
       "      <td>36250801</td>\n",
       "      <td>38962184.0</td>\n",
       "      <td>6000.0</td>\n",
       "      <td>6000.0</td>\n",
       "      <td>6000.0</td>\n",
       "      <td>36 months</td>\n",
       "      <td>17.86%</td>\n",
       "      <td>216.50</td>\n",
       "      <td>D</td>\n",
       "      <td>D5</td>\n",
       "      <td>...</td>\n",
       "      <td>0.0</td>\n",
       "      <td>2.0</td>\n",
       "      <td>100.0</td>\n",
       "      <td>100.0</td>\n",
       "      <td>0.0</td>\n",
       "      <td>0.0</td>\n",
       "      <td>412963.0</td>\n",
       "      <td>14906.0</td>\n",
       "      <td>1900.0</td>\n",
       "      <td>8085.0</td>\n",
       "    </tr>\n",
       "    <tr>\n",
       "      <th>421072</th>\n",
       "      <td>36331554</td>\n",
       "      <td>39042967.0</td>\n",
       "      <td>26950.0</td>\n",
       "      <td>26950.0</td>\n",
       "      <td>26950.0</td>\n",
       "      <td>36 months</td>\n",
       "      <td>8.19%</td>\n",
       "      <td>846.88</td>\n",
       "      <td>A</td>\n",
       "      <td>A5</td>\n",
       "      <td>...</td>\n",
       "      <td>0.0</td>\n",
       "      <td>0.0</td>\n",
       "      <td>100.0</td>\n",
       "      <td>0.0</td>\n",
       "      <td>0.0</td>\n",
       "      <td>0.0</td>\n",
       "      <td>137433.0</td>\n",
       "      <td>41650.0</td>\n",
       "      <td>124600.0</td>\n",
       "      <td>8333.0</td>\n",
       "    </tr>\n",
       "    <tr>\n",
       "      <th>421073</th>\n",
       "      <td>36460697</td>\n",
       "      <td>39182359.0</td>\n",
       "      <td>23000.0</td>\n",
       "      <td>23000.0</td>\n",
       "      <td>23000.0</td>\n",
       "      <td>60 months</td>\n",
       "      <td>15.59%</td>\n",
       "      <td>554.32</td>\n",
       "      <td>D</td>\n",
       "      <td>D1</td>\n",
       "      <td>...</td>\n",
       "      <td>0.0</td>\n",
       "      <td>2.0</td>\n",
       "      <td>100.0</td>\n",
       "      <td>37.5</td>\n",
       "      <td>0.0</td>\n",
       "      <td>0.0</td>\n",
       "      <td>79510.0</td>\n",
       "      <td>48978.0</td>\n",
       "      <td>60800.0</td>\n",
       "      <td>13910.0</td>\n",
       "    </tr>\n",
       "    <tr>\n",
       "      <th>421074</th>\n",
       "      <td>35591131</td>\n",
       "      <td>38288343.0</td>\n",
       "      <td>25000.0</td>\n",
       "      <td>25000.0</td>\n",
       "      <td>25000.0</td>\n",
       "      <td>60 months</td>\n",
       "      <td>15.59%</td>\n",
       "      <td>602.52</td>\n",
       "      <td>D</td>\n",
       "      <td>D1</td>\n",
       "      <td>...</td>\n",
       "      <td>0.0</td>\n",
       "      <td>1.0</td>\n",
       "      <td>100.0</td>\n",
       "      <td>37.5</td>\n",
       "      <td>0.0</td>\n",
       "      <td>0.0</td>\n",
       "      <td>24400.0</td>\n",
       "      <td>13860.0</td>\n",
       "      <td>20900.0</td>\n",
       "      <td>0.0</td>\n",
       "    </tr>\n",
       "    <tr>\n",
       "      <th>421075</th>\n",
       "      <td>36440728</td>\n",
       "      <td>39152101.0</td>\n",
       "      <td>25000.0</td>\n",
       "      <td>25000.0</td>\n",
       "      <td>25000.0</td>\n",
       "      <td>60 months</td>\n",
       "      <td>15.99%</td>\n",
       "      <td>607.82</td>\n",
       "      <td>D</td>\n",
       "      <td>D2</td>\n",
       "      <td>...</td>\n",
       "      <td>0.0</td>\n",
       "      <td>0.0</td>\n",
       "      <td>100.0</td>\n",
       "      <td>100.0</td>\n",
       "      <td>0.0</td>\n",
       "      <td>0.0</td>\n",
       "      <td>18700.0</td>\n",
       "      <td>17275.0</td>\n",
       "      <td>17500.0</td>\n",
       "      <td>0.0</td>\n",
       "    </tr>\n",
       "    <tr>\n",
       "      <th>421076</th>\n",
       "      <td>36361815</td>\n",
       "      <td>39093260.0</td>\n",
       "      <td>26500.0</td>\n",
       "      <td>26500.0</td>\n",
       "      <td>26500.0</td>\n",
       "      <td>60 months</td>\n",
       "      <td>8.67%</td>\n",
       "      <td>545.87</td>\n",
       "      <td>B</td>\n",
       "      <td>B1</td>\n",
       "      <td>...</td>\n",
       "      <td>0.0</td>\n",
       "      <td>0.0</td>\n",
       "      <td>95.2</td>\n",
       "      <td>50.0</td>\n",
       "      <td>0.0</td>\n",
       "      <td>0.0</td>\n",
       "      <td>214551.0</td>\n",
       "      <td>91768.0</td>\n",
       "      <td>67600.0</td>\n",
       "      <td>33501.0</td>\n",
       "    </tr>\n",
       "    <tr>\n",
       "      <th>421077</th>\n",
       "      <td>36201871</td>\n",
       "      <td>38913321.0</td>\n",
       "      <td>21000.0</td>\n",
       "      <td>21000.0</td>\n",
       "      <td>21000.0</td>\n",
       "      <td>36 months</td>\n",
       "      <td>6.03%</td>\n",
       "      <td>639.15</td>\n",
       "      <td>A</td>\n",
       "      <td>A1</td>\n",
       "      <td>...</td>\n",
       "      <td>0.0</td>\n",
       "      <td>0.0</td>\n",
       "      <td>100.0</td>\n",
       "      <td>0.0</td>\n",
       "      <td>0.0</td>\n",
       "      <td>0.0</td>\n",
       "      <td>301457.0</td>\n",
       "      <td>36303.0</td>\n",
       "      <td>76300.0</td>\n",
       "      <td>36656.0</td>\n",
       "    </tr>\n",
       "    <tr>\n",
       "      <th>421078</th>\n",
       "      <td>36381756</td>\n",
       "      <td>39013193.0</td>\n",
       "      <td>8000.0</td>\n",
       "      <td>8000.0</td>\n",
       "      <td>8000.0</td>\n",
       "      <td>36 months</td>\n",
       "      <td>8.19%</td>\n",
       "      <td>251.40</td>\n",
       "      <td>A</td>\n",
       "      <td>A5</td>\n",
       "      <td>...</td>\n",
       "      <td>0.0</td>\n",
       "      <td>2.0</td>\n",
       "      <td>85.2</td>\n",
       "      <td>33.3</td>\n",
       "      <td>0.0</td>\n",
       "      <td>0.0</td>\n",
       "      <td>230732.0</td>\n",
       "      <td>38259.0</td>\n",
       "      <td>5800.0</td>\n",
       "      <td>39940.0</td>\n",
       "    </tr>\n",
       "    <tr>\n",
       "      <th>421079</th>\n",
       "      <td>36231718</td>\n",
       "      <td>38943165.0</td>\n",
       "      <td>10775.0</td>\n",
       "      <td>10775.0</td>\n",
       "      <td>10775.0</td>\n",
       "      <td>36 months</td>\n",
       "      <td>6.03%</td>\n",
       "      <td>327.95</td>\n",
       "      <td>A</td>\n",
       "      <td>A1</td>\n",
       "      <td>...</td>\n",
       "      <td>0.0</td>\n",
       "      <td>0.0</td>\n",
       "      <td>90.5</td>\n",
       "      <td>0.0</td>\n",
       "      <td>0.0</td>\n",
       "      <td>0.0</td>\n",
       "      <td>60948.0</td>\n",
       "      <td>24696.0</td>\n",
       "      <td>38700.0</td>\n",
       "      <td>19248.0</td>\n",
       "    </tr>\n",
       "    <tr>\n",
       "      <th>421080</th>\n",
       "      <td>36381704</td>\n",
       "      <td>39013139.0</td>\n",
       "      <td>7000.0</td>\n",
       "      <td>7000.0</td>\n",
       "      <td>7000.0</td>\n",
       "      <td>36 months</td>\n",
       "      <td>14.31%</td>\n",
       "      <td>240.30</td>\n",
       "      <td>C</td>\n",
       "      <td>C4</td>\n",
       "      <td>...</td>\n",
       "      <td>1.0</td>\n",
       "      <td>3.0</td>\n",
       "      <td>80.0</td>\n",
       "      <td>16.7</td>\n",
       "      <td>0.0</td>\n",
       "      <td>2.0</td>\n",
       "      <td>43768.0</td>\n",
       "      <td>32135.0</td>\n",
       "      <td>6900.0</td>\n",
       "      <td>33868.0</td>\n",
       "    </tr>\n",
       "    <tr>\n",
       "      <th>421081</th>\n",
       "      <td>36241316</td>\n",
       "      <td>38952731.0</td>\n",
       "      <td>6225.0</td>\n",
       "      <td>6225.0</td>\n",
       "      <td>6225.0</td>\n",
       "      <td>36 months</td>\n",
       "      <td>16.49%</td>\n",
       "      <td>220.37</td>\n",
       "      <td>D</td>\n",
       "      <td>D3</td>\n",
       "      <td>...</td>\n",
       "      <td>0.0</td>\n",
       "      <td>0.0</td>\n",
       "      <td>100.0</td>\n",
       "      <td>100.0</td>\n",
       "      <td>0.0</td>\n",
       "      <td>0.0</td>\n",
       "      <td>14307.0</td>\n",
       "      <td>8357.0</td>\n",
       "      <td>1800.0</td>\n",
       "      <td>12507.0</td>\n",
       "    </tr>\n",
       "    <tr>\n",
       "      <th>421082</th>\n",
       "      <td>36231724</td>\n",
       "      <td>38943173.0</td>\n",
       "      <td>12000.0</td>\n",
       "      <td>12000.0</td>\n",
       "      <td>12000.0</td>\n",
       "      <td>36 months</td>\n",
       "      <td>9.49%</td>\n",
       "      <td>384.34</td>\n",
       "      <td>B</td>\n",
       "      <td>B2</td>\n",
       "      <td>...</td>\n",
       "      <td>1.0</td>\n",
       "      <td>1.0</td>\n",
       "      <td>80.0</td>\n",
       "      <td>40.0</td>\n",
       "      <td>0.0</td>\n",
       "      <td>0.0</td>\n",
       "      <td>28183.0</td>\n",
       "      <td>20671.0</td>\n",
       "      <td>10500.0</td>\n",
       "      <td>16283.0</td>\n",
       "    </tr>\n",
       "    <tr>\n",
       "      <th>421083</th>\n",
       "      <td>36301729</td>\n",
       "      <td>39023153.0</td>\n",
       "      <td>10000.0</td>\n",
       "      <td>10000.0</td>\n",
       "      <td>10000.0</td>\n",
       "      <td>36 months</td>\n",
       "      <td>6.49%</td>\n",
       "      <td>306.45</td>\n",
       "      <td>A</td>\n",
       "      <td>A2</td>\n",
       "      <td>...</td>\n",
       "      <td>0.0</td>\n",
       "      <td>0.0</td>\n",
       "      <td>96.9</td>\n",
       "      <td>0.0</td>\n",
       "      <td>0.0</td>\n",
       "      <td>0.0</td>\n",
       "      <td>148298.0</td>\n",
       "      <td>88120.0</td>\n",
       "      <td>30300.0</td>\n",
       "      <td>117998.0</td>\n",
       "    </tr>\n",
       "    <tr>\n",
       "      <th>421084</th>\n",
       "      <td>36250208</td>\n",
       "      <td>38961532.0</td>\n",
       "      <td>13150.0</td>\n",
       "      <td>13150.0</td>\n",
       "      <td>13150.0</td>\n",
       "      <td>60 months</td>\n",
       "      <td>14.99%</td>\n",
       "      <td>312.77</td>\n",
       "      <td>C</td>\n",
       "      <td>C5</td>\n",
       "      <td>...</td>\n",
       "      <td>0.0</td>\n",
       "      <td>0.0</td>\n",
       "      <td>100.0</td>\n",
       "      <td>0.0</td>\n",
       "      <td>0.0</td>\n",
       "      <td>0.0</td>\n",
       "      <td>190700.0</td>\n",
       "      <td>672.0</td>\n",
       "      <td>20700.0</td>\n",
       "      <td>0.0</td>\n",
       "    </tr>\n",
       "    <tr>\n",
       "      <th>421085</th>\n",
       "      <td>36421485</td>\n",
       "      <td>39142898.0</td>\n",
       "      <td>4000.0</td>\n",
       "      <td>4000.0</td>\n",
       "      <td>4000.0</td>\n",
       "      <td>36 months</td>\n",
       "      <td>8.67%</td>\n",
       "      <td>126.59</td>\n",
       "      <td>B</td>\n",
       "      <td>B1</td>\n",
       "      <td>...</td>\n",
       "      <td>0.0</td>\n",
       "      <td>2.0</td>\n",
       "      <td>100.0</td>\n",
       "      <td>0.0</td>\n",
       "      <td>1.0</td>\n",
       "      <td>0.0</td>\n",
       "      <td>58334.0</td>\n",
       "      <td>18979.0</td>\n",
       "      <td>12900.0</td>\n",
       "      <td>28234.0</td>\n",
       "    </tr>\n",
       "    <tr>\n",
       "      <th>421086</th>\n",
       "      <td>36260758</td>\n",
       "      <td>38972123.0</td>\n",
       "      <td>10850.0</td>\n",
       "      <td>10850.0</td>\n",
       "      <td>10850.0</td>\n",
       "      <td>36 months</td>\n",
       "      <td>19.24%</td>\n",
       "      <td>399.04</td>\n",
       "      <td>E</td>\n",
       "      <td>E2</td>\n",
       "      <td>...</td>\n",
       "      <td>0.0</td>\n",
       "      <td>3.0</td>\n",
       "      <td>90.0</td>\n",
       "      <td>50.0</td>\n",
       "      <td>0.0</td>\n",
       "      <td>0.0</td>\n",
       "      <td>81797.0</td>\n",
       "      <td>28301.0</td>\n",
       "      <td>2500.0</td>\n",
       "      <td>27533.0</td>\n",
       "    </tr>\n",
       "    <tr>\n",
       "      <th>421087</th>\n",
       "      <td>35094480</td>\n",
       "      <td>37777829.0</td>\n",
       "      <td>7500.0</td>\n",
       "      <td>7500.0</td>\n",
       "      <td>7500.0</td>\n",
       "      <td>36 months</td>\n",
       "      <td>9.49%</td>\n",
       "      <td>240.22</td>\n",
       "      <td>B</td>\n",
       "      <td>B2</td>\n",
       "      <td>...</td>\n",
       "      <td>0.0</td>\n",
       "      <td>4.0</td>\n",
       "      <td>96.6</td>\n",
       "      <td>20.0</td>\n",
       "      <td>1.0</td>\n",
       "      <td>0.0</td>\n",
       "      <td>36320.0</td>\n",
       "      <td>18611.0</td>\n",
       "      <td>10700.0</td>\n",
       "      <td>21820.0</td>\n",
       "    </tr>\n",
       "    <tr>\n",
       "      <th>421088</th>\n",
       "      <td>36221446</td>\n",
       "      <td>38932858.0</td>\n",
       "      <td>11575.0</td>\n",
       "      <td>11575.0</td>\n",
       "      <td>11575.0</td>\n",
       "      <td>36 months</td>\n",
       "      <td>15.59%</td>\n",
       "      <td>404.61</td>\n",
       "      <td>D</td>\n",
       "      <td>D1</td>\n",
       "      <td>...</td>\n",
       "      <td>0.0</td>\n",
       "      <td>1.0</td>\n",
       "      <td>100.0</td>\n",
       "      <td>42.9</td>\n",
       "      <td>0.0</td>\n",
       "      <td>0.0</td>\n",
       "      <td>29866.0</td>\n",
       "      <td>19798.0</td>\n",
       "      <td>27500.0</td>\n",
       "      <td>1766.0</td>\n",
       "    </tr>\n",
       "    <tr>\n",
       "      <th>421089</th>\n",
       "      <td>36330911</td>\n",
       "      <td>39042282.0</td>\n",
       "      <td>12000.0</td>\n",
       "      <td>12000.0</td>\n",
       "      <td>12000.0</td>\n",
       "      <td>36 months</td>\n",
       "      <td>11.99%</td>\n",
       "      <td>398.52</td>\n",
       "      <td>B</td>\n",
       "      <td>B5</td>\n",
       "      <td>...</td>\n",
       "      <td>1.0</td>\n",
       "      <td>3.0</td>\n",
       "      <td>98.3</td>\n",
       "      <td>50.0</td>\n",
       "      <td>0.0</td>\n",
       "      <td>0.0</td>\n",
       "      <td>325484.0</td>\n",
       "      <td>112990.0</td>\n",
       "      <td>15400.0</td>\n",
       "      <td>98125.0</td>\n",
       "    </tr>\n",
       "    <tr>\n",
       "      <th>421090</th>\n",
       "      <td>36371250</td>\n",
       "      <td>39102635.0</td>\n",
       "      <td>10000.0</td>\n",
       "      <td>10000.0</td>\n",
       "      <td>10000.0</td>\n",
       "      <td>36 months</td>\n",
       "      <td>11.99%</td>\n",
       "      <td>332.10</td>\n",
       "      <td>B</td>\n",
       "      <td>B5</td>\n",
       "      <td>...</td>\n",
       "      <td>0.0</td>\n",
       "      <td>1.0</td>\n",
       "      <td>100.0</td>\n",
       "      <td>100.0</td>\n",
       "      <td>0.0</td>\n",
       "      <td>0.0</td>\n",
       "      <td>32950.0</td>\n",
       "      <td>25274.0</td>\n",
       "      <td>9200.0</td>\n",
       "      <td>15850.0</td>\n",
       "    </tr>\n",
       "    <tr>\n",
       "      <th>421091</th>\n",
       "      <td>36441262</td>\n",
       "      <td>39152692.0</td>\n",
       "      <td>24000.0</td>\n",
       "      <td>24000.0</td>\n",
       "      <td>24000.0</td>\n",
       "      <td>36 months</td>\n",
       "      <td>11.99%</td>\n",
       "      <td>797.03</td>\n",
       "      <td>B</td>\n",
       "      <td>B5</td>\n",
       "      <td>...</td>\n",
       "      <td>0.0</td>\n",
       "      <td>2.0</td>\n",
       "      <td>56.5</td>\n",
       "      <td>100.0</td>\n",
       "      <td>0.0</td>\n",
       "      <td>0.0</td>\n",
       "      <td>152650.0</td>\n",
       "      <td>8621.0</td>\n",
       "      <td>9000.0</td>\n",
       "      <td>0.0</td>\n",
       "    </tr>\n",
       "    <tr>\n",
       "      <th>421092</th>\n",
       "      <td>36271333</td>\n",
       "      <td>38982739.0</td>\n",
       "      <td>13000.0</td>\n",
       "      <td>13000.0</td>\n",
       "      <td>13000.0</td>\n",
       "      <td>60 months</td>\n",
       "      <td>15.99%</td>\n",
       "      <td>316.07</td>\n",
       "      <td>D</td>\n",
       "      <td>D2</td>\n",
       "      <td>...</td>\n",
       "      <td>0.0</td>\n",
       "      <td>3.0</td>\n",
       "      <td>100.0</td>\n",
       "      <td>50.0</td>\n",
       "      <td>1.0</td>\n",
       "      <td>0.0</td>\n",
       "      <td>51239.0</td>\n",
       "      <td>34178.0</td>\n",
       "      <td>10600.0</td>\n",
       "      <td>33239.0</td>\n",
       "    </tr>\n",
       "    <tr>\n",
       "      <th>421093</th>\n",
       "      <td>36490806</td>\n",
       "      <td>39222577.0</td>\n",
       "      <td>12000.0</td>\n",
       "      <td>12000.0</td>\n",
       "      <td>12000.0</td>\n",
       "      <td>60 months</td>\n",
       "      <td>19.99%</td>\n",
       "      <td>317.86</td>\n",
       "      <td>E</td>\n",
       "      <td>E3</td>\n",
       "      <td>...</td>\n",
       "      <td>1.0</td>\n",
       "      <td>2.0</td>\n",
       "      <td>95.0</td>\n",
       "      <td>66.7</td>\n",
       "      <td>0.0</td>\n",
       "      <td>0.0</td>\n",
       "      <td>96919.0</td>\n",
       "      <td>58418.0</td>\n",
       "      <td>9700.0</td>\n",
       "      <td>69919.0</td>\n",
       "    </tr>\n",
       "    <tr>\n",
       "      <th>421094</th>\n",
       "      <td>36271262</td>\n",
       "      <td>38982659.0</td>\n",
       "      <td>20000.0</td>\n",
       "      <td>20000.0</td>\n",
       "      <td>20000.0</td>\n",
       "      <td>36 months</td>\n",
       "      <td>11.99%</td>\n",
       "      <td>664.20</td>\n",
       "      <td>B</td>\n",
       "      <td>B5</td>\n",
       "      <td>...</td>\n",
       "      <td>0.0</td>\n",
       "      <td>1.0</td>\n",
       "      <td>100.0</td>\n",
       "      <td>50.0</td>\n",
       "      <td>0.0</td>\n",
       "      <td>1.0</td>\n",
       "      <td>43740.0</td>\n",
       "      <td>33307.0</td>\n",
       "      <td>41700.0</td>\n",
       "      <td>0.0</td>\n",
       "    </tr>\n",
       "    <tr>\n",
       "      <th>421095</th>\n",
       "      <td>Total amount funded in policy code 1: 6417608175</td>\n",
       "      <td>NaN</td>\n",
       "      <td>NaN</td>\n",
       "      <td>NaN</td>\n",
       "      <td>NaN</td>\n",
       "      <td>NaN</td>\n",
       "      <td>NaN</td>\n",
       "      <td>NaN</td>\n",
       "      <td>NaN</td>\n",
       "      <td>NaN</td>\n",
       "      <td>...</td>\n",
       "      <td>NaN</td>\n",
       "      <td>NaN</td>\n",
       "      <td>NaN</td>\n",
       "      <td>NaN</td>\n",
       "      <td>NaN</td>\n",
       "      <td>NaN</td>\n",
       "      <td>NaN</td>\n",
       "      <td>NaN</td>\n",
       "      <td>NaN</td>\n",
       "      <td>NaN</td>\n",
       "    </tr>\n",
       "    <tr>\n",
       "      <th>421096</th>\n",
       "      <td>Total amount funded in policy code 2: 1944088810</td>\n",
       "      <td>NaN</td>\n",
       "      <td>NaN</td>\n",
       "      <td>NaN</td>\n",
       "      <td>NaN</td>\n",
       "      <td>NaN</td>\n",
       "      <td>NaN</td>\n",
       "      <td>NaN</td>\n",
       "      <td>NaN</td>\n",
       "      <td>NaN</td>\n",
       "      <td>...</td>\n",
       "      <td>NaN</td>\n",
       "      <td>NaN</td>\n",
       "      <td>NaN</td>\n",
       "      <td>NaN</td>\n",
       "      <td>NaN</td>\n",
       "      <td>NaN</td>\n",
       "      <td>NaN</td>\n",
       "      <td>NaN</td>\n",
       "      <td>NaN</td>\n",
       "      <td>NaN</td>\n",
       "    </tr>\n",
       "  </tbody>\n",
       "</table>\n",
       "<p>421097 rows × 115 columns</p>\n",
       "</div>"
      ],
      "text/plain": [
       "                                                      id   member_id  \\\n",
       "0                                               68407301  73297138.0   \n",
       "1                                               68366999  73256850.0   \n",
       "2                                               67715283  72569997.0   \n",
       "3                                               68416916  73306740.0   \n",
       "4                                               68543413  73433136.0   \n",
       "5                                               68597047  73486873.0   \n",
       "6                                               66310712  71035433.0   \n",
       "7                                               68009401  72868139.0   \n",
       "8                                               68466916  73356753.0   \n",
       "9                                               68577849  73467703.0   \n",
       "10                                              67849662  72708407.0   \n",
       "11                                              68341789  73544827.0   \n",
       "12                                              68547583  73437441.0   \n",
       "13                                              68527009  73416854.0   \n",
       "14                                              68387134  73276991.0   \n",
       "15                                              68566856  73456693.0   \n",
       "16                                              68466995  73356835.0   \n",
       "17                                              68444620  73334399.0   \n",
       "18                                              68506885  73396712.0   \n",
       "19                                              68426865  73316695.0   \n",
       "20                                              68617034  73519870.0   \n",
       "21                                              68615169  73517949.0   \n",
       "22                                              68396080  73285902.0   \n",
       "23                                              68476807  73366655.0   \n",
       "24                                              68341763  72928789.0   \n",
       "25                                              68426831  73316657.0   \n",
       "26                                              68426545  73316365.0   \n",
       "27                                              68495092  73384866.0   \n",
       "28                                              68566886  73456723.0   \n",
       "29                                              68446820  73336644.0   \n",
       "...                                                  ...         ...   \n",
       "421067                                          36500819  39232937.0   \n",
       "421068                                          36743377  39486112.0   \n",
       "421069                                          36371802  39103231.0   \n",
       "421070                                          35773415  38468842.0   \n",
       "421071                                          36250801  38962184.0   \n",
       "421072                                          36331554  39042967.0   \n",
       "421073                                          36460697  39182359.0   \n",
       "421074                                          35591131  38288343.0   \n",
       "421075                                          36440728  39152101.0   \n",
       "421076                                          36361815  39093260.0   \n",
       "421077                                          36201871  38913321.0   \n",
       "421078                                          36381756  39013193.0   \n",
       "421079                                          36231718  38943165.0   \n",
       "421080                                          36381704  39013139.0   \n",
       "421081                                          36241316  38952731.0   \n",
       "421082                                          36231724  38943173.0   \n",
       "421083                                          36301729  39023153.0   \n",
       "421084                                          36250208  38961532.0   \n",
       "421085                                          36421485  39142898.0   \n",
       "421086                                          36260758  38972123.0   \n",
       "421087                                          35094480  37777829.0   \n",
       "421088                                          36221446  38932858.0   \n",
       "421089                                          36330911  39042282.0   \n",
       "421090                                          36371250  39102635.0   \n",
       "421091                                          36441262  39152692.0   \n",
       "421092                                          36271333  38982739.0   \n",
       "421093                                          36490806  39222577.0   \n",
       "421094                                          36271262  38982659.0   \n",
       "421095  Total amount funded in policy code 1: 6417608175         NaN   \n",
       "421096  Total amount funded in policy code 2: 1944088810         NaN   \n",
       "\n",
       "        loan_amnt  funded_amnt  funded_amnt_inv        term int_rate  \\\n",
       "0         27500.0      27500.0          27500.0   60 months   14.85%   \n",
       "1         15850.0      15850.0          15850.0   60 months   23.13%   \n",
       "2         16000.0      16000.0          16000.0   36 months   12.88%   \n",
       "3         28000.0      28000.0          28000.0   60 months   18.49%   \n",
       "4         10000.0      10000.0          10000.0   36 months   12.88%   \n",
       "5         19000.0      19000.0          19000.0   60 months   14.85%   \n",
       "6         35000.0      35000.0          35000.0   60 months   14.85%   \n",
       "7         16000.0      16000.0          16000.0   60 months   14.85%   \n",
       "8         25000.0      25000.0          25000.0   36 months    7.49%   \n",
       "9         18000.0      18000.0          18000.0   60 months   11.99%   \n",
       "10         4225.0       4225.0           4225.0   36 months   14.85%   \n",
       "11        24250.0      24250.0          24250.0   60 months   24.24%   \n",
       "12         8650.0       8650.0           8650.0   36 months    5.32%   \n",
       "13        20000.0      20000.0          20000.0   36 months    9.80%   \n",
       "14         2500.0       2500.0           2500.0   36 months   17.27%   \n",
       "15        28800.0      28800.0          28800.0   60 months   11.99%   \n",
       "16        10000.0      10000.0          10000.0   36 months    7.91%   \n",
       "17        35000.0      35000.0          35000.0   60 months   11.99%   \n",
       "18        10000.0      10000.0          10000.0   60 months   11.99%   \n",
       "19        20000.0      20000.0          20000.0   36 months   14.85%   \n",
       "20        14650.0      14650.0          14650.0   60 months   20.50%   \n",
       "21        16000.0      16000.0          16000.0   60 months    8.49%   \n",
       "22        25000.0      25000.0          25000.0   60 months   11.48%   \n",
       "23        10400.0      10400.0          10400.0   60 months   22.45%   \n",
       "24        20000.0      20000.0          20000.0   60 months   10.78%   \n",
       "25        11950.0      11950.0          11950.0   36 months   13.44%   \n",
       "26        16000.0      16000.0          16000.0   60 months   12.88%   \n",
       "27         8650.0       8650.0           8650.0   36 months   19.89%   \n",
       "28        29900.0      29900.0          29900.0   60 months   12.88%   \n",
       "29        10000.0      10000.0          10000.0   36 months   11.48%   \n",
       "...           ...          ...              ...         ...      ...   \n",
       "421067    10300.0      10300.0          10300.0   60 months   13.66%   \n",
       "421068     4200.0       4200.0           4200.0   36 months   15.99%   \n",
       "421069    15000.0      15000.0          15000.0   60 months   11.44%   \n",
       "421070    18700.0      18700.0          18700.0   60 months   17.86%   \n",
       "421071     6000.0       6000.0           6000.0   36 months   17.86%   \n",
       "421072    26950.0      26950.0          26950.0   36 months    8.19%   \n",
       "421073    23000.0      23000.0          23000.0   60 months   15.59%   \n",
       "421074    25000.0      25000.0          25000.0   60 months   15.59%   \n",
       "421075    25000.0      25000.0          25000.0   60 months   15.99%   \n",
       "421076    26500.0      26500.0          26500.0   60 months    8.67%   \n",
       "421077    21000.0      21000.0          21000.0   36 months    6.03%   \n",
       "421078     8000.0       8000.0           8000.0   36 months    8.19%   \n",
       "421079    10775.0      10775.0          10775.0   36 months    6.03%   \n",
       "421080     7000.0       7000.0           7000.0   36 months   14.31%   \n",
       "421081     6225.0       6225.0           6225.0   36 months   16.49%   \n",
       "421082    12000.0      12000.0          12000.0   36 months    9.49%   \n",
       "421083    10000.0      10000.0          10000.0   36 months    6.49%   \n",
       "421084    13150.0      13150.0          13150.0   60 months   14.99%   \n",
       "421085     4000.0       4000.0           4000.0   36 months    8.67%   \n",
       "421086    10850.0      10850.0          10850.0   36 months   19.24%   \n",
       "421087     7500.0       7500.0           7500.0   36 months    9.49%   \n",
       "421088    11575.0      11575.0          11575.0   36 months   15.59%   \n",
       "421089    12000.0      12000.0          12000.0   36 months   11.99%   \n",
       "421090    10000.0      10000.0          10000.0   36 months   11.99%   \n",
       "421091    24000.0      24000.0          24000.0   36 months   11.99%   \n",
       "421092    13000.0      13000.0          13000.0   60 months   15.99%   \n",
       "421093    12000.0      12000.0          12000.0   60 months   19.99%   \n",
       "421094    20000.0      20000.0          20000.0   36 months   11.99%   \n",
       "421095        NaN          NaN              NaN         NaN      NaN   \n",
       "421096        NaN          NaN              NaN         NaN      NaN   \n",
       "\n",
       "        installment grade sub_grade            ...              \\\n",
       "0            652.06     C        C5            ...               \n",
       "1            448.01     F        F2            ...               \n",
       "2            538.18     C        C2            ...               \n",
       "3            718.51     D        D5            ...               \n",
       "4            336.37     C        C2            ...               \n",
       "5            450.52     C        C5            ...               \n",
       "6            829.90     C        C5            ...               \n",
       "7            379.39     C        C5            ...               \n",
       "8            777.55     A        A4            ...               \n",
       "9            400.31     C        C1            ...               \n",
       "10           146.16     C        C5            ...               \n",
       "11           701.01     F        F3            ...               \n",
       "12           260.50     A        A1            ...               \n",
       "13           643.47     B        B3            ...               \n",
       "14            89.47     D        D3            ...               \n",
       "15           640.50     C        C1            ...               \n",
       "16           312.95     A        A5            ...               \n",
       "17           778.38     C        C1            ...               \n",
       "18           222.40     C        C1            ...               \n",
       "19           691.84     C        C5            ...               \n",
       "20           392.23     E        E4            ...               \n",
       "21           328.19     B        B1            ...               \n",
       "22           549.57     B        B5            ...               \n",
       "23           289.91     F        F1            ...               \n",
       "24           432.66     B        B4            ...               \n",
       "25           405.18     C        C3            ...               \n",
       "26           363.07     C        C2            ...               \n",
       "27           320.99     E        E3            ...               \n",
       "28           678.49     C        C2            ...               \n",
       "29           329.67     B        B5            ...               \n",
       "...             ...   ...       ...            ...               \n",
       "421067       237.86     C        C3            ...               \n",
       "421068       147.64     D        D2            ...               \n",
       "421069       329.44     B        B4            ...               \n",
       "421070       473.44     D        D5            ...               \n",
       "421071       216.50     D        D5            ...               \n",
       "421072       846.88     A        A5            ...               \n",
       "421073       554.32     D        D1            ...               \n",
       "421074       602.52     D        D1            ...               \n",
       "421075       607.82     D        D2            ...               \n",
       "421076       545.87     B        B1            ...               \n",
       "421077       639.15     A        A1            ...               \n",
       "421078       251.40     A        A5            ...               \n",
       "421079       327.95     A        A1            ...               \n",
       "421080       240.30     C        C4            ...               \n",
       "421081       220.37     D        D3            ...               \n",
       "421082       384.34     B        B2            ...               \n",
       "421083       306.45     A        A2            ...               \n",
       "421084       312.77     C        C5            ...               \n",
       "421085       126.59     B        B1            ...               \n",
       "421086       399.04     E        E2            ...               \n",
       "421087       240.22     B        B2            ...               \n",
       "421088       404.61     D        D1            ...               \n",
       "421089       398.52     B        B5            ...               \n",
       "421090       332.10     B        B5            ...               \n",
       "421091       797.03     B        B5            ...               \n",
       "421092       316.07     D        D2            ...               \n",
       "421093       317.86     E        E3            ...               \n",
       "421094       664.20     B        B5            ...               \n",
       "421095          NaN   NaN       NaN            ...               \n",
       "421096          NaN   NaN       NaN            ...               \n",
       "\n",
       "       num_tl_90g_dpd_24m num_tl_op_past_12m pct_tl_nvr_dlq  percent_bc_gt_75  \\\n",
       "0                     0.0                1.0          100.0              57.1   \n",
       "1                     0.0                4.0          100.0               0.0   \n",
       "2                     0.0                2.0           80.0               0.0   \n",
       "3                     0.0                2.0          100.0              50.0   \n",
       "4                     0.0                3.0          100.0             100.0   \n",
       "5                     0.0                4.0           94.1             100.0   \n",
       "6                     0.0                1.0          100.0               0.0   \n",
       "7                     0.0                2.0           78.9               0.0   \n",
       "8                     0.0                0.0          100.0              20.0   \n",
       "9                     0.0                4.0          100.0               0.0   \n",
       "10                    0.0                0.0           66.7               0.0   \n",
       "11                    0.0                3.0          100.0              63.6   \n",
       "12                    0.0                1.0          100.0               0.0   \n",
       "13                    0.0                5.0           92.3               0.0   \n",
       "14                    1.0                3.0           68.4               0.0   \n",
       "15                    0.0                4.0          100.0               0.0   \n",
       "16                    0.0                1.0          100.0               0.0   \n",
       "17                    0.0                1.0           91.3              33.3   \n",
       "18                    0.0                1.0          100.0              50.0   \n",
       "19                    0.0                1.0          100.0             100.0   \n",
       "20                    0.0                0.0          100.0             100.0   \n",
       "21                    0.0                3.0           87.5              50.0   \n",
       "22                    0.0                4.0           97.0               0.0   \n",
       "23                    0.0                4.0           96.6              60.0   \n",
       "24                    0.0                0.0          100.0              50.0   \n",
       "25                    0.0                0.0          100.0             100.0   \n",
       "26                    0.0                1.0          100.0              60.0   \n",
       "27                    0.0               12.0          100.0              50.0   \n",
       "28                    0.0                4.0          100.0              25.0   \n",
       "29                    0.0                2.0          100.0              33.3   \n",
       "...                   ...                ...            ...               ...   \n",
       "421067                0.0                2.0           95.8              42.9   \n",
       "421068                0.0                6.0           88.9             100.0   \n",
       "421069                0.0                2.0          100.0              40.0   \n",
       "421070                0.0                3.0           88.9              50.0   \n",
       "421071                0.0                2.0          100.0             100.0   \n",
       "421072                0.0                0.0          100.0               0.0   \n",
       "421073                0.0                2.0          100.0              37.5   \n",
       "421074                0.0                1.0          100.0              37.5   \n",
       "421075                0.0                0.0          100.0             100.0   \n",
       "421076                0.0                0.0           95.2              50.0   \n",
       "421077                0.0                0.0          100.0               0.0   \n",
       "421078                0.0                2.0           85.2              33.3   \n",
       "421079                0.0                0.0           90.5               0.0   \n",
       "421080                1.0                3.0           80.0              16.7   \n",
       "421081                0.0                0.0          100.0             100.0   \n",
       "421082                1.0                1.0           80.0              40.0   \n",
       "421083                0.0                0.0           96.9               0.0   \n",
       "421084                0.0                0.0          100.0               0.0   \n",
       "421085                0.0                2.0          100.0               0.0   \n",
       "421086                0.0                3.0           90.0              50.0   \n",
       "421087                0.0                4.0           96.6              20.0   \n",
       "421088                0.0                1.0          100.0              42.9   \n",
       "421089                1.0                3.0           98.3              50.0   \n",
       "421090                0.0                1.0          100.0             100.0   \n",
       "421091                0.0                2.0           56.5             100.0   \n",
       "421092                0.0                3.0          100.0              50.0   \n",
       "421093                1.0                2.0           95.0              66.7   \n",
       "421094                0.0                1.0          100.0              50.0   \n",
       "421095                NaN                NaN            NaN               NaN   \n",
       "421096                NaN                NaN            NaN               NaN   \n",
       "\n",
       "       pub_rec_bankruptcies tax_liens tot_hi_cred_lim total_bal_ex_mort  \\\n",
       "0                       0.0       0.0        325100.0           44977.0   \n",
       "1                       0.0       0.0         84300.0           45025.0   \n",
       "2                       0.0       1.0         80999.0           39781.0   \n",
       "3                       0.0       0.0        267312.0           57302.0   \n",
       "4                       0.0       0.0        321380.0           73732.0   \n",
       "5                       0.0       0.0         94620.0           48159.0   \n",
       "6                       0.0       0.0        381215.0           52226.0   \n",
       "7                       0.0       2.0        298100.0           31329.0   \n",
       "8                       0.0       0.0        373572.0           68056.0   \n",
       "9                       0.0       0.0        309710.0           36127.0   \n",
       "10                      0.0       0.0         21822.0            4888.0   \n",
       "11                      0.0       0.0        344960.0           38475.0   \n",
       "12                      0.0       0.0        191618.0           31199.0   \n",
       "13                      0.0       0.0        117477.0           40090.0   \n",
       "14                      0.0       0.0        196429.0          197169.0   \n",
       "15                      0.0       0.0        200980.0           41270.0   \n",
       "16                      0.0       0.0         35247.0           27354.0   \n",
       "17                      0.0       0.0        220950.0           49644.0   \n",
       "18                      0.0       0.0         61054.0           41166.0   \n",
       "19                      0.0       0.0         45509.0           37491.0   \n",
       "20                      0.0       0.0         67732.0           62813.0   \n",
       "21                      0.0       0.0        307343.0           64371.0   \n",
       "22                      0.0       0.0         72150.0           23522.0   \n",
       "23                      0.0       0.0        439570.0           95768.0   \n",
       "24                      0.0       0.0        218418.0           18696.0   \n",
       "25                      0.0       0.0         16900.0           12798.0   \n",
       "26                      0.0       0.0        309638.0           62407.0   \n",
       "27                      1.0       0.0         38998.0           18926.0   \n",
       "28                      0.0       0.0        271700.0           42497.0   \n",
       "29                      0.0       1.0         49732.0           23197.0   \n",
       "...                     ...       ...             ...               ...   \n",
       "421067                  0.0       0.0         58710.0           41956.0   \n",
       "421068                  0.0       0.0        224211.0           45512.0   \n",
       "421069                  0.0       0.0         47674.0           33529.0   \n",
       "421070                  0.0       0.0         42499.0           40164.0   \n",
       "421071                  0.0       0.0        412963.0           14906.0   \n",
       "421072                  0.0       0.0        137433.0           41650.0   \n",
       "421073                  0.0       0.0         79510.0           48978.0   \n",
       "421074                  0.0       0.0         24400.0           13860.0   \n",
       "421075                  0.0       0.0         18700.0           17275.0   \n",
       "421076                  0.0       0.0        214551.0           91768.0   \n",
       "421077                  0.0       0.0        301457.0           36303.0   \n",
       "421078                  0.0       0.0        230732.0           38259.0   \n",
       "421079                  0.0       0.0         60948.0           24696.0   \n",
       "421080                  0.0       2.0         43768.0           32135.0   \n",
       "421081                  0.0       0.0         14307.0            8357.0   \n",
       "421082                  0.0       0.0         28183.0           20671.0   \n",
       "421083                  0.0       0.0        148298.0           88120.0   \n",
       "421084                  0.0       0.0        190700.0             672.0   \n",
       "421085                  1.0       0.0         58334.0           18979.0   \n",
       "421086                  0.0       0.0         81797.0           28301.0   \n",
       "421087                  1.0       0.0         36320.0           18611.0   \n",
       "421088                  0.0       0.0         29866.0           19798.0   \n",
       "421089                  0.0       0.0        325484.0          112990.0   \n",
       "421090                  0.0       0.0         32950.0           25274.0   \n",
       "421091                  0.0       0.0        152650.0            8621.0   \n",
       "421092                  1.0       0.0         51239.0           34178.0   \n",
       "421093                  0.0       0.0         96919.0           58418.0   \n",
       "421094                  0.0       1.0         43740.0           33307.0   \n",
       "421095                  NaN       NaN             NaN               NaN   \n",
       "421096                  NaN       NaN             NaN               NaN   \n",
       "\n",
       "       total_bc_limit total_il_high_credit_limit  \n",
       "0             55500.0                    13200.0  \n",
       "1             19900.0                    43000.0  \n",
       "2              4700.0                    71499.0  \n",
       "3             58500.0                    31758.0  \n",
       "4              4400.0                    68648.0  \n",
       "5              7500.0                    36720.0  \n",
       "6             62500.0                    18000.0  \n",
       "7            281300.0                    13400.0  \n",
       "8             38400.0                    82117.0  \n",
       "9             69800.0                    26210.0  \n",
       "10             2600.0                    17522.0  \n",
       "11            29100.0                    18300.0  \n",
       "12            18300.0                    27078.0  \n",
       "13            51600.0                    38577.0  \n",
       "14              700.0                   193929.0  \n",
       "15           159700.0                    25180.0  \n",
       "16            13000.0                    20447.0  \n",
       "17            26800.0                    71700.0  \n",
       "18            13100.0                    46854.0  \n",
       "19            21500.0                    20000.0  \n",
       "20            11200.0                    56532.0  \n",
       "21            23500.0                    59526.0  \n",
       "22            45800.0                    17750.0  \n",
       "23            20300.0                    88097.0  \n",
       "24             6200.0                    14877.0  \n",
       "25             9400.0                     4000.0  \n",
       "26            45900.0                    45838.0  \n",
       "27             2750.0                    18248.0  \n",
       "28            34000.0                    15574.0  \n",
       "29            20800.0                    27132.0  \n",
       "...               ...                        ...  \n",
       "421067        17100.0                    36710.0  \n",
       "421068         5600.0                    40401.0  \n",
       "421069        22500.0                    21574.0  \n",
       "421070        10000.0                    32299.0  \n",
       "421071         1900.0                     8085.0  \n",
       "421072       124600.0                     8333.0  \n",
       "421073        60800.0                    13910.0  \n",
       "421074        20900.0                        0.0  \n",
       "421075        17500.0                        0.0  \n",
       "421076        67600.0                    33501.0  \n",
       "421077        76300.0                    36656.0  \n",
       "421078         5800.0                    39940.0  \n",
       "421079        38700.0                    19248.0  \n",
       "421080         6900.0                    33868.0  \n",
       "421081         1800.0                    12507.0  \n",
       "421082        10500.0                    16283.0  \n",
       "421083        30300.0                   117998.0  \n",
       "421084        20700.0                        0.0  \n",
       "421085        12900.0                    28234.0  \n",
       "421086         2500.0                    27533.0  \n",
       "421087        10700.0                    21820.0  \n",
       "421088        27500.0                     1766.0  \n",
       "421089        15400.0                    98125.0  \n",
       "421090         9200.0                    15850.0  \n",
       "421091         9000.0                        0.0  \n",
       "421092        10600.0                    33239.0  \n",
       "421093         9700.0                    69919.0  \n",
       "421094        41700.0                        0.0  \n",
       "421095            NaN                        NaN  \n",
       "421096            NaN                        NaN  \n",
       "\n",
       "[421097 rows x 115 columns]"
      ]
     },
     "execution_count": 5,
     "metadata": {},
     "output_type": "execute_result"
    }
   ],
   "source": [
    "df"
   ]
  },
  {
   "cell_type": "code",
   "execution_count": 6,
   "metadata": {
    "collapsed": false
   },
   "outputs": [
    {
     "data": {
      "text/plain": [
       "id                                     0\n",
       "member_id                              2\n",
       "loan_amnt                              2\n",
       "funded_amnt                            2\n",
       "funded_amnt_inv                        2\n",
       "term                                   2\n",
       "int_rate                               2\n",
       "installment                            2\n",
       "grade                                  2\n",
       "sub_grade                              2\n",
       "emp_title                          23876\n",
       "emp_length                             2\n",
       "home_ownership                         2\n",
       "annual_inc                             2\n",
       "verification_status                    2\n",
       "issue_d                                2\n",
       "loan_status                            2\n",
       "pymnt_plan                             2\n",
       "url                                    2\n",
       "desc                              421052\n",
       "purpose                                2\n",
       "title                                134\n",
       "zip_code                               2\n",
       "addr_state                             2\n",
       "dti                                    2\n",
       "delinq_2yrs                            2\n",
       "earliest_cr_line                       2\n",
       "fico_range_low                         2\n",
       "fico_range_high                        2\n",
       "inq_last_6mths                         2\n",
       "                                   ...  \n",
       "mo_sin_old_rev_tl_op                   2\n",
       "mo_sin_rcnt_rev_tl_op                  2\n",
       "mo_sin_rcnt_tl                         2\n",
       "mort_acc                               2\n",
       "mths_since_recent_bc                3800\n",
       "mths_since_recent_bc_dlq          312497\n",
       "mths_since_recent_inq              44601\n",
       "mths_since_recent_revol_delinq    269360\n",
       "num_accts_ever_120_pd                  2\n",
       "num_actv_bc_tl                         2\n",
       "num_actv_rev_tl                        2\n",
       "num_bc_sats                            2\n",
       "num_bc_tl                              2\n",
       "num_il_tl                              2\n",
       "num_op_rev_tl                          2\n",
       "num_rev_accts                          3\n",
       "num_rev_tl_bal_gt_0                    2\n",
       "num_sats                               2\n",
       "num_tl_120dpd_2m                   19232\n",
       "num_tl_30dpd                           2\n",
       "num_tl_90g_dpd_24m                     2\n",
       "num_tl_op_past_12m                     2\n",
       "pct_tl_nvr_dlq                         2\n",
       "percent_bc_gt_75                    4241\n",
       "pub_rec_bankruptcies                   2\n",
       "tax_liens                              2\n",
       "tot_hi_cred_lim                        2\n",
       "total_bal_ex_mort                      2\n",
       "total_bc_limit                         2\n",
       "total_il_high_credit_limit             2\n",
       "dtype: int64"
      ]
     },
     "execution_count": 6,
     "metadata": {},
     "output_type": "execute_result"
    }
   ],
   "source": [
    "df.isnull().sum()"
   ]
  },
  {
   "cell_type": "code",
   "execution_count": 7,
   "metadata": {
    "collapsed": false
   },
   "outputs": [],
   "source": [
    "df.drop(['member_id', 'funded_amnt', 'funded_amnt_inv', 'term', 'int_rate', 'emp_title', 'installment', 'term'], \n",
    "        axis=1, inplace=True)"
   ]
  },
  {
   "cell_type": "code",
   "execution_count": 8,
   "metadata": {
    "collapsed": false
   },
   "outputs": [
    {
     "data": {
      "text/plain": [
       "id                                     0\n",
       "loan_amnt                              2\n",
       "grade                                  2\n",
       "sub_grade                              2\n",
       "emp_length                             2\n",
       "home_ownership                         2\n",
       "annual_inc                             2\n",
       "verification_status                    2\n",
       "issue_d                                2\n",
       "loan_status                            2\n",
       "pymnt_plan                             2\n",
       "url                                    2\n",
       "desc                              421052\n",
       "purpose                                2\n",
       "title                                134\n",
       "zip_code                               2\n",
       "addr_state                             2\n",
       "dti                                    2\n",
       "delinq_2yrs                            2\n",
       "earliest_cr_line                       2\n",
       "fico_range_low                         2\n",
       "fico_range_high                        2\n",
       "inq_last_6mths                         2\n",
       "mths_since_last_delinq            203964\n",
       "mths_since_last_record            346682\n",
       "open_acc                               2\n",
       "pub_rec                                2\n",
       "revol_bal                              2\n",
       "revol_util                           164\n",
       "total_acc                              2\n",
       "                                   ...  \n",
       "mo_sin_old_rev_tl_op                   2\n",
       "mo_sin_rcnt_rev_tl_op                  2\n",
       "mo_sin_rcnt_tl                         2\n",
       "mort_acc                               2\n",
       "mths_since_recent_bc                3800\n",
       "mths_since_recent_bc_dlq          312497\n",
       "mths_since_recent_inq              44601\n",
       "mths_since_recent_revol_delinq    269360\n",
       "num_accts_ever_120_pd                  2\n",
       "num_actv_bc_tl                         2\n",
       "num_actv_rev_tl                        2\n",
       "num_bc_sats                            2\n",
       "num_bc_tl                              2\n",
       "num_il_tl                              2\n",
       "num_op_rev_tl                          2\n",
       "num_rev_accts                          3\n",
       "num_rev_tl_bal_gt_0                    2\n",
       "num_sats                               2\n",
       "num_tl_120dpd_2m                   19232\n",
       "num_tl_30dpd                           2\n",
       "num_tl_90g_dpd_24m                     2\n",
       "num_tl_op_past_12m                     2\n",
       "pct_tl_nvr_dlq                         2\n",
       "percent_bc_gt_75                    4241\n",
       "pub_rec_bankruptcies                   2\n",
       "tax_liens                              2\n",
       "tot_hi_cred_lim                        2\n",
       "total_bal_ex_mort                      2\n",
       "total_bc_limit                         2\n",
       "total_il_high_credit_limit             2\n",
       "dtype: int64"
      ]
     },
     "execution_count": 8,
     "metadata": {},
     "output_type": "execute_result"
    }
   ],
   "source": [
    "df.isnull().sum()"
   ]
  },
  {
   "cell_type": "code",
   "execution_count": 11,
   "metadata": {
    "collapsed": false
   },
   "outputs": [
    {
     "data": {
      "text/plain": [
       "array(['C5', 'F2', 'C2', 'D5', 'A4', 'C1', 'F3', 'A1', 'B3', 'D3', 'A5',\n",
       "       'E4', 'B1', 'B5', 'F1', 'B4', 'C3', 'E3', 'A2', 'B2', 'D1', 'C4',\n",
       "       'E2', 'D2', 'D4', 'A3', 'E5', 'F5', 'E1', 'G2', 'G1', 'G3', 'G4',\n",
       "       'F4', 'G5', nan], dtype=object)"
      ]
     },
     "execution_count": 11,
     "metadata": {},
     "output_type": "execute_result"
    }
   ],
   "source": [
    "df['sub_grade'].unique()"
   ]
  },
  {
   "cell_type": "code",
   "execution_count": 9,
   "metadata": {
    "collapsed": false
   },
   "outputs": [
    {
     "data": {
      "text/plain": [
       "id                                     0\n",
       "loan_amnt                              2\n",
       "grade                                  2\n",
       "sub_grade                              2\n",
       "emp_length                             2\n",
       "home_ownership                         2\n",
       "annual_inc                             2\n",
       "verification_status                    2\n",
       "issue_d                                2\n",
       "loan_status                            2\n",
       "pymnt_plan                             2\n",
       "url                                    2\n",
       "desc                              421052\n",
       "purpose                                2\n",
       "title                                134\n",
       "zip_code                               2\n",
       "addr_state                             2\n",
       "dti                                    2\n",
       "delinq_2yrs                            2\n",
       "earliest_cr_line                       2\n",
       "fico_range_low                         2\n",
       "fico_range_high                        2\n",
       "inq_last_6mths                         2\n",
       "mths_since_last_delinq            203964\n",
       "mths_since_last_record            346682\n",
       "open_acc                               2\n",
       "pub_rec                                2\n",
       "revol_bal                              2\n",
       "revol_util                           164\n",
       "total_acc                              2\n",
       "                                   ...  \n",
       "mo_sin_old_rev_tl_op                   2\n",
       "mo_sin_rcnt_rev_tl_op                  2\n",
       "mo_sin_rcnt_tl                         2\n",
       "mort_acc                               2\n",
       "mths_since_recent_bc                3800\n",
       "mths_since_recent_bc_dlq          312497\n",
       "mths_since_recent_inq              44601\n",
       "mths_since_recent_revol_delinq    269360\n",
       "num_accts_ever_120_pd                  2\n",
       "num_actv_bc_tl                         2\n",
       "num_actv_rev_tl                        2\n",
       "num_bc_sats                            2\n",
       "num_bc_tl                              2\n",
       "num_il_tl                              2\n",
       "num_op_rev_tl                          2\n",
       "num_rev_accts                          3\n",
       "num_rev_tl_bal_gt_0                    2\n",
       "num_sats                               2\n",
       "num_tl_120dpd_2m                   19232\n",
       "num_tl_30dpd                           2\n",
       "num_tl_90g_dpd_24m                     2\n",
       "num_tl_op_past_12m                     2\n",
       "pct_tl_nvr_dlq                         2\n",
       "percent_bc_gt_75                    4241\n",
       "pub_rec_bankruptcies                   2\n",
       "tax_liens                              2\n",
       "tot_hi_cred_lim                        2\n",
       "total_bal_ex_mort                      2\n",
       "total_bc_limit                         2\n",
       "total_il_high_credit_limit             2\n",
       "dtype: int64"
      ]
     },
     "execution_count": 9,
     "metadata": {},
     "output_type": "execute_result"
    }
   ],
   "source": [
    "df.isnull().sum()"
   ]
  },
  {
   "cell_type": "code",
   "execution_count": 10,
   "metadata": {
    "collapsed": false
   },
   "outputs": [
    {
     "data": {
      "text/plain": [
       "3.0      20178\n",
       "2.0      20074\n",
       "4.0      19432\n",
       "5.0      18039\n",
       "6.0      17031\n",
       "7.0      16346\n",
       "8.0      15237\n",
       "9.0      14319\n",
       "10.0     13619\n",
       "11.0     13185\n",
       "1.0      13026\n",
       "12.0     12755\n",
       "13.0     12215\n",
       "14.0     11286\n",
       "15.0     10401\n",
       "16.0      9549\n",
       "17.0      8650\n",
       "18.0      7848\n",
       "19.0      7232\n",
       "20.0      6732\n",
       "21.0      6384\n",
       "22.0      5936\n",
       "23.0      5629\n",
       "24.0      5229\n",
       "25.0      4807\n",
       "26.0      4336\n",
       "27.0      4220\n",
       "28.0      3937\n",
       "29.0      3538\n",
       "30.0      3432\n",
       "         ...  \n",
       "444.0        1\n",
       "441.0        1\n",
       "319.0        1\n",
       "343.0        1\n",
       "347.0        1\n",
       "348.0        1\n",
       "356.0        1\n",
       "357.0        1\n",
       "364.0        1\n",
       "367.0        1\n",
       "368.0        1\n",
       "370.0        1\n",
       "373.0        1\n",
       "377.0        1\n",
       "379.0        1\n",
       "389.0        1\n",
       "392.0        1\n",
       "394.0        1\n",
       "395.0        1\n",
       "398.0        1\n",
       "399.0        1\n",
       "412.0        1\n",
       "415.0        1\n",
       "416.0        1\n",
       "417.0        1\n",
       "425.0        1\n",
       "427.0        1\n",
       "429.0        1\n",
       "440.0        1\n",
       "615.0        1\n",
       "Name: mths_since_recent_bc, dtype: int64"
      ]
     },
     "execution_count": 10,
     "metadata": {},
     "output_type": "execute_result"
    }
   ],
   "source": [
    "df['mths_since_recent_bc'].value_counts()"
   ]
  },
  {
   "cell_type": "code",
   "execution_count": 11,
   "metadata": {
    "collapsed": false
   },
   "outputs": [
    {
     "data": {
      "text/plain": [
       "array(['Fully Paid', 'Current', 'In Grace Period', 'Late (31-120 days)',\n",
       "       'Charged Off', 'Late (16-30 days)', 'Default', nan], dtype=object)"
      ]
     },
     "execution_count": 11,
     "metadata": {},
     "output_type": "execute_result"
    }
   ],
   "source": [
    "df['loan_status'].unique()"
   ]
  },
  {
   "cell_type": "code",
   "execution_count": 12,
   "metadata": {
    "collapsed": false
   },
   "outputs": [
    {
     "data": {
      "text/plain": [
       "2"
      ]
     },
     "execution_count": 12,
     "metadata": {},
     "output_type": "execute_result"
    }
   ],
   "source": [
    "df['loan_status'].isnull().sum()"
   ]
  },
  {
   "cell_type": "code",
   "execution_count": 13,
   "metadata": {
    "collapsed": false
   },
   "outputs": [
    {
     "data": {
      "text/plain": [
       "Current               336267\n",
       "Fully Paid             55905\n",
       "Charged Off            13325\n",
       "Late (31-120 days)      8570\n",
       "In Grace Period         3974\n",
       "Late (16-30 days)       2515\n",
       "Default                  539\n",
       "Name: loan_status, dtype: int64"
      ]
     },
     "execution_count": 13,
     "metadata": {},
     "output_type": "execute_result"
    }
   ],
   "source": [
    "df['loan_status'].value_counts()"
   ]
  },
  {
   "cell_type": "code",
   "execution_count": 14,
   "metadata": {
    "collapsed": false
   },
   "outputs": [
    {
     "data": {
      "text/plain": [
       "69232"
      ]
     },
     "execution_count": 14,
     "metadata": {},
     "output_type": "execute_result"
    }
   ],
   "source": [
    "df['next_pymnt_d'].isnull().sum()"
   ]
  },
  {
   "cell_type": "code",
   "execution_count": 15,
   "metadata": {
    "collapsed": true
   },
   "outputs": [],
   "source": [
    "#WHAT DO I DO WITH THIS MANY NAN VALUES FOR NEXT_PAYMENT"
   ]
  },
  {
   "cell_type": "code",
   "execution_count": 16,
   "metadata": {
    "collapsed": false
   },
   "outputs": [
    {
     "data": {
      "text/plain": [
       "2"
      ]
     },
     "execution_count": 16,
     "metadata": {},
     "output_type": "execute_result"
    }
   ],
   "source": [
    "df['loan_status'].isnull().sum()"
   ]
  },
  {
   "cell_type": "code",
   "execution_count": 17,
   "metadata": {
    "collapsed": false
   },
   "outputs": [
    {
     "data": {
      "text/plain": [
       "pandas.core.series.Series"
      ]
     },
     "execution_count": 17,
     "metadata": {},
     "output_type": "execute_result"
    }
   ],
   "source": [
    "type(df['next_pymnt_d'])#.head()"
   ]
  },
  {
   "cell_type": "code",
   "execution_count": 18,
   "metadata": {
    "collapsed": false
   },
   "outputs": [],
   "source": [
    "#pd.to_datetime(df['next_pymnt_d'], errors='raise')"
   ]
  },
  {
   "cell_type": "code",
   "execution_count": 19,
   "metadata": {
    "collapsed": false
   },
   "outputs": [],
   "source": [
    "fill_nxt_pymnt_df = df[['loan_status','next_pymnt_d']]"
   ]
  },
  {
   "cell_type": "code",
   "execution_count": 20,
   "metadata": {
    "collapsed": false
   },
   "outputs": [],
   "source": [
    "#fill_nxt_pymnt_df.pivot_table(index=['loan_status'], columns=['next_pymnt_d'])"
   ]
  },
  {
   "cell_type": "code",
   "execution_count": 21,
   "metadata": {
    "collapsed": true
   },
   "outputs": [],
   "source": [
    "#how many unique values in last_credit"
   ]
  },
  {
   "cell_type": "code",
   "execution_count": 22,
   "metadata": {
    "collapsed": false
   },
   "outputs": [
    {
     "data": {
      "text/plain": [
       "10"
      ]
     },
     "execution_count": 22,
     "metadata": {},
     "output_type": "execute_result"
    }
   ],
   "source": [
    "df['last_credit_pull_d'].isnull().sum()"
   ]
  },
  {
   "cell_type": "code",
   "execution_count": 23,
   "metadata": {
    "collapsed": true
   },
   "outputs": [],
   "source": [
    "#think about dropping those 10 rows ask john not sure how to fill in."
   ]
  },
  {
   "cell_type": "code",
   "execution_count": 24,
   "metadata": {
    "collapsed": false
   },
   "outputs": [
    {
     "data": {
      "text/plain": [
       "2"
      ]
     },
     "execution_count": 24,
     "metadata": {},
     "output_type": "execute_result"
    }
   ],
   "source": [
    "df['sub_grade'].isnull().sum()"
   ]
  },
  {
   "cell_type": "code",
   "execution_count": 25,
   "metadata": {
    "collapsed": false
   },
   "outputs": [
    {
     "data": {
      "text/plain": [
       "array(['C5', 'F2', 'C2', 'D5', 'A4', 'C1', 'F3', 'A1', 'B3', 'D3', 'A5',\n",
       "       'E4', 'B1', 'B5', 'F1', 'B4', 'C3', 'E3', 'A2', 'B2', 'D1', 'C4',\n",
       "       'E2', 'D2', 'D4', 'A3', 'E5', 'F5', 'E1', 'G2', 'G1', 'G3', 'G4',\n",
       "       'F4', 'G5', nan], dtype=object)"
      ]
     },
     "execution_count": 25,
     "metadata": {},
     "output_type": "execute_result"
    }
   ],
   "source": [
    "df['sub_grade'].unique()"
   ]
  },
  {
   "cell_type": "code",
   "execution_count": 26,
   "metadata": {
    "collapsed": false
   },
   "outputs": [
    {
     "data": {
      "text/plain": [
       "array(['C', 'F', 'D', 'A', 'B', 'E', 'G', nan], dtype=object)"
      ]
     },
     "execution_count": 26,
     "metadata": {},
     "output_type": "execute_result"
    }
   ],
   "source": [
    "df['grade'].unique()"
   ]
  },
  {
   "cell_type": "code",
   "execution_count": 27,
   "metadata": {
    "collapsed": false
   },
   "outputs": [
    {
     "data": {
      "text/plain": [
       "2"
      ]
     },
     "execution_count": 27,
     "metadata": {},
     "output_type": "execute_result"
    }
   ],
   "source": [
    "df['grade'].isnull().sum()"
   ]
  },
  {
   "cell_type": "code",
   "execution_count": 28,
   "metadata": {
    "collapsed": false
   },
   "outputs": [
    {
     "data": {
      "text/plain": [
       "2"
      ]
     },
     "execution_count": 28,
     "metadata": {},
     "output_type": "execute_result"
    }
   ],
   "source": [
    "df['emp_length'].isnull().sum()"
   ]
  },
  {
   "cell_type": "code",
   "execution_count": 29,
   "metadata": {
    "collapsed": false
   },
   "outputs": [
    {
     "data": {
      "text/plain": [
       "array(['10+ years', '4 years', '9 years', '5 years', '< 1 year', '2 years',\n",
       "       '6 years', '3 years', '1 year', '8 years', 'n/a', '7 years', nan], dtype=object)"
      ]
     },
     "execution_count": 29,
     "metadata": {},
     "output_type": "execute_result"
    }
   ],
   "source": [
    "df['emp_length'].unique()"
   ]
  },
  {
   "cell_type": "code",
   "execution_count": 30,
   "metadata": {
    "collapsed": false
   },
   "outputs": [
    {
     "data": {
      "text/plain": [
       "10+ years    141521\n",
       "2 years       37497\n",
       "< 1 year      34340\n",
       "3 years       33430\n",
       "1 year        27473\n",
       "5 years       24930\n",
       "4 years       24506\n",
       "n/a           23817\n",
       "8 years       21560\n",
       "7 years       18414\n",
       "6 years       16838\n",
       "9 years       16769\n",
       "Name: emp_length, dtype: int64"
      ]
     },
     "execution_count": 30,
     "metadata": {},
     "output_type": "execute_result"
    }
   ],
   "source": [
    "df['emp_length'].value_counts()"
   ]
  },
  {
   "cell_type": "code",
   "execution_count": 31,
   "metadata": {
    "collapsed": false
   },
   "outputs": [
    {
     "data": {
      "text/plain": [
       "2"
      ]
     },
     "execution_count": 31,
     "metadata": {},
     "output_type": "execute_result"
    }
   ],
   "source": [
    "df['pymnt_plan'].isnull().sum()"
   ]
  },
  {
   "cell_type": "code",
   "execution_count": 32,
   "metadata": {
    "collapsed": false
   },
   "outputs": [
    {
     "data": {
      "text/plain": [
       "array(['n', 'y', nan], dtype=object)"
      ]
     },
     "execution_count": 32,
     "metadata": {},
     "output_type": "execute_result"
    }
   ],
   "source": [
    "df['pymnt_plan'].unique()"
   ]
  },
  {
   "cell_type": "code",
   "execution_count": 33,
   "metadata": {
    "collapsed": false
   },
   "outputs": [
    {
     "data": {
      "text/plain": [
       "n    421094\n",
       "y         1\n",
       "Name: pymnt_plan, dtype: int64"
      ]
     },
     "execution_count": 33,
     "metadata": {},
     "output_type": "execute_result"
    }
   ],
   "source": [
    "df['pymnt_plan'].value_counts()"
   ]
  },
  {
   "cell_type": "code",
   "execution_count": 34,
   "metadata": {
    "collapsed": false
   },
   "outputs": [],
   "source": [
    "df['pymnt_plan'] = df['pymnt_plan'].fillna('n')"
   ]
  },
  {
   "cell_type": "code",
   "execution_count": 35,
   "metadata": {
    "collapsed": false
   },
   "outputs": [
    {
     "data": {
      "text/plain": [
       "0"
      ]
     },
     "execution_count": 35,
     "metadata": {},
     "output_type": "execute_result"
    }
   ],
   "source": [
    "df['pymnt_plan'].isnull().sum()"
   ]
  },
  {
   "cell_type": "code",
   "execution_count": 36,
   "metadata": {
    "collapsed": false
   },
   "outputs": [
    {
     "data": {
      "text/plain": [
       "2"
      ]
     },
     "execution_count": 36,
     "metadata": {},
     "output_type": "execute_result"
    }
   ],
   "source": [
    "df['home_ownership'].isnull().sum()"
   ]
  },
  {
   "cell_type": "code",
   "execution_count": 37,
   "metadata": {
    "collapsed": false
   },
   "outputs": [
    {
     "data": {
      "text/plain": [
       "MORTGAGE    207683\n",
       "RENT        167644\n",
       "OWN          45766\n",
       "ANY              2\n",
       "Name: home_ownership, dtype: int64"
      ]
     },
     "execution_count": 37,
     "metadata": {},
     "output_type": "execute_result"
    }
   ],
   "source": [
    "df['home_ownership'].value_counts()"
   ]
  },
  {
   "cell_type": "code",
   "execution_count": 38,
   "metadata": {
    "collapsed": false
   },
   "outputs": [
    {
     "data": {
      "text/plain": [
       "2"
      ]
     },
     "execution_count": 38,
     "metadata": {},
     "output_type": "execute_result"
    }
   ],
   "source": [
    "df['annual_inc'].isnull().sum()"
   ]
  },
  {
   "cell_type": "code",
   "execution_count": 39,
   "metadata": {
    "collapsed": false
   },
   "outputs": [
    {
     "data": {
      "text/plain": [
       "2"
      ]
     },
     "execution_count": 39,
     "metadata": {},
     "output_type": "execute_result"
    }
   ],
   "source": [
    "df['verification_status'].isnull().sum()"
   ]
  },
  {
   "cell_type": "code",
   "execution_count": 40,
   "metadata": {
    "collapsed": false
   },
   "outputs": [
    {
     "data": {
      "text/plain": [
       "Source Verified    179565\n",
       "Verified           123016\n",
       "Not Verified       118514\n",
       "Name: verification_status, dtype: int64"
      ]
     },
     "execution_count": 40,
     "metadata": {},
     "output_type": "execute_result"
    }
   ],
   "source": [
    "df['verification_status'].value_counts()"
   ]
  },
  {
   "cell_type": "code",
   "execution_count": 41,
   "metadata": {
    "collapsed": false
   },
   "outputs": [
    {
     "data": {
      "text/plain": [
       "id                                     0\n",
       "loan_amnt                              2\n",
       "grade                                  2\n",
       "sub_grade                              2\n",
       "emp_length                             2\n",
       "home_ownership                         2\n",
       "annual_inc                             2\n",
       "verification_status                    2\n",
       "issue_d                                2\n",
       "loan_status                            2\n",
       "pymnt_plan                             0\n",
       "url                                    2\n",
       "desc                              421052\n",
       "purpose                                2\n",
       "title                                134\n",
       "zip_code                               2\n",
       "addr_state                             2\n",
       "dti                                    2\n",
       "delinq_2yrs                            2\n",
       "earliest_cr_line                       2\n",
       "fico_range_low                         2\n",
       "fico_range_high                        2\n",
       "inq_last_6mths                         2\n",
       "mths_since_last_delinq            203964\n",
       "mths_since_last_record            346682\n",
       "open_acc                               2\n",
       "pub_rec                                2\n",
       "revol_bal                              2\n",
       "revol_util                           164\n",
       "total_acc                              2\n",
       "                                   ...  \n",
       "mo_sin_old_rev_tl_op                   2\n",
       "mo_sin_rcnt_rev_tl_op                  2\n",
       "mo_sin_rcnt_tl                         2\n",
       "mort_acc                               2\n",
       "mths_since_recent_bc                3800\n",
       "mths_since_recent_bc_dlq          312497\n",
       "mths_since_recent_inq              44601\n",
       "mths_since_recent_revol_delinq    269360\n",
       "num_accts_ever_120_pd                  2\n",
       "num_actv_bc_tl                         2\n",
       "num_actv_rev_tl                        2\n",
       "num_bc_sats                            2\n",
       "num_bc_tl                              2\n",
       "num_il_tl                              2\n",
       "num_op_rev_tl                          2\n",
       "num_rev_accts                          3\n",
       "num_rev_tl_bal_gt_0                    2\n",
       "num_sats                               2\n",
       "num_tl_120dpd_2m                   19232\n",
       "num_tl_30dpd                           2\n",
       "num_tl_90g_dpd_24m                     2\n",
       "num_tl_op_past_12m                     2\n",
       "pct_tl_nvr_dlq                         2\n",
       "percent_bc_gt_75                    4241\n",
       "pub_rec_bankruptcies                   2\n",
       "tax_liens                              2\n",
       "tot_hi_cred_lim                        2\n",
       "total_bal_ex_mort                      2\n",
       "total_bc_limit                         2\n",
       "total_il_high_credit_limit             2\n",
       "dtype: int64"
      ]
     },
     "execution_count": 41,
     "metadata": {},
     "output_type": "execute_result"
    }
   ],
   "source": [
    "df.isnull().sum()"
   ]
  },
  {
   "cell_type": "code",
   "execution_count": 42,
   "metadata": {
    "collapsed": false
   },
   "outputs": [],
   "source": [
    "#df['installment'].value_counts()"
   ]
  },
  {
   "cell_type": "code",
   "execution_count": 43,
   "metadata": {
    "collapsed": true
   },
   "outputs": [],
   "source": [
    "df['mths_since_last_major_derog'] = df['mths_since_last_major_derog'].fillna(0)"
   ]
  },
  {
   "cell_type": "code",
   "execution_count": 44,
   "metadata": {
    "collapsed": false
   },
   "outputs": [
    {
     "data": {
      "text/plain": [
       "0"
      ]
     },
     "execution_count": 44,
     "metadata": {},
     "output_type": "execute_result"
    }
   ],
   "source": [
    "df['mths_since_last_major_derog'].isnull().sum()"
   ]
  },
  {
   "cell_type": "code",
   "execution_count": 45,
   "metadata": {
    "collapsed": true
   },
   "outputs": [],
   "source": [
    "df['annual_inc_joint'] = df['annual_inc_joint'].fillna(0)"
   ]
  },
  {
   "cell_type": "code",
   "execution_count": 46,
   "metadata": {
    "collapsed": true
   },
   "outputs": [],
   "source": [
    "df['dti_joint'] = df['dti_joint'].fillna(0)"
   ]
  },
  {
   "cell_type": "code",
   "execution_count": 47,
   "metadata": {
    "collapsed": true
   },
   "outputs": [],
   "source": [
    "df['mths_since_last_delinq'] = df['mths_since_last_delinq'].fillna(0)"
   ]
  },
  {
   "cell_type": "code",
   "execution_count": 48,
   "metadata": {
    "collapsed": true
   },
   "outputs": [],
   "source": [
    "df['mths_since_recent_bc_dlq'] = df['mths_since_recent_bc_dlq'].fillna(0)"
   ]
  },
  {
   "cell_type": "code",
   "execution_count": 49,
   "metadata": {
    "collapsed": true
   },
   "outputs": [],
   "source": [
    "df['mths_since_recent_inq'] = df['mths_since_recent_inq'].fillna(0)"
   ]
  },
  {
   "cell_type": "code",
   "execution_count": 50,
   "metadata": {
    "collapsed": true
   },
   "outputs": [],
   "source": [
    "df['mths_since_recent_revol_delinq'] = df['mths_since_recent_revol_delinq'].fillna(0)"
   ]
  },
  {
   "cell_type": "code",
   "execution_count": 51,
   "metadata": {
    "collapsed": false
   },
   "outputs": [
    {
     "data": {
      "text/plain": [
       "2"
      ]
     },
     "execution_count": 51,
     "metadata": {},
     "output_type": "execute_result"
    }
   ],
   "source": [
    "df['num_accts_ever_120_pd'].isnull().sum()"
   ]
  },
  {
   "cell_type": "code",
   "execution_count": 52,
   "metadata": {
    "collapsed": true
   },
   "outputs": [],
   "source": [
    "df['num_tl_120dpd_2m'] = df['num_tl_120dpd_2m'].fillna(0)"
   ]
  },
  {
   "cell_type": "code",
   "execution_count": 53,
   "metadata": {
    "collapsed": false
   },
   "outputs": [],
   "source": [
    "df['num_accts_ever_120_pd'] = df['num_accts_ever_120_pd'].fillna(0)"
   ]
  },
  {
   "cell_type": "code",
   "execution_count": 54,
   "metadata": {
    "collapsed": true
   },
   "outputs": [],
   "source": [
    "df['num_actv_bc_tl'] = df['num_accts_ever_120_pd'].fillna(0)"
   ]
  },
  {
   "cell_type": "code",
   "execution_count": 55,
   "metadata": {
    "collapsed": true
   },
   "outputs": [],
   "source": [
    "df['percent_bc_gt_75'] = df['percent_bc_gt_75'].fillna(0)"
   ]
  },
  {
   "cell_type": "code",
   "execution_count": 56,
   "metadata": {
    "collapsed": true
   },
   "outputs": [],
   "source": [
    "df['mths_since_recent_bc'] = df['mths_since_recent_bc'].fillna(0)"
   ]
  },
  {
   "cell_type": "code",
   "execution_count": 57,
   "metadata": {
    "collapsed": true
   },
   "outputs": [],
   "source": [
    "df['mths_since_last_record'] = df['mths_since_last_record'].fillna(0)"
   ]
  },
  {
   "cell_type": "code",
   "execution_count": 58,
   "metadata": {
    "collapsed": false
   },
   "outputs": [
    {
     "name": "stdout",
     "output_type": "stream",
     "text": [
      "<class 'pandas.core.frame.DataFrame'>\n",
      "RangeIndex: 421097 entries, 0 to 421096\n",
      "Columns: 108 entries, id to total_il_high_credit_limit\n",
      "dtypes: float64(85), object(23)\n",
      "memory usage: 347.0+ MB\n"
     ]
    }
   ],
   "source": [
    "df.info()"
   ]
  },
  {
   "cell_type": "code",
   "execution_count": 59,
   "metadata": {
    "collapsed": false
   },
   "outputs": [
    {
     "data": {
      "text/plain": [
       "id                                     0\n",
       "loan_amnt                              2\n",
       "grade                                  2\n",
       "sub_grade                              2\n",
       "emp_length                             2\n",
       "home_ownership                         2\n",
       "annual_inc                             2\n",
       "verification_status                    2\n",
       "issue_d                                2\n",
       "loan_status                            2\n",
       "pymnt_plan                             0\n",
       "url                                    2\n",
       "desc                              421052\n",
       "purpose                                2\n",
       "title                                134\n",
       "zip_code                               2\n",
       "addr_state                             2\n",
       "dti                                    2\n",
       "delinq_2yrs                            2\n",
       "earliest_cr_line                       2\n",
       "fico_range_low                         2\n",
       "fico_range_high                        2\n",
       "inq_last_6mths                         2\n",
       "mths_since_last_delinq                 0\n",
       "mths_since_last_record                 0\n",
       "open_acc                               2\n",
       "pub_rec                                2\n",
       "revol_bal                              2\n",
       "revol_util                           164\n",
       "total_acc                              2\n",
       "                                   ...  \n",
       "mo_sin_old_rev_tl_op                   2\n",
       "mo_sin_rcnt_rev_tl_op                  2\n",
       "mo_sin_rcnt_tl                         2\n",
       "mort_acc                               2\n",
       "mths_since_recent_bc                   0\n",
       "mths_since_recent_bc_dlq               0\n",
       "mths_since_recent_inq                  0\n",
       "mths_since_recent_revol_delinq         0\n",
       "num_accts_ever_120_pd                  0\n",
       "num_actv_bc_tl                         0\n",
       "num_actv_rev_tl                        2\n",
       "num_bc_sats                            2\n",
       "num_bc_tl                              2\n",
       "num_il_tl                              2\n",
       "num_op_rev_tl                          2\n",
       "num_rev_accts                          3\n",
       "num_rev_tl_bal_gt_0                    2\n",
       "num_sats                               2\n",
       "num_tl_120dpd_2m                       0\n",
       "num_tl_30dpd                           2\n",
       "num_tl_90g_dpd_24m                     2\n",
       "num_tl_op_past_12m                     2\n",
       "pct_tl_nvr_dlq                         2\n",
       "percent_bc_gt_75                       0\n",
       "pub_rec_bankruptcies                   2\n",
       "tax_liens                              2\n",
       "tot_hi_cred_lim                        2\n",
       "total_bal_ex_mort                      2\n",
       "total_bc_limit                         2\n",
       "total_il_high_credit_limit             2\n",
       "dtype: int64"
      ]
     },
     "execution_count": 59,
     "metadata": {},
     "output_type": "execute_result"
    }
   ],
   "source": [
    "df.isnull().sum()"
   ]
  },
  {
   "cell_type": "code",
   "execution_count": 60,
   "metadata": {
    "collapsed": true
   },
   "outputs": [],
   "source": [
    "Description = df['desc']"
   ]
  },
  {
   "cell_type": "code",
   "execution_count": 61,
   "metadata": {
    "collapsed": true
   },
   "outputs": [],
   "source": [
    "df.drop('desc', axis=1, inplace=True)"
   ]
  },
  {
   "cell_type": "code",
   "execution_count": 62,
   "metadata": {
    "collapsed": false
   },
   "outputs": [],
   "source": [
    "df[['pub_rec_bankruptcies','tax_liens','tot_hi_cred_lim','total_bal_ex_mort','total_bc_limit','total_il_high_credit_limit']] = df[['pub_rec_bankruptcies','tax_liens','tot_hi_cred_lim','total_bal_ex_mort','total_bc_limit','total_il_high_credit_limit']].fillna(0)"
   ]
  },
  {
   "cell_type": "code",
   "execution_count": 63,
   "metadata": {
    "collapsed": false
   },
   "outputs": [],
   "source": [
    "df[['mo_sin_old_rev_tl_op','mo_sin_rcnt_rev_tl_op','mo_sin_rcnt_tl','mort_acc']] = df[['mo_sin_old_rev_tl_op','mo_sin_rcnt_rev_tl_op','mo_sin_rcnt_tl','mort_acc']].fillna(0)                    "
   ]
  },
  {
   "cell_type": "code",
   "execution_count": 64,
   "metadata": {
    "collapsed": false
   },
   "outputs": [],
   "source": [
    "df[['num_actv_rev_tl','num_bc_sats','num_bc_tl','num_il_tl','num_op_rev_tl']] = df[['num_actv_rev_tl','num_bc_sats', 'num_bc_tl','num_il_tl', 'num_op_rev_tl']].fillna(0)\n",
    "    "
   ]
  },
  {
   "cell_type": "code",
   "execution_count": 65,
   "metadata": {
    "collapsed": false
   },
   "outputs": [],
   "source": [
    "df[['num_rev_accts','num_rev_tl_bal_gt_0','num_sats','num_tl_30dpd','num_tl_90g_dpd_24m','num_tl_op_past_12m','pct_tl_nvr_dlq']] = df[['num_rev_accts',\n",
    "                                                                                                                                     'num_rev_tl_bal_gt_0','num_sats','num_tl_30dpd','num_tl_90g_dpd_24m','num_tl_op_past_12m','pct_tl_nvr_dlq']].fillna(0)"
   ]
  },
  {
   "cell_type": "code",
   "execution_count": 66,
   "metadata": {
    "collapsed": true
   },
   "outputs": [],
   "source": [
    "df[['open_acc', 'pub_rec', 'revol_bal']] = df[['open_acc', 'pub_rec', 'revol_bal'] ].fillna(0)"
   ]
  },
  {
   "cell_type": "code",
   "execution_count": 67,
   "metadata": {
    "collapsed": false
   },
   "outputs": [
    {
     "data": {
      "text/plain": [
       "id                                  0\n",
       "loan_amnt                           2\n",
       "grade                               2\n",
       "sub_grade                           2\n",
       "emp_length                          2\n",
       "home_ownership                      2\n",
       "annual_inc                          2\n",
       "verification_status                 2\n",
       "issue_d                             2\n",
       "loan_status                         2\n",
       "pymnt_plan                          0\n",
       "url                                 2\n",
       "purpose                             2\n",
       "title                             134\n",
       "zip_code                            2\n",
       "addr_state                          2\n",
       "dti                                 2\n",
       "delinq_2yrs                         2\n",
       "earliest_cr_line                    2\n",
       "fico_range_low                      2\n",
       "fico_range_high                     2\n",
       "inq_last_6mths                      2\n",
       "mths_since_last_delinq              0\n",
       "mths_since_last_record              0\n",
       "open_acc                            0\n",
       "pub_rec                             0\n",
       "revol_bal                           0\n",
       "revol_util                        164\n",
       "total_acc                           2\n",
       "initial_list_status                 2\n",
       "                                 ... \n",
       "mo_sin_old_rev_tl_op                0\n",
       "mo_sin_rcnt_rev_tl_op               0\n",
       "mo_sin_rcnt_tl                      0\n",
       "mort_acc                            0\n",
       "mths_since_recent_bc                0\n",
       "mths_since_recent_bc_dlq            0\n",
       "mths_since_recent_inq               0\n",
       "mths_since_recent_revol_delinq      0\n",
       "num_accts_ever_120_pd               0\n",
       "num_actv_bc_tl                      0\n",
       "num_actv_rev_tl                     0\n",
       "num_bc_sats                         0\n",
       "num_bc_tl                           0\n",
       "num_il_tl                           0\n",
       "num_op_rev_tl                       0\n",
       "num_rev_accts                       0\n",
       "num_rev_tl_bal_gt_0                 0\n",
       "num_sats                            0\n",
       "num_tl_120dpd_2m                    0\n",
       "num_tl_30dpd                        0\n",
       "num_tl_90g_dpd_24m                  0\n",
       "num_tl_op_past_12m                  0\n",
       "pct_tl_nvr_dlq                      0\n",
       "percent_bc_gt_75                    0\n",
       "pub_rec_bankruptcies                0\n",
       "tax_liens                           0\n",
       "tot_hi_cred_lim                     0\n",
       "total_bal_ex_mort                   0\n",
       "total_bc_limit                      0\n",
       "total_il_high_credit_limit          0\n",
       "dtype: int64"
      ]
     },
     "execution_count": 67,
     "metadata": {},
     "output_type": "execute_result"
    }
   ],
   "source": [
    "df.isnull().sum()"
   ]
  },
  {
   "cell_type": "code",
   "execution_count": 68,
   "metadata": {
    "collapsed": false
   },
   "outputs": [],
   "source": [
    "#sns.countplot(x='loan_status', data=df)\n",
    "\n",
    "#sns.countplot(x='home_ownership', data=df, hue='purpose')\n",
    "\n",
    "#sns.countplot(x='purpose', data=df)\n",
    "\n",
    "#sns.factorplot(data=df, x=\"loan_amnt\", y=\"loan_status\", col=\"home_ownership\") \n",
    "\n",
    "#sns.countplot(x='loan_status', data=df, hue='purpose')\n"
   ]
  },
  {
   "cell_type": "code",
   "execution_count": 69,
   "metadata": {
    "collapsed": false
   },
   "outputs": [],
   "source": [
    "df1_index = df.columns[0:20]"
   ]
  },
  {
   "cell_type": "code",
   "execution_count": 70,
   "metadata": {
    "collapsed": false
   },
   "outputs": [
    {
     "data": {
      "text/plain": [
       "Index([u'id', u'loan_amnt', u'grade', u'sub_grade', u'emp_length',\n",
       "       u'home_ownership', u'annual_inc', u'verification_status', u'issue_d',\n",
       "       u'loan_status', u'pymnt_plan', u'url', u'purpose', u'title',\n",
       "       u'zip_code', u'addr_state', u'dti', u'delinq_2yrs', u'earliest_cr_line',\n",
       "       u'fico_range_low'],\n",
       "      dtype='object')"
      ]
     },
     "execution_count": 70,
     "metadata": {},
     "output_type": "execute_result"
    }
   ],
   "source": [
    "df1_index"
   ]
  },
  {
   "cell_type": "code",
   "execution_count": 71,
   "metadata": {
    "collapsed": false
   },
   "outputs": [],
   "source": [
    "df1 = df[[u'id', u'loan_amnt', u'grade', u'sub_grade', u'emp_length',\n",
    "       u'home_ownership', u'annual_inc', u'verification_status', u'issue_d',\n",
    "       u'loan_status', u'pymnt_plan', u'url', u'purpose', u'title',\n",
    "       u'zip_code', u'addr_state', u'dti', u'delinq_2yrs', u'earliest_cr_line',\n",
    "       u'fico_range_low']]"
   ]
  },
  {
   "cell_type": "code",
   "execution_count": 72,
   "metadata": {
    "collapsed": true
   },
   "outputs": [],
   "source": [
    "drop_list1 = ['id', 'issue_d', 'pymnt_plan', 'url', 'title','zip_code','earliest_cr_line']"
   ]
  },
  {
   "cell_type": "code",
   "execution_count": 73,
   "metadata": {
    "collapsed": false
   },
   "outputs": [
    {
     "name": "stderr",
     "output_type": "stream",
     "text": [
      "/Users/punkymonkey/anaconda/lib/python2.7/site-packages/ipykernel/__main__.py:1: SettingWithCopyWarning: \n",
      "A value is trying to be set on a copy of a slice from a DataFrame\n",
      "\n",
      "See the caveats in the documentation: http://pandas.pydata.org/pandas-docs/stable/indexing.html#indexing-view-versus-copy\n",
      "  if __name__ == '__main__':\n"
     ]
    }
   ],
   "source": [
    "df1.drop(drop_list1, axis=1, inplace=True)"
   ]
  },
  {
   "cell_type": "code",
   "execution_count": 74,
   "metadata": {
    "collapsed": false
   },
   "outputs": [
    {
     "data": {
      "text/plain": [
       "loan_amnt              2\n",
       "grade                  2\n",
       "sub_grade              2\n",
       "emp_length             2\n",
       "home_ownership         2\n",
       "annual_inc             2\n",
       "verification_status    2\n",
       "loan_status            2\n",
       "purpose                2\n",
       "addr_state             2\n",
       "dti                    2\n",
       "delinq_2yrs            2\n",
       "fico_range_low         2\n",
       "dtype: int64"
      ]
     },
     "execution_count": 74,
     "metadata": {},
     "output_type": "execute_result"
    }
   ],
   "source": [
    "df1.isnull().sum()"
   ]
  },
  {
   "cell_type": "code",
   "execution_count": 75,
   "metadata": {
    "collapsed": true
   },
   "outputs": [],
   "source": [
    "df1 = df1.dropna()"
   ]
  },
  {
   "cell_type": "code",
   "execution_count": 76,
   "metadata": {
    "collapsed": true
   },
   "outputs": [],
   "source": [
    "df12_index = df.columns[20:40]"
   ]
  },
  {
   "cell_type": "code",
   "execution_count": 77,
   "metadata": {
    "collapsed": false
   },
   "outputs": [
    {
     "data": {
      "text/plain": [
       "Index([u'fico_range_high', u'inq_last_6mths', u'mths_since_last_delinq',\n",
       "       u'mths_since_last_record', u'open_acc', u'pub_rec', u'revol_bal',\n",
       "       u'revol_util', u'total_acc', u'initial_list_status', u'out_prncp',\n",
       "       u'out_prncp_inv', u'total_pymnt', u'total_pymnt_inv',\n",
       "       u'total_rec_prncp', u'total_rec_int', u'total_rec_late_fee',\n",
       "       u'recoveries', u'collection_recovery_fee', u'last_pymnt_d'],\n",
       "      dtype='object')"
      ]
     },
     "execution_count": 77,
     "metadata": {},
     "output_type": "execute_result"
    }
   ],
   "source": [
    "df12_index"
   ]
  },
  {
   "cell_type": "code",
   "execution_count": 78,
   "metadata": {
    "collapsed": true
   },
   "outputs": [],
   "source": [
    "df2 = df[[u'fico_range_high', u'inq_last_6mths', u'mths_since_last_delinq',\n",
    "       u'mths_since_last_record', u'open_acc', u'pub_rec', u'revol_bal',\n",
    "       u'revol_util', u'total_acc', u'initial_list_status', u'out_prncp',\n",
    "       u'out_prncp_inv', u'total_pymnt', u'total_pymnt_inv',\n",
    "       u'total_rec_prncp', u'total_rec_int', u'total_rec_late_fee',\n",
    "       u'recoveries', u'collection_recovery_fee', u'last_pymnt_d']]"
   ]
  },
  {
   "cell_type": "code",
   "execution_count": 79,
   "metadata": {
    "collapsed": false,
    "scrolled": true
   },
   "outputs": [
    {
     "data": {
      "text/plain": [
       "fico_range_high              2\n",
       "inq_last_6mths               2\n",
       "mths_since_last_delinq       0\n",
       "mths_since_last_record       0\n",
       "open_acc                     0\n",
       "pub_rec                      0\n",
       "revol_bal                    0\n",
       "revol_util                 164\n",
       "total_acc                    2\n",
       "initial_list_status          2\n",
       "out_prncp                    2\n",
       "out_prncp_inv                2\n",
       "total_pymnt                  2\n",
       "total_pymnt_inv              2\n",
       "total_rec_prncp              2\n",
       "total_rec_int                2\n",
       "total_rec_late_fee           2\n",
       "recoveries                   2\n",
       "collection_recovery_fee      2\n",
       "last_pymnt_d               296\n",
       "dtype: int64"
      ]
     },
     "execution_count": 79,
     "metadata": {},
     "output_type": "execute_result"
    }
   ],
   "source": [
    "df2.isnull().sum(0)"
   ]
  },
  {
   "cell_type": "code",
   "execution_count": 80,
   "metadata": {
    "collapsed": false
   },
   "outputs": [
    {
     "name": "stderr",
     "output_type": "stream",
     "text": [
      "/Users/punkymonkey/anaconda/lib/python2.7/site-packages/ipykernel/__main__.py:2: SettingWithCopyWarning: \n",
      "A value is trying to be set on a copy of a slice from a DataFrame\n",
      "\n",
      "See the caveats in the documentation: http://pandas.pydata.org/pandas-docs/stable/indexing.html#indexing-view-versus-copy\n",
      "  from ipykernel import kernelapp as app\n"
     ]
    }
   ],
   "source": [
    "df2.drop(['initial_list_status', 'out_prncp', 'out_prncp_inv', 'total_pymnt_inv', 'total_rec_prncp','total_rec_int',\n",
    "          'total_rec_late_fee','last_pymnt_d','total_pymnt'], axis=1, inplace=True)"
   ]
  },
  {
   "cell_type": "code",
   "execution_count": 81,
   "metadata": {
    "collapsed": false
   },
   "outputs": [
    {
     "name": "stderr",
     "output_type": "stream",
     "text": [
      "/Users/punkymonkey/anaconda/lib/python2.7/site-packages/ipykernel/__main__.py:1: SettingWithCopyWarning: \n",
      "A value is trying to be set on a copy of a slice from a DataFrame.\n",
      "Try using .loc[row_indexer,col_indexer] = value instead\n",
      "\n",
      "See the caveats in the documentation: http://pandas.pydata.org/pandas-docs/stable/indexing.html#indexing-view-versus-copy\n",
      "  if __name__ == '__main__':\n"
     ]
    }
   ],
   "source": [
    "df2['revol_util'] = df2['revol_util'].fillna(0)"
   ]
  },
  {
   "cell_type": "code",
   "execution_count": 82,
   "metadata": {
    "collapsed": false
   },
   "outputs": [],
   "source": [
    "df2 = df2.dropna()"
   ]
  },
  {
   "cell_type": "code",
   "execution_count": 83,
   "metadata": {
    "collapsed": false
   },
   "outputs": [
    {
     "data": {
      "text/plain": [
       "fico_range_high            0\n",
       "inq_last_6mths             0\n",
       "mths_since_last_delinq     0\n",
       "mths_since_last_record     0\n",
       "open_acc                   0\n",
       "pub_rec                    0\n",
       "revol_bal                  0\n",
       "revol_util                 0\n",
       "total_acc                  0\n",
       "recoveries                 0\n",
       "collection_recovery_fee    0\n",
       "dtype: int64"
      ]
     },
     "execution_count": 83,
     "metadata": {},
     "output_type": "execute_result"
    }
   ],
   "source": [
    "df2.isnull().sum()"
   ]
  },
  {
   "cell_type": "code",
   "execution_count": 84,
   "metadata": {
    "collapsed": true
   },
   "outputs": [],
   "source": [
    "df3_index = df.columns[40:60]"
   ]
  },
  {
   "cell_type": "code",
   "execution_count": 85,
   "metadata": {
    "collapsed": false
   },
   "outputs": [
    {
     "data": {
      "text/plain": [
       "['last_pymnt_amnt',\n",
       " 'next_pymnt_d',\n",
       " 'last_credit_pull_d',\n",
       " 'last_fico_range_high',\n",
       " 'last_fico_range_low',\n",
       " 'collections_12_mths_ex_med',\n",
       " 'mths_since_last_major_derog',\n",
       " 'policy_code',\n",
       " 'application_type',\n",
       " 'annual_inc_joint',\n",
       " 'dti_joint',\n",
       " 'verification_status_joint',\n",
       " 'acc_now_delinq',\n",
       " 'tot_coll_amt',\n",
       " 'tot_cur_bal',\n",
       " 'open_acc_6m',\n",
       " 'open_il_6m',\n",
       " 'open_il_12m',\n",
       " 'open_il_24m',\n",
       " 'mths_since_rcnt_il']"
      ]
     },
     "execution_count": 85,
     "metadata": {},
     "output_type": "execute_result"
    }
   ],
   "source": [
    "list(df3_index)"
   ]
  },
  {
   "cell_type": "code",
   "execution_count": 86,
   "metadata": {
    "collapsed": true
   },
   "outputs": [],
   "source": [
    "df3 = df[['last_pymnt_amnt',\n",
    " 'next_pymnt_d',\n",
    " 'last_credit_pull_d',\n",
    " 'last_fico_range_high',\n",
    " 'last_fico_range_low',\n",
    " 'collections_12_mths_ex_med',\n",
    " 'mths_since_last_major_derog',\n",
    " 'policy_code',\n",
    " 'application_type',\n",
    " 'annual_inc_joint',\n",
    " 'dti_joint',\n",
    " 'verification_status_joint',\n",
    " 'acc_now_delinq',\n",
    " 'tot_coll_amt',\n",
    " 'tot_cur_bal',\n",
    " 'open_acc_6m',\n",
    " 'open_il_6m',\n",
    " 'open_il_12m',\n",
    " 'open_il_24m',\n",
    " 'mths_since_rcnt_il']]"
   ]
  },
  {
   "cell_type": "code",
   "execution_count": 87,
   "metadata": {
    "collapsed": false
   },
   "outputs": [
    {
     "data": {
      "text/plain": [
       "last_pymnt_amnt                     2\n",
       "next_pymnt_d                    69232\n",
       "last_credit_pull_d                 10\n",
       "last_fico_range_high                2\n",
       "last_fico_range_low                 2\n",
       "collections_12_mths_ex_med          2\n",
       "mths_since_last_major_derog         0\n",
       "policy_code                         2\n",
       "application_type                    2\n",
       "annual_inc_joint                    0\n",
       "dti_joint                           0\n",
       "verification_status_joint      420586\n",
       "acc_now_delinq                      2\n",
       "tot_coll_amt                        2\n",
       "tot_cur_bal                         2\n",
       "open_acc_6m                    399725\n",
       "open_il_6m                     399725\n",
       "open_il_12m                    399725\n",
       "open_il_24m                    399725\n",
       "mths_since_rcnt_il             400287\n",
       "dtype: int64"
      ]
     },
     "execution_count": 87,
     "metadata": {},
     "output_type": "execute_result"
    }
   ],
   "source": [
    "df3.isnull().sum()"
   ]
  },
  {
   "cell_type": "code",
   "execution_count": 88,
   "metadata": {
    "collapsed": true
   },
   "outputs": [],
   "source": [
    "drop_list_df3 = ['last_pymnt_amnt', 'next_pymnt_d', 'policy_code', 'application_type', 'dti_joint'\n",
    "                 , 'annual_inc_joint','dti_joint', 'verification_status_joint']"
   ]
  },
  {
   "cell_type": "code",
   "execution_count": 89,
   "metadata": {
    "collapsed": false
   },
   "outputs": [
    {
     "name": "stderr",
     "output_type": "stream",
     "text": [
      "/Users/punkymonkey/anaconda/lib/python2.7/site-packages/ipykernel/__main__.py:1: SettingWithCopyWarning: \n",
      "A value is trying to be set on a copy of a slice from a DataFrame\n",
      "\n",
      "See the caveats in the documentation: http://pandas.pydata.org/pandas-docs/stable/indexing.html#indexing-view-versus-copy\n",
      "  if __name__ == '__main__':\n"
     ]
    }
   ],
   "source": [
    "df3.drop(drop_list_df3, axis=1, inplace=True)"
   ]
  },
  {
   "cell_type": "code",
   "execution_count": 90,
   "metadata": {
    "collapsed": false
   },
   "outputs": [
    {
     "name": "stdout",
     "output_type": "stream",
     "text": [
      "<class 'pandas.core.frame.DataFrame'>\n",
      "RangeIndex: 421097 entries, 0 to 421096\n",
      "Data columns (total 13 columns):\n",
      "last_credit_pull_d             421087 non-null object\n",
      "last_fico_range_high           421095 non-null float64\n",
      "last_fico_range_low            421095 non-null float64\n",
      "collections_12_mths_ex_med     421095 non-null float64\n",
      "mths_since_last_major_derog    421097 non-null float64\n",
      "acc_now_delinq                 421095 non-null float64\n",
      "tot_coll_amt                   421095 non-null float64\n",
      "tot_cur_bal                    421095 non-null float64\n",
      "open_acc_6m                    21372 non-null float64\n",
      "open_il_6m                     21372 non-null float64\n",
      "open_il_12m                    21372 non-null float64\n",
      "open_il_24m                    21372 non-null float64\n",
      "mths_since_rcnt_il             20810 non-null float64\n",
      "dtypes: float64(12), object(1)\n",
      "memory usage: 41.8+ MB\n"
     ]
    }
   ],
   "source": [
    "df3.info()"
   ]
  },
  {
   "cell_type": "code",
   "execution_count": 91,
   "metadata": {
    "collapsed": false
   },
   "outputs": [
    {
     "data": {
      "text/plain": [
       "last_credit_pull_d                 10\n",
       "last_fico_range_high                2\n",
       "last_fico_range_low                 2\n",
       "collections_12_mths_ex_med          2\n",
       "mths_since_last_major_derog         0\n",
       "acc_now_delinq                      2\n",
       "tot_coll_amt                        2\n",
       "tot_cur_bal                         2\n",
       "open_acc_6m                    399725\n",
       "open_il_6m                     399725\n",
       "open_il_12m                    399725\n",
       "open_il_24m                    399725\n",
       "mths_since_rcnt_il             400287\n",
       "dtype: int64"
      ]
     },
     "execution_count": 91,
     "metadata": {},
     "output_type": "execute_result"
    }
   ],
   "source": [
    "df3.isnull().sum()"
   ]
  },
  {
   "cell_type": "code",
   "execution_count": 92,
   "metadata": {
    "collapsed": false
   },
   "outputs": [
    {
     "name": "stderr",
     "output_type": "stream",
     "text": [
      "/Users/punkymonkey/anaconda/lib/python2.7/site-packages/ipykernel/__main__.py:1: SettingWithCopyWarning: \n",
      "A value is trying to be set on a copy of a slice from a DataFrame\n",
      "\n",
      "See the caveats in the documentation: http://pandas.pydata.org/pandas-docs/stable/indexing.html#indexing-view-versus-copy\n",
      "  if __name__ == '__main__':\n"
     ]
    }
   ],
   "source": [
    "df3.drop(['last_credit_pull_d'], axis=1, inplace=True)"
   ]
  },
  {
   "cell_type": "code",
   "execution_count": 93,
   "metadata": {
    "collapsed": false
   },
   "outputs": [
    {
     "name": "stderr",
     "output_type": "stream",
     "text": [
      "/Users/punkymonkey/anaconda/lib/python2.7/site-packages/pandas/core/frame.py:2378: SettingWithCopyWarning: \n",
      "A value is trying to be set on a copy of a slice from a DataFrame.\n",
      "Try using .loc[row_indexer,col_indexer] = value instead\n",
      "\n",
      "See the caveats in the documentation: http://pandas.pydata.org/pandas-docs/stable/indexing.html#indexing-view-versus-copy\n",
      "  self[k1] = value[k2]\n"
     ]
    }
   ],
   "source": [
    "df3[['open_il_6m','open_il_12m','open_il_24m','mths_since_rcnt_il']] = df3[['open_il_6m','open_il_12m','open_il_24m'\n",
    "                                                                            ,'mths_since_rcnt_il']].fillna(0)"
   ]
  },
  {
   "cell_type": "code",
   "execution_count": 94,
   "metadata": {
    "collapsed": false
   },
   "outputs": [
    {
     "name": "stderr",
     "output_type": "stream",
     "text": [
      "/Users/punkymonkey/anaconda/lib/python2.7/site-packages/ipykernel/__main__.py:1: SettingWithCopyWarning: \n",
      "A value is trying to be set on a copy of a slice from a DataFrame.\n",
      "Try using .loc[row_indexer,col_indexer] = value instead\n",
      "\n",
      "See the caveats in the documentation: http://pandas.pydata.org/pandas-docs/stable/indexing.html#indexing-view-versus-copy\n",
      "  if __name__ == '__main__':\n"
     ]
    }
   ],
   "source": [
    "df3['open_acc_6m'] = df3['open_acc_6m'].fillna(0)"
   ]
  },
  {
   "cell_type": "code",
   "execution_count": 95,
   "metadata": {
    "collapsed": false
   },
   "outputs": [
    {
     "name": "stdout",
     "output_type": "stream",
     "text": [
      "<class 'pandas.core.frame.DataFrame'>\n",
      "RangeIndex: 421097 entries, 0 to 421096\n",
      "Data columns (total 12 columns):\n",
      "last_fico_range_high           421095 non-null float64\n",
      "last_fico_range_low            421095 non-null float64\n",
      "collections_12_mths_ex_med     421095 non-null float64\n",
      "mths_since_last_major_derog    421097 non-null float64\n",
      "acc_now_delinq                 421095 non-null float64\n",
      "tot_coll_amt                   421095 non-null float64\n",
      "tot_cur_bal                    421095 non-null float64\n",
      "open_acc_6m                    421097 non-null float64\n",
      "open_il_6m                     421097 non-null float64\n",
      "open_il_12m                    421097 non-null float64\n",
      "open_il_24m                    421097 non-null float64\n",
      "mths_since_rcnt_il             421097 non-null float64\n",
      "dtypes: float64(12)\n",
      "memory usage: 38.6 MB\n"
     ]
    }
   ],
   "source": [
    "df3.info()"
   ]
  },
  {
   "cell_type": "code",
   "execution_count": 96,
   "metadata": {
    "collapsed": false
   },
   "outputs": [],
   "source": [
    "df3 = df3.dropna()"
   ]
  },
  {
   "cell_type": "code",
   "execution_count": 97,
   "metadata": {
    "collapsed": false
   },
   "outputs": [
    {
     "name": "stdout",
     "output_type": "stream",
     "text": [
      "<class 'pandas.core.frame.DataFrame'>\n",
      "Int64Index: 421095 entries, 0 to 421094\n",
      "Data columns (total 12 columns):\n",
      "last_fico_range_high           421095 non-null float64\n",
      "last_fico_range_low            421095 non-null float64\n",
      "collections_12_mths_ex_med     421095 non-null float64\n",
      "mths_since_last_major_derog    421095 non-null float64\n",
      "acc_now_delinq                 421095 non-null float64\n",
      "tot_coll_amt                   421095 non-null float64\n",
      "tot_cur_bal                    421095 non-null float64\n",
      "open_acc_6m                    421095 non-null float64\n",
      "open_il_6m                     421095 non-null float64\n",
      "open_il_12m                    421095 non-null float64\n",
      "open_il_24m                    421095 non-null float64\n",
      "mths_since_rcnt_il             421095 non-null float64\n",
      "dtypes: float64(12)\n",
      "memory usage: 41.8 MB\n"
     ]
    }
   ],
   "source": [
    "df3.info()"
   ]
  },
  {
   "cell_type": "code",
   "execution_count": 98,
   "metadata": {
    "collapsed": true
   },
   "outputs": [],
   "source": [
    "df4_index = df.columns[60:80]"
   ]
  },
  {
   "cell_type": "code",
   "execution_count": 99,
   "metadata": {
    "collapsed": false
   },
   "outputs": [
    {
     "data": {
      "text/plain": [
       "['total_bal_il',\n",
       " 'il_util',\n",
       " 'open_rv_12m',\n",
       " 'open_rv_24m',\n",
       " 'max_bal_bc',\n",
       " 'all_util',\n",
       " 'total_rev_hi_lim',\n",
       " 'inq_fi',\n",
       " 'total_cu_tl',\n",
       " 'inq_last_12m',\n",
       " 'acc_open_past_24mths',\n",
       " 'avg_cur_bal',\n",
       " 'bc_open_to_buy',\n",
       " 'bc_util',\n",
       " 'chargeoff_within_12_mths',\n",
       " 'delinq_amnt',\n",
       " 'mo_sin_old_il_acct',\n",
       " 'mo_sin_old_rev_tl_op',\n",
       " 'mo_sin_rcnt_rev_tl_op',\n",
       " 'mo_sin_rcnt_tl']"
      ]
     },
     "execution_count": 99,
     "metadata": {},
     "output_type": "execute_result"
    }
   ],
   "source": [
    "list(df4_index)"
   ]
  },
  {
   "cell_type": "code",
   "execution_count": 100,
   "metadata": {
    "collapsed": true
   },
   "outputs": [],
   "source": [
    "df4 = df[['total_bal_il',\n",
    " 'il_util',\n",
    " 'open_rv_12m',\n",
    " 'open_rv_24m',\n",
    " 'max_bal_bc',\n",
    " 'all_util',\n",
    " 'total_rev_hi_lim',\n",
    " 'inq_fi',\n",
    " 'total_cu_tl',\n",
    " 'inq_last_12m',\n",
    " 'acc_open_past_24mths',\n",
    " 'avg_cur_bal',\n",
    " 'bc_open_to_buy',\n",
    " 'bc_util',\n",
    " 'chargeoff_within_12_mths',\n",
    " 'delinq_amnt',\n",
    " 'mo_sin_old_il_acct',\n",
    " 'mo_sin_old_rev_tl_op',\n",
    " 'mo_sin_rcnt_rev_tl_op',\n",
    " 'mo_sin_rcnt_tl']]"
   ]
  },
  {
   "cell_type": "code",
   "execution_count": 101,
   "metadata": {
    "collapsed": false
   },
   "outputs": [
    {
     "data": {
      "text/plain": [
       "total_bal_il                399725\n",
       "il_util                     402480\n",
       "open_rv_12m                 399725\n",
       "open_rv_24m                 399725\n",
       "max_bal_bc                  399725\n",
       "all_util                    399725\n",
       "total_rev_hi_lim                 2\n",
       "inq_fi                      399725\n",
       "total_cu_tl                 399725\n",
       "inq_last_12m                399725\n",
       "acc_open_past_24mths             2\n",
       "avg_cur_bal                      2\n",
       "bc_open_to_buy                3965\n",
       "bc_util                       4229\n",
       "chargeoff_within_12_mths         2\n",
       "delinq_amnt                      2\n",
       "mo_sin_old_il_acct           12256\n",
       "mo_sin_old_rev_tl_op             0\n",
       "mo_sin_rcnt_rev_tl_op            0\n",
       "mo_sin_rcnt_tl                   0\n",
       "dtype: int64"
      ]
     },
     "execution_count": 101,
     "metadata": {},
     "output_type": "execute_result"
    }
   ],
   "source": [
    "df4.isnull().sum()"
   ]
  },
  {
   "cell_type": "code",
   "execution_count": 102,
   "metadata": {
    "collapsed": false
   },
   "outputs": [],
   "source": [
    "df4[['total_bal_il','il_util','open_rv_12m','open_rv_24m','max_bal_bc','all_util',\n",
    "     'inq_fi','total_cu_tl','inq_last_12m','bc_open_to_buy','bc_util','mo_sin_old_il_acct']]=df4[['total_bal_il','il_util','open_rv_12m','open_rv_24m','max_bal_bc','all_util',\n",
    "     'inq_fi','total_cu_tl','inq_last_12m','bc_open_to_buy','bc_util','mo_sin_old_il_acct']].fillna(0) "
   ]
  },
  {
   "cell_type": "code",
   "execution_count": 103,
   "metadata": {
    "collapsed": true
   },
   "outputs": [],
   "source": [
    "df4=df4.dropna()"
   ]
  },
  {
   "cell_type": "code",
   "execution_count": 104,
   "metadata": {
    "collapsed": true
   },
   "outputs": [],
   "source": [
    "df5_index = df.columns[80:100]"
   ]
  },
  {
   "cell_type": "code",
   "execution_count": 105,
   "metadata": {
    "collapsed": false
   },
   "outputs": [
    {
     "data": {
      "text/plain": [
       "['mort_acc',\n",
       " 'mths_since_recent_bc',\n",
       " 'mths_since_recent_bc_dlq',\n",
       " 'mths_since_recent_inq',\n",
       " 'mths_since_recent_revol_delinq',\n",
       " 'num_accts_ever_120_pd',\n",
       " 'num_actv_bc_tl',\n",
       " 'num_actv_rev_tl',\n",
       " 'num_bc_sats',\n",
       " 'num_bc_tl',\n",
       " 'num_il_tl',\n",
       " 'num_op_rev_tl',\n",
       " 'num_rev_accts',\n",
       " 'num_rev_tl_bal_gt_0',\n",
       " 'num_sats',\n",
       " 'num_tl_120dpd_2m',\n",
       " 'num_tl_30dpd',\n",
       " 'num_tl_90g_dpd_24m',\n",
       " 'num_tl_op_past_12m',\n",
       " 'pct_tl_nvr_dlq']"
      ]
     },
     "execution_count": 105,
     "metadata": {},
     "output_type": "execute_result"
    }
   ],
   "source": [
    "list(df5_index)"
   ]
  },
  {
   "cell_type": "code",
   "execution_count": 106,
   "metadata": {
    "collapsed": true
   },
   "outputs": [],
   "source": [
    "df5 = df[['mort_acc',\n",
    " 'mths_since_recent_bc',\n",
    " 'mths_since_recent_bc_dlq',\n",
    " 'mths_since_recent_inq',\n",
    " 'mths_since_recent_revol_delinq',\n",
    " 'num_accts_ever_120_pd',\n",
    " 'num_actv_bc_tl',\n",
    " 'num_actv_rev_tl',\n",
    " 'num_bc_sats',\n",
    " 'num_bc_tl',\n",
    " 'num_il_tl',\n",
    " 'num_op_rev_tl',\n",
    " 'num_rev_accts',\n",
    " 'num_rev_tl_bal_gt_0',\n",
    " 'num_sats',\n",
    " 'num_tl_120dpd_2m',\n",
    " 'num_tl_30dpd',\n",
    " 'num_tl_90g_dpd_24m',\n",
    " 'num_tl_op_past_12m',\n",
    " 'pct_tl_nvr_dlq']]"
   ]
  },
  {
   "cell_type": "code",
   "execution_count": 107,
   "metadata": {
    "collapsed": false
   },
   "outputs": [
    {
     "data": {
      "text/plain": [
       "mort_acc                          0\n",
       "mths_since_recent_bc              0\n",
       "mths_since_recent_bc_dlq          0\n",
       "mths_since_recent_inq             0\n",
       "mths_since_recent_revol_delinq    0\n",
       "num_accts_ever_120_pd             0\n",
       "num_actv_bc_tl                    0\n",
       "num_actv_rev_tl                   0\n",
       "num_bc_sats                       0\n",
       "num_bc_tl                         0\n",
       "num_il_tl                         0\n",
       "num_op_rev_tl                     0\n",
       "num_rev_accts                     0\n",
       "num_rev_tl_bal_gt_0               0\n",
       "num_sats                          0\n",
       "num_tl_120dpd_2m                  0\n",
       "num_tl_30dpd                      0\n",
       "num_tl_90g_dpd_24m                0\n",
       "num_tl_op_past_12m                0\n",
       "pct_tl_nvr_dlq                    0\n",
       "dtype: int64"
      ]
     },
     "execution_count": 107,
     "metadata": {},
     "output_type": "execute_result"
    }
   ],
   "source": [
    "df5.isnull().sum()"
   ]
  },
  {
   "cell_type": "code",
   "execution_count": 108,
   "metadata": {
    "collapsed": true
   },
   "outputs": [],
   "source": [
    "df6_index = df.columns[100:115]"
   ]
  },
  {
   "cell_type": "code",
   "execution_count": 109,
   "metadata": {
    "collapsed": false
   },
   "outputs": [
    {
     "data": {
      "text/plain": [
       "['percent_bc_gt_75',\n",
       " 'pub_rec_bankruptcies',\n",
       " 'tax_liens',\n",
       " 'tot_hi_cred_lim',\n",
       " 'total_bal_ex_mort',\n",
       " 'total_bc_limit',\n",
       " 'total_il_high_credit_limit']"
      ]
     },
     "execution_count": 109,
     "metadata": {},
     "output_type": "execute_result"
    }
   ],
   "source": [
    "list(df6_index)"
   ]
  },
  {
   "cell_type": "code",
   "execution_count": 110,
   "metadata": {
    "collapsed": true
   },
   "outputs": [],
   "source": [
    "df6 = df[['percent_bc_gt_75',\n",
    " 'pub_rec_bankruptcies',\n",
    " 'tax_liens',\n",
    " 'tot_hi_cred_lim',\n",
    " 'total_bal_ex_mort',\n",
    " 'total_bc_limit',\n",
    " 'total_il_high_credit_limit']]"
   ]
  },
  {
   "cell_type": "code",
   "execution_count": 111,
   "metadata": {
    "collapsed": false
   },
   "outputs": [
    {
     "data": {
      "text/plain": [
       "percent_bc_gt_75              0\n",
       "pub_rec_bankruptcies          0\n",
       "tax_liens                     0\n",
       "tot_hi_cred_lim               0\n",
       "total_bal_ex_mort             0\n",
       "total_bc_limit                0\n",
       "total_il_high_credit_limit    0\n",
       "dtype: int64"
      ]
     },
     "execution_count": 111,
     "metadata": {},
     "output_type": "execute_result"
    }
   ],
   "source": [
    "df6.isnull().sum()"
   ]
  },
  {
   "cell_type": "code",
   "execution_count": 112,
   "metadata": {
    "collapsed": false
   },
   "outputs": [
    {
     "data": {
      "text/plain": [
       "Index([u'loan_amnt', u'grade', u'sub_grade', u'emp_length', u'home_ownership',\n",
       "       u'annual_inc', u'verification_status', u'loan_status', u'purpose',\n",
       "       u'addr_state', u'dti', u'delinq_2yrs', u'fico_range_low'],\n",
       "      dtype='object')"
      ]
     },
     "execution_count": 112,
     "metadata": {},
     "output_type": "execute_result"
    }
   ],
   "source": [
    "df1.columns"
   ]
  },
  {
   "cell_type": "code",
   "execution_count": 113,
   "metadata": {
    "collapsed": false
   },
   "outputs": [],
   "source": [
    "data_df = pd.concat([df1, df2, df3, df4, df5, df6], axis=1, join_axes=[df1.index])\n"
   ]
  },
  {
   "cell_type": "code",
   "execution_count": 114,
   "metadata": {
    "collapsed": false
   },
   "outputs": [
    {
     "name": "stdout",
     "output_type": "stream",
     "text": [
      "<class 'pandas.core.frame.DataFrame'>\n",
      "Int64Index: 421095 entries, 0 to 421094\n",
      "Data columns (total 83 columns):\n",
      "loan_amnt                         421095 non-null float64\n",
      "grade                             421095 non-null object\n",
      "sub_grade                         421095 non-null object\n",
      "emp_length                        421095 non-null object\n",
      "home_ownership                    421095 non-null object\n",
      "annual_inc                        421095 non-null float64\n",
      "verification_status               421095 non-null object\n",
      "loan_status                       421095 non-null object\n",
      "purpose                           421095 non-null object\n",
      "addr_state                        421095 non-null object\n",
      "dti                               421095 non-null float64\n",
      "delinq_2yrs                       421095 non-null float64\n",
      "fico_range_low                    421095 non-null float64\n",
      "fico_range_high                   421095 non-null float64\n",
      "inq_last_6mths                    421095 non-null float64\n",
      "mths_since_last_delinq            421095 non-null float64\n",
      "mths_since_last_record            421095 non-null float64\n",
      "open_acc                          421095 non-null float64\n",
      "pub_rec                           421095 non-null float64\n",
      "revol_bal                         421095 non-null float64\n",
      "revol_util                        421095 non-null object\n",
      "total_acc                         421095 non-null float64\n",
      "recoveries                        421095 non-null float64\n",
      "collection_recovery_fee           421095 non-null float64\n",
      "last_fico_range_high              421095 non-null float64\n",
      "last_fico_range_low               421095 non-null float64\n",
      "collections_12_mths_ex_med        421095 non-null float64\n",
      "mths_since_last_major_derog       421095 non-null float64\n",
      "acc_now_delinq                    421095 non-null float64\n",
      "tot_coll_amt                      421095 non-null float64\n",
      "tot_cur_bal                       421095 non-null float64\n",
      "open_acc_6m                       421095 non-null float64\n",
      "open_il_6m                        421095 non-null float64\n",
      "open_il_12m                       421095 non-null float64\n",
      "open_il_24m                       421095 non-null float64\n",
      "mths_since_rcnt_il                421095 non-null float64\n",
      "total_bal_il                      421095 non-null float64\n",
      "il_util                           421095 non-null float64\n",
      "open_rv_12m                       421095 non-null float64\n",
      "open_rv_24m                       421095 non-null float64\n",
      "max_bal_bc                        421095 non-null float64\n",
      "all_util                          421095 non-null float64\n",
      "total_rev_hi_lim                  421095 non-null float64\n",
      "inq_fi                            421095 non-null float64\n",
      "total_cu_tl                       421095 non-null float64\n",
      "inq_last_12m                      421095 non-null float64\n",
      "acc_open_past_24mths              421095 non-null float64\n",
      "avg_cur_bal                       421095 non-null float64\n",
      "bc_open_to_buy                    421095 non-null float64\n",
      "bc_util                           421095 non-null float64\n",
      "chargeoff_within_12_mths          421095 non-null float64\n",
      "delinq_amnt                       421095 non-null float64\n",
      "mo_sin_old_il_acct                421095 non-null float64\n",
      "mo_sin_old_rev_tl_op              421095 non-null float64\n",
      "mo_sin_rcnt_rev_tl_op             421095 non-null float64\n",
      "mo_sin_rcnt_tl                    421095 non-null float64\n",
      "mort_acc                          421095 non-null float64\n",
      "mths_since_recent_bc              421095 non-null float64\n",
      "mths_since_recent_bc_dlq          421095 non-null float64\n",
      "mths_since_recent_inq             421095 non-null float64\n",
      "mths_since_recent_revol_delinq    421095 non-null float64\n",
      "num_accts_ever_120_pd             421095 non-null float64\n",
      "num_actv_bc_tl                    421095 non-null float64\n",
      "num_actv_rev_tl                   421095 non-null float64\n",
      "num_bc_sats                       421095 non-null float64\n",
      "num_bc_tl                         421095 non-null float64\n",
      "num_il_tl                         421095 non-null float64\n",
      "num_op_rev_tl                     421095 non-null float64\n",
      "num_rev_accts                     421095 non-null float64\n",
      "num_rev_tl_bal_gt_0               421095 non-null float64\n",
      "num_sats                          421095 non-null float64\n",
      "num_tl_120dpd_2m                  421095 non-null float64\n",
      "num_tl_30dpd                      421095 non-null float64\n",
      "num_tl_90g_dpd_24m                421095 non-null float64\n",
      "num_tl_op_past_12m                421095 non-null float64\n",
      "pct_tl_nvr_dlq                    421095 non-null float64\n",
      "percent_bc_gt_75                  421095 non-null float64\n",
      "pub_rec_bankruptcies              421095 non-null float64\n",
      "tax_liens                         421095 non-null float64\n",
      "tot_hi_cred_lim                   421095 non-null float64\n",
      "total_bal_ex_mort                 421095 non-null float64\n",
      "total_bc_limit                    421095 non-null float64\n",
      "total_il_high_credit_limit        421095 non-null float64\n",
      "dtypes: float64(74), object(9)\n",
      "memory usage: 269.9+ MB\n"
     ]
    }
   ],
   "source": [
    "data_df.info()"
   ]
  },
  {
   "cell_type": "code",
   "execution_count": 115,
   "metadata": {
    "collapsed": true
   },
   "outputs": [],
   "source": [
    "#IN THE HOME OWNERSHIP COLUMN THERE ARE TWO CUSTOMERS WITH 'ANY'.  GIVEN THAT THE TWO CUSTOMERS\n",
    "#HAVE 1 AND 4 MORTGAGE ACCOUNTS COLLECTIVELY.  I AM GOING TO ASSIGN THEIR HOME_OWNERSHIP \n",
    "#STATUS AS 'MORTGAGE"
   ]
  },
  {
   "cell_type": "code",
   "execution_count": 116,
   "metadata": {
    "collapsed": false
   },
   "outputs": [],
   "source": [
    "any_df = data_df[data_df['home_ownership'] == 'ANY']"
   ]
  },
  {
   "cell_type": "code",
   "execution_count": 117,
   "metadata": {
    "collapsed": false
   },
   "outputs": [
    {
     "data": {
      "text/plain": [
       "26479     4.0\n",
       "203227    1.0\n",
       "Name: mort_acc, dtype: float64"
      ]
     },
     "execution_count": 117,
     "metadata": {},
     "output_type": "execute_result"
    }
   ],
   "source": [
    "any_df['mort_acc']"
   ]
  },
  {
   "cell_type": "code",
   "execution_count": 118,
   "metadata": {
    "collapsed": false
   },
   "outputs": [],
   "source": [
    "def change_homeownership(x):\n",
    "    if x == 'ANY':\n",
    "        return'MORTGAGE'\n",
    "    else:\n",
    "        return x"
   ]
  },
  {
   "cell_type": "code",
   "execution_count": null,
   "metadata": {
    "collapsed": true
   },
   "outputs": [],
   "source": [
    "data_df['home_ownership'] = data_df['home_ownership'].apply(change_homeownership)"
   ]
  },
  {
   "cell_type": "code",
   "execution_count": null,
   "metadata": {
    "collapsed": false
   },
   "outputs": [],
   "source": [
    "data_df.to_csv('Lending_Club_Data_Cleaned.csv', index=False)"
   ]
  },
  {
   "cell_type": "code",
   "execution_count": null,
   "metadata": {
    "collapsed": true
   },
   "outputs": [],
   "source": [
    "# sns.regplot(advertising.TV, advertising.Sales, order=1, ci=None, scatter_kws={'color':'r'})\n",
    "# plt.xlim(-10,310) \n",
    "# plt.ylim(ymin=0);"
   ]
  },
  {
   "cell_type": "code",
   "execution_count": null,
   "metadata": {
    "collapsed": false
   },
   "outputs": [],
   "source": [
    "data_df.info()"
   ]
  },
  {
   "cell_type": "code",
   "execution_count": null,
   "metadata": {
    "collapsed": true
   },
   "outputs": [],
   "source": []
  }
 ],
 "metadata": {
  "anaconda-cloud": {},
  "kernelspec": {
   "display_name": "Python [default]",
   "language": "python",
   "name": "python2"
  },
  "language_info": {
   "codemirror_mode": {
    "name": "ipython",
    "version": 2
   },
   "file_extension": ".py",
   "mimetype": "text/x-python",
   "name": "python",
   "nbconvert_exporter": "python",
   "pygments_lexer": "ipython2",
   "version": "2.7.12"
  }
 },
 "nbformat": 4,
 "nbformat_minor": 1
}
